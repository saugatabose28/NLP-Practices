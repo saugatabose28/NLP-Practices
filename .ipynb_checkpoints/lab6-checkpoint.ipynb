{
 "cells": [
  {
   "cell_type": "markdown",
   "id": "7ddd032f-1dbb-4fdb-a588-1d117e83cb67",
   "metadata": {},
   "source": [
    "# Lab 6: spaCy\n",
    "\n",
    "Today, you will learn about spaCy, a robust and widely used library for NLP. This lab is based on [a tutorial](https://course.spacy.io/en/)  by Ines Montani, one of the creators of spaCy. One fun note - the other founder of spaCy completed his PhD at USyd!\n",
    "\n",
    "First, we need to install the library:"
   ]
  },
  {
   "cell_type": "code",
   "execution_count": null,
   "id": "6b82a730-511c-43a2-af1a-8b50c91d3d06",
   "metadata": {},
   "outputs": [],
   "source": [
    "!pip install spacy"
   ]
  },
  {
   "cell_type": "markdown",
   "id": "f99e8326-3dcd-44d9-8126-fabb78357a5f",
   "metadata": {},
   "source": [
    "# Core parts of spaCy\n",
    "\n",
    "At the center of spaCy is the object containing the processing pipeline. We usually call this variable \"nlp\".\n",
    "\n",
    "For example, to create an English `nlp` object, you can `import spacy` and use the `spacy.blank` method to create a blank English pipeline. You can use the `nlp` object like a function to analyze text.\n",
    "\n",
    "It contains all the different components in the pipeline.\n",
    "\n",
    "It also includes language-specific rules used for tokenizing the text into words and punctuation. spaCy supports a variety of languages."
   ]
  },
  {
   "cell_type": "code",
   "execution_count": null,
   "id": "86155a3c-9cf3-4ef6-860b-840c44954b6a",
   "metadata": {},
   "outputs": [],
   "source": [
    "# Import spaCy\n",
    "import spacy\n",
    "\n",
    "# Create a blank English nlp object\n",
    "nlp = spacy.blank(\"en\")"
   ]
  },
  {
   "attachments": {},
   "cell_type": "markdown",
   "id": "5c556762-3337-413d-9a31-f3236031654d",
   "metadata": {},
   "source": [
    "When you process a text with the `nlp` object, spaCy creates a `Doc` object – short for \"document\". The Doc lets you access information about the text in a structured way, and no information is lost.\n",
    "\n",
    "Each document contains a series of tokens\n",
    "\n",
    "![image.png](https://course.spacy.io/doc.png)\n",
    "\n",
    "`Token` objects represent the tokens in a document – for example, a word or a punctuation character.\n",
    "\n",
    "To get a token at a specific position, you can index into the doc.\n",
    "\n",
    "`Token` objects also provide various attributes that let you access more information about the tokens. For example, the `.text` attribute returns the verbatim token text.\n",
    "\n",
    "The Doc behaves like a normal Python sequence by the way and lets you iterate over its tokens, or get a token by its index."
   ]
  },
  {
   "cell_type": "code",
   "execution_count": null,
   "id": "f4735300-7da0-4354-9d95-0160f6c57f9a",
   "metadata": {},
   "outputs": [],
   "source": [
    "# Created by processing a string of text with the nlp object\n",
    "doc = nlp(\"Hello world!\")\n",
    "\n",
    "# Index into the Doc to get a single Token\n",
    "token = doc[1]\n",
    "\n",
    "# Get the token text via the .text attribute\n",
    "print(token.text)\n",
    "\n",
    "# Iterate over tokens in a Doc\n",
    "for token in doc:\n",
    "    print(token.text)"
   ]
  },
  {
   "attachments": {},
   "cell_type": "markdown",
   "id": "0660c725-cd9c-4f1d-a4f7-cec81e8562b6",
   "metadata": {},
   "source": [
    "A `Span` object is a slice of the document consisting of one or more tokens. It's only a view of the `Doc` and doesn't contain any data itself.\n",
    "\n",
    "![image.png](https://course.spacy.io/doc_span.png)\n",
    "\n",
    "To create a span, you can use Python's slice notation. For example, `1:3` will create a slice starting from the token at position 1, up to – but not including! – the token at position 3."
   ]
  },
  {
   "cell_type": "code",
   "execution_count": null,
   "id": "9b8bd06b-3ceb-4b58-a08e-7bc16719d8d6",
   "metadata": {},
   "outputs": [],
   "source": [
    "doc = nlp(\"Hello NLP class!\")\n",
    "\n",
    "# A slice from the Doc is a Span object\n",
    "span = doc[1:3]\n",
    "\n",
    "# Get the span text via the .text attribute\n",
    "print(span.text)"
   ]
  },
  {
   "cell_type": "markdown",
   "id": "e210223c-9f5f-4aea-af4c-73fda98cc7c8",
   "metadata": {},
   "source": [
    "Here you can see some of the available token attributes:\n",
    "\n",
    "`i` is the index of the token within the parent document.\n",
    "\n",
    "`text` returns the token text.\n",
    "\n",
    "`is_alpha`, `is_punct` and `like_num` return boolean values indicating whether the token consists of alphabetic characters, whether it's punctuation or whether it resembles a number. For example, a token \"10\" – one, zero – or the word \"ten\" – T, E, N.\n",
    "\n",
    "These attributes are also called lexical attributes: they refer to the entry in the vocabulary and don't depend on the token's context."
   ]
  },
  {
   "cell_type": "code",
   "execution_count": null,
   "id": "5479028d-b97a-4a64-bf9b-e5873ce9f172",
   "metadata": {},
   "outputs": [],
   "source": [
    "doc = nlp(\"It costs $5.\")\n",
    "print(\"Index:   \", [token.i for token in doc])\n",
    "print(\"Text:    \", [token.text for token in doc])\n",
    "\n",
    "print(\"is_alpha:\", [token.is_alpha for token in doc])\n",
    "print(\"is_punct:\", [token.is_punct for token in doc])\n",
    "print(\"like_num:\", [token.like_num for token in doc])"
   ]
  },
  {
   "cell_type": "markdown",
   "id": "13cca145-bbae-41ca-89ad-b5144ddbec32",
   "metadata": {},
   "source": [
    "Now let's try applying what you learned above.\n",
    "\n",
    "- Use `spacy.blank` to create a blank English (`\"en\"`) `nlp` object.\n",
    "- Create a `doc` for the sentence \"This is a sentence.\" and print its text."
   ]
  },
  {
   "cell_type": "code",
   "execution_count": null,
   "id": "33377e5b-f698-49b8-b155-62ea964bf07e",
   "metadata": {},
   "outputs": [],
   "source": [
    "# TODO"
   ]
  },
  {
   "cell_type": "markdown",
   "id": "84e1b238-bc32-468f-9dcd-78e3f3968f33",
   "metadata": {},
   "source": [
    "spaCy supports many different languages.\n",
    "\n",
    "Try doing the same thing, but this time in German (`\"de\"`) with \"Das ist ein Satz.\""
   ]
  },
  {
   "cell_type": "code",
   "execution_count": null,
   "id": "67517444-e869-481e-8148-3e81fd7fd6c5",
   "metadata": {},
   "outputs": [],
   "source": [
    "# TODO"
   ]
  },
  {
   "cell_type": "markdown",
   "id": "3325ec3b-8873-4b47-aa4b-885e1eede81a",
   "metadata": {},
   "source": [
    "And again, in Spanish (`\"es\"`) with \"Esta es una frase.\""
   ]
  },
  {
   "cell_type": "code",
   "execution_count": null,
   "id": "a872f07c-cab8-4a68-98d7-7c47fd6c0e3f",
   "metadata": {},
   "outputs": [],
   "source": [
    "# TODO"
   ]
  },
  {
   "cell_type": "markdown",
   "id": "753f713c-c823-45f7-961d-bbe9eb8f67ca",
   "metadata": {},
   "source": [
    "When you call `nlp` on a string, spaCy first tokenizes the text and creates a document object. In this exercise, you’ll learn more about the `Doc`, as well as its views `Token` and `Span`.\n",
    "\n",
    "Step 1\n",
    "- Use `spacy.blank` to create the English `nlp` object for the sentence \"I like tree kangaroos and narwhals.\".\n",
    "- Process the text and instantiate a `Doc` object.\n",
    "- Select the first token of the `Doc` and print its `text`.\n",
    "- Create a slice of the `Doc` for the tokens “tree kangaroos” and “tree kangaroos and narwhals”."
   ]
  },
  {
   "cell_type": "code",
   "execution_count": null,
   "id": "078db539-6fb5-4d45-8ca1-e2a3b617e017",
   "metadata": {},
   "outputs": [],
   "source": [
    "# TODO"
   ]
  },
  {
   "cell_type": "markdown",
   "id": "21c019dc-9458-4103-8b6c-277f0d19d52b",
   "metadata": {},
   "source": [
    "Now, let's use spaCy’s Doc and Token objects, and lexical attributes to find things in text.\n",
    "\n",
    "Try to find every time a percentage is mentioned. You’ll be looking for a token that is a number, followed by a token that is a percent sign.\n",
    "\n",
    "- Create a `Doc` for the text \"In 1990, more than 60% of people in East Asia were in extreme poverty. Now less than 4% are.\"\n",
    "- Use the `like_num` token attribute to check whether a token in the `doc` resembles a number.\n",
    "- Get the token following the current token in the document. Remember that `token.i` gives you the position of a token in a document.\n",
    "- Check whether the next token’s `text` attribute is a percent sign ”%“."
   ]
  },
  {
   "cell_type": "code",
   "execution_count": null,
   "id": "5f39f255-8a91-4fb1-b19d-90e80faaf322",
   "metadata": {},
   "outputs": [],
   "source": [
    "# TODO"
   ]
  },
  {
   "cell_type": "markdown",
   "id": "6dc325d7-f7e7-47ea-8df9-aed3a373eb96",
   "metadata": {},
   "source": [
    "So far, we've used the `nlp` module on its own, with some built-in capabilities (e.g., breaking text up into a series of tokens).\n",
    "\n",
    "To do more, we use *trained pipelines*. These are models that enable spaCy to predict linguistic attributes in context, e.g.,\n",
    "- Part-of-speech tags\n",
    "- Syntactic dependencies\n",
    "- Named entities\n",
    "\n",
    "Trained pipeline components have statistical models that enable spaCy to make predictions in context.  Pipelines are trained on large datasets of labeled examples. They can be updated with more examples to fine-tune their predictions – for example, to perform better on your specific data.\n",
    "\n",
    "spaCy provides a number of trained pipeline packages you can download using the `spacy download` command. For example, the \"en_core_web_sm\" package is a small English pipeline that supports all core capabilities and is trained on web text."
   ]
  },
  {
   "cell_type": "code",
   "execution_count": null,
   "id": "f51d2ab6-07a5-4553-8bce-e534caa16518",
   "metadata": {},
   "outputs": [],
   "source": [
    "!python -m spacy download en_core_web_sm"
   ]
  },
  {
   "cell_type": "markdown",
   "id": "864860f8-f624-46a3-abb8-4f4678e4f5e3",
   "metadata": {},
   "source": [
    "The `spacy.load` method loads a pipeline package by name and returns an nlp object. The package provides the binary weights that enable spaCy to make predictions. It also includes the vocabulary, meta information about the pipeline and the configuration file used to train it. It tells spaCy which language class to use and how to configure the processing pipeline."
   ]
  },
  {
   "cell_type": "code",
   "execution_count": null,
   "id": "42ee1de7-5729-4140-988e-d29ca8d1b19e",
   "metadata": {},
   "outputs": [],
   "source": [
    "nlp = spacy.load(\"en_core_web_sm\")"
   ]
  },
  {
   "cell_type": "markdown",
   "id": "249c282f-21e4-4b52-92c3-55228b9b2246",
   "metadata": {},
   "source": [
    "## Part of Speech tags\n",
    "\n",
    "Let's take a look at the model's predictions. In this example, we're using spaCy to predict part-of-speech tags, the word types in context.\n",
    "\n",
    "The code prints both `token.pos_` and `token.pos`. Attributes that return strings usually end with an underscore. Attributes without the underscore return an integer ID value.\n",
    "\n",
    "Here, the model correctly predicts all of the POS tags."
   ]
  },
  {
   "cell_type": "code",
   "execution_count": null,
   "id": "d6d6bc13-26bf-460c-9274-5eed38bb4f9d",
   "metadata": {},
   "outputs": [],
   "source": [
    "import spacy\n",
    "\n",
    "# Load the small English pipeline\n",
    "nlp = spacy.load(\"en_core_web_sm\")\n",
    "\n",
    "# Process a text\n",
    "doc = nlp(\"She ate the pizza\")\n",
    "\n",
    "# Iterate over the tokens\n",
    "for token in doc:\n",
    "    # Print the text and the predicted part-of-speech tag\n",
    "    print(token.text, token.pos_, token.pos)"
   ]
  },
  {
   "cell_type": "markdown",
   "id": "51f5b792-7b71-4565-b055-8c351267675d",
   "metadata": {},
   "source": [
    "## Syntax\n",
    "\n",
    "In addition to the part-of-speech tags, we can also predict syntactic structures. As a reminder, syntax captures how words in text are related. For example, whether a word is the subject or object of the main verb in the sentence.\n",
    "\n",
    "The `.dep_` attribute returns the predicted dependency label.\n",
    "\n",
    "The `.head` attribute returns the syntactic head token. You can also think of it as the parent token this word is modifying / attached to."
   ]
  },
  {
   "cell_type": "code",
   "execution_count": null,
   "id": "9b5aa75a-a677-4368-bcf5-91fba42eeeb2",
   "metadata": {},
   "outputs": [],
   "source": [
    "for token in doc:\n",
    "    print(token.text, token.pos_, token.dep_, token.head)"
   ]
  },
  {
   "attachments": {},
   "cell_type": "markdown",
   "id": "b72ee0ce-105b-4048-ab56-3f93054e0471",
   "metadata": {},
   "source": [
    "To describe syntactic dependencies, spaCy uses a standardized label scheme. Here's an example of some common labels:\n",
    "\n",
    "The pronoun \"She\" is a nominal subject attached to the verb – in this case, to \"ate\".\n",
    "\n",
    "The noun \"pizza\" is a direct object attached to the verb \"ate\". It is eaten by the subject, \"she\".\n",
    "\n",
    "The determiner \"the\", also known as an article, is attached to the noun \"pizza\".\n",
    "\n",
    "We can draw the structure like this (as generated by displaCy, another part of the library):\n",
    "\n",
    "![image.png](https://course.spacy.io/dep_example.png)\n",
    "\n",
    "## Named Entities\n",
    "\n",
    "Named entities are \"real world objects\" that are assigned a name – for example, a person, an organization or a country.\n",
    "\n",
    "The `doc.ents` property lets you access the named entities predicted by the named entity recognition model.\n",
    "\n",
    "![image.png](https://course.spacy.io/ner_example.png)\n",
    "\n",
    "It returns an iterator of `Span` objects, so we can print the entity text and the entity label using the `.label_` attribute.\n",
    "\n",
    "In this case, the model is correctly predicting \"Apple\" as an organization, \"U.K.\" as a geopolitical entity and \"$1 billion\" as money."
   ]
  },
  {
   "cell_type": "code",
   "execution_count": null,
   "id": "2edddf6a-e019-4cee-92bf-233180dc7197",
   "metadata": {},
   "outputs": [],
   "source": [
    "# Process a text\n",
    "doc = nlp(\"Apple is looking at buying U.K. startup for $1 billion\")\n",
    "\n",
    "# Iterate over the predicted entities\n",
    "for ent in doc.ents:\n",
    "    # Print the entity text and its label\n",
    "    print(ent.text, ent.label_)"
   ]
  },
  {
   "cell_type": "markdown",
   "id": "617b974a-8409-4372-b9a6-2beac0971664",
   "metadata": {},
   "source": [
    "A quick tip: To get definitions for the most common tags and labels, you can use the `spacy.explain` helper function.\n",
    "\n",
    "For example, \"GPE\" for geopolitical entity isn't exactly intuitive – but `spacy.explain` can tell you that it refers to countries, cities and states.\n",
    "\n",
    "The same works for part-of-speech tags and dependency labels."
   ]
  },
  {
   "cell_type": "code",
   "execution_count": null,
   "id": "53d85e5d-837f-4eb2-a81c-f0a327029a36",
   "metadata": {},
   "outputs": [],
   "source": [
    "print(\"Named entity label GPE means:\\n\", spacy.explain(\"GPE\"))\n",
    "print(\"POS tag NNP means:\\n\", spacy.explain(\"NNP\"))\n",
    "print(\"Dependency type dobj means:\\n\", spacy.explain(\"dobj\"))"
   ]
  },
  {
   "cell_type": "markdown",
   "id": "3c7b4669-d6fd-4aea-8ee2-c869d00fd6ac",
   "metadata": {},
   "source": [
    "# Task 1\n",
    "\n",
    "Write code to do the following:\n",
    "\n",
    "- Download the `en_core_web_md` model (a slightly larger and more accurate model)\n",
    "- Make one `nlp` object using the `en_core_web_md` model and one using the `en_core_web_sm` model from above\n",
    "- Run each one on \"Fruit flies like a banana\"\n",
    "- Print out the POS tags and dependencies produced by each model and identify any differences"
   ]
  },
  {
   "cell_type": "code",
   "execution_count": null,
   "id": "2ed9dc0b-23a7-46be-ac12-af6ef0dd67c9",
   "metadata": {},
   "outputs": [],
   "source": [
    "# TODO"
   ]
  },
  {
   "cell_type": "markdown",
   "id": "203a73c4-bf8c-4783-8ede-bef778fb8c8b",
   "metadata": {},
   "source": [
    "# Matching\n",
    "\n",
    "Next, we'll take a look at spaCy's matcher, which lets you write rules to find words and phrases in text.\n",
    "\n",
    "If you are familiar with regular expressions, then they may be what you think of when looking for specific patterns in text. However, they are over strings. Here, we want to define patterns over `Doc` and `Token` objects too. For example, we might want to find the word \"duck\" but only if it's a verb, not a noun.\n",
    "\n",
    "Match patterns are lists of dictionaries. Each dictionary describes one token. The keys are the names of token attributes, mapped to their expected values. To use a pattern, we initialise it with the shared vocabulary, `nlp.vocab`. You'll learn more about this later – for now, just remember to always pass it in. The `matcher.add` method lets you add a pattern. The first argument is a unique ID to identify which pattern was matched. The second argument is a list of patterns.\n",
    "\n",
    "To match the pattern on a text, we can call the matcher on any doc. This will return the matches. Each tuple consists of three values: the  ID of the pattern that matched, the start index and the end index of the matched span. This means we can iterate over the matches and create a Span object: a slice of the doc at the start and end index."
   ]
  },
  {
   "cell_type": "code",
   "execution_count": null,
   "id": "3ea6e283-57e4-4f45-a161-24cb21020ed2",
   "metadata": {},
   "outputs": [],
   "source": [
    "# Import the Matcher\n",
    "from spacy.matcher import Matcher\n",
    "\n",
    "# Load a pipeline and create the nlp object\n",
    "nlp = spacy.load(\"en_core_web_sm\")\n",
    "\n",
    "# Initialize the matcher with the shared vocab\n",
    "matcher = Matcher(nlp.vocab)\n",
    "\n",
    "# Add the pattern to the matcher\n",
    "pattern = [{\"TEXT\": \"iPhone\"}, {\"TEXT\": \"X\"}]\n",
    "matcher.add(\"IPHONE_PATTERN\", [pattern])\n",
    "\n",
    "# Process some text\n",
    "doc = nlp(\"iPhone X news! Upcoming iPhone X release date leaked\")\n",
    "\n",
    "# Call the matcher on the doc\n",
    "matches = matcher(doc)\n",
    "\n",
    "# Iterate over the matches\n",
    "for pattern_id, start, end in matches:\n",
    "    # Get the matched span\n",
    "    matched_span = doc[start:end]\n",
    "    print('\"{}\" - match for pattern {} in span ({}, {})'.format(matched_span.text, pattern_id, start, end))"
   ]
  },
  {
   "cell_type": "markdown",
   "id": "00fddec2-59eb-434c-8706-7cb929e5eaf9",
   "metadata": {},
   "source": [
    "Here's an example of a more complex pattern using lexical attributes.\n",
    "\n",
    "We're looking for a five token sequence:\n",
    "- A token consisting of only digits.\n",
    "- Three case-insensitive tokens for \"fifa\", \"world\" and \"cup\" (`LOWER` indicates that once lowercased, the token must match the one we provide).\n",
    "- A token that consists of punctuation."
   ]
  },
  {
   "cell_type": "code",
   "execution_count": null,
   "id": "425b7b8a-f80b-4d36-93b4-de65e50946ba",
   "metadata": {},
   "outputs": [],
   "source": [
    "pattern = [\n",
    "    {\"IS_DIGIT\": True},\n",
    "    {\"LOWER\": \"fifa\"},\n",
    "    {\"LOWER\": \"world\"},\n",
    "    {\"LOWER\": \"cup\"},\n",
    "    {\"IS_PUNCT\": True}\n",
    "]\n",
    "matcher = Matcher(nlp.vocab)\n",
    "matcher.add(\"SOCCER_PATTERN\", [pattern])\n",
    "\n",
    "doc = nlp(\"2018 FIFA World Cup: France won!\")\n",
    "\n",
    "matches = matcher(doc)\n",
    "for pattern_id, start, end in matches:\n",
    "    matched_span = doc[start:end]\n",
    "    print('\"{}\" - match for pattern {} in span ({}, {})'.format(matched_span.text, pattern_id, start, end))"
   ]
  },
  {
   "cell_type": "markdown",
   "id": "1ffa2e42-3f00-4e25-b149-362e9751486d",
   "metadata": {},
   "source": [
    "In this example, we're looking for two tokens. A verb with the lemma \"love\", followed by a noun. Remember that a lemma is a canonical form of a word that has multiple variations, e.g., 'run' is a lemma for 'ran', 'running', and 'run'."
   ]
  },
  {
   "cell_type": "code",
   "execution_count": null,
   "id": "647be67c-7ccc-44fe-9a3c-a40b2a8fa5a1",
   "metadata": {},
   "outputs": [],
   "source": [
    "pattern = [\n",
    "    {\"LEMMA\": \"love\", \"POS\": \"VERB\"},\n",
    "    {\"POS\": \"NOUN\"}\n",
    "]\n",
    "matcher = Matcher(nlp.vocab)\n",
    "matcher.add(\"LOVE_PATTERN\", [pattern])\n",
    "\n",
    "doc = nlp(\"I loved vanilla but now I love chocolate more.\")\n",
    "\n",
    "matches = matcher(doc)\n",
    "for pattern_id, start, end in matches:\n",
    "    matched_span = doc[start:end]\n",
    "    print('\"{}\" - match for pattern {} in span ({}, {})'.format(matched_span.text, pattern_id, start, end))"
   ]
  },
  {
   "cell_type": "markdown",
   "id": "9b1e1f92-9333-400b-8b2e-d430ab773e43",
   "metadata": {},
   "source": [
    "Operators and quantifiers let you define how often a token should be matched. They can be added using the \"OP\" key. \"OP\" can have one of four values:\n",
    "\n",
    "- An \"!\" negates the token, so it's matched 0 times.\n",
    "- A \"?\" makes the token optional, and matches it 0 or 1 times.\n",
    "- A \"+\" matches a token 1 or more times.\n",
    "- And finally, an \"*\" matches 0 or more times.\n",
    "\n",
    "Operators can make your patterns a lot more powerful, but they also add more complexity – so use them wisely.\n",
    "\n",
    "Here, the \"?\" operator makes the determiner token optional, so it will match a token with the lemma \"buy\", an optional article and a noun."
   ]
  },
  {
   "cell_type": "code",
   "execution_count": null,
   "id": "167c9fe8-7938-4dba-afc5-0d76fb9df9cc",
   "metadata": {},
   "outputs": [],
   "source": [
    "pattern = [\n",
    "    {\"LEMMA\": \"buy\"},\n",
    "    {\"POS\": \"DET\", \"OP\": \"?\"},  # optional: match 0 or 1 times\n",
    "    {\"POS\": \"NOUN\"}\n",
    "]\n",
    "matcher = Matcher(nlp.vocab)\n",
    "matcher.add(\"BUY_PATTERN\", [pattern])\n",
    "\n",
    "doc = nlp(\"I bought a smartphone. Now I'm buying apps.\")\n",
    "\n",
    "matches = matcher(doc)\n",
    "for pattern_id, start, end in matches:\n",
    "    matched_span = doc[start:end]\n",
    "    print('\"{}\" - match for pattern {} in span ({}, {})'.format(matched_span.text, pattern_id, start, end))"
   ]
  },
  {
   "cell_type": "markdown",
   "id": "d192471f-7215-46dd-b2ee-e6debf3ef79a",
   "metadata": {},
   "source": [
    "Try writing code to match names of iOS versions in the text below, e.g., \"iOS 5\", and \"iOS 13\""
   ]
  },
  {
   "cell_type": "code",
   "execution_count": null,
   "id": "e445e44f-4af0-4a50-a142-8f37f3d14f38",
   "metadata": {},
   "outputs": [],
   "source": [
    "text = \"\"\"After making the iOS update you won't notice a radical system-wide\n",
    "redesign: nothing like the aesthetic upheaval we got with iOS 7. Most of\n",
    "iOS 11's furniture remains the same as in iOS 10. But you will discover some\n",
    "tweaks once you delve a little deeper.\"\"\"\n",
    "\n",
    "# TODO"
   ]
  },
  {
   "cell_type": "markdown",
   "id": "52d1f7e0-8512-4c1d-b9ac-2f9f66412b80",
   "metadata": {},
   "source": [
    "Now try writing code to match forms of “download” (tokens with the lemma “download”), followed by a token with the part-of-speech tag \"PROPN\" (proper noun)."
   ]
  },
  {
   "cell_type": "code",
   "execution_count": null,
   "id": "44ebc19a-9921-4f3d-a7f9-9c5fee3e8d97",
   "metadata": {},
   "outputs": [],
   "source": [
    "text = \"\"\"i downloaded Fortnite on my laptop and can't open the game at all. Help?\n",
    "so when I was downloading Minecraft, I got the Windows version where it\n",
    "is the '.zip' folder and I used the default program to unpack it... do\n",
    "I also need to download Winzip?\"\"\"\n",
    "\n",
    "# TODO"
   ]
  },
  {
   "cell_type": "markdown",
   "id": "794491ec-4b3a-4277-8774-eeae574de4d0",
   "metadata": {},
   "source": [
    "Finally, write a pattern that matches an adjective (`ADJ`) followed by one or two nouns (`NOUN`)."
   ]
  },
  {
   "cell_type": "code",
   "execution_count": null,
   "id": "9583c4e5-b4fe-4b50-b991-a2d9f814c6cd",
   "metadata": {},
   "outputs": [],
   "source": [
    "text = \"Features of the app include a beautiful design, smart search, automatic labels and optional voice responses.\"\n",
    "\n",
    "# TODO"
   ]
  },
  {
   "cell_type": "markdown",
   "id": "1d277cb7-ccd8-4c01-9d04-52c075b85b98",
   "metadata": {},
   "source": [
    "# Customising Processing\n",
    "\n",
    "spaCy stores all shared data in a vocabulary, the Vocab. This includes words, but also the labels schemes for tags and entities. To save memory, all strings are encoded to hash IDs. If a word occurs more than once, we don't need to save it every time. Instead, spaCy uses a hash function to generate an ID and stores the string only once in the string store. The string store is available as nlp.vocab.strings.\n",
    "\n",
    "It's a lookup table that works in both directions. You can look up a string and get its hash, and look up a hash to get its string value. Internally, spaCy only communicates in hash IDs."
   ]
  },
  {
   "cell_type": "code",
   "execution_count": null,
   "id": "aa78f14e-423f-4a18-b9e5-1da841e227ea",
   "metadata": {},
   "outputs": [],
   "source": [
    "nlp = spacy.blank(\"en\")\n",
    "\n",
    "# Look up the hash for the word \"hat\"\n",
    "hat_hash = nlp.vocab.strings[\"hat\"]\n",
    "print(hat_hash)\n",
    "\n",
    "# Look up the cat_hash to get the string\n",
    "hat_string = nlp.vocab.strings[hat_hash]\n",
    "print(hat_string)"
   ]
  },
  {
   "cell_type": "markdown",
   "id": "4cd2c4e4-665a-4e69-86f2-b498932b0cee",
   "metadata": {},
   "source": [
    "Lexemes are context-independent entries in the vocabulary. You can get a lexeme by looking up a string or a hash ID in the vocab. Lexemes expose attributes, just like tokens. They hold context-independent information about a word, like the text, or whether the word consists of alphabetic characters."
   ]
  },
  {
   "cell_type": "code",
   "execution_count": null,
   "id": "8400cac0-9ab7-4e03-92ba-3a7a351cbbc8",
   "metadata": {},
   "outputs": [],
   "source": [
    "lexeme = nlp.vocab[\"tea\"]\n",
    "\n",
    "# Print the lexical attributes\n",
    "print(lexeme.text, lexeme.orth, lexeme.is_alpha)"
   ]
  },
  {
   "cell_type": "markdown",
   "id": "a59f934f-7ce3-4b08-8942-e6ff44fac6be",
   "metadata": {},
   "source": [
    "So far, we've been creating `Doc`s by passing in some text and letting spaCy tokenise the text. We can also provide pre-tokenised text:"
   ]
  },
  {
   "cell_type": "code",
   "execution_count": null,
   "id": "e89cf424-461b-4fbb-a266-a1f6d26577f9",
   "metadata": {},
   "outputs": [],
   "source": [
    "# Import the Doc class\n",
    "from spacy.tokens import Doc\n",
    "\n",
    "# The words to create the doc from\n",
    "words = [\"Hello\", \"world\", \"!\"]\n",
    "# Boolean values, one for each word, indicating if there is a space after it in the text\n",
    "spaces = [True, False, False]\n",
    "\n",
    "# Create a doc manually\n",
    "doc = Doc(nlp.vocab, words=words, spaces=spaces)\n",
    "print(doc)"
   ]
  },
  {
   "cell_type": "markdown",
   "id": "7ed3e282-ec35-4019-93af-c7e39707ed84",
   "metadata": {},
   "source": [
    "Earlier we created spans from `Doc`s, but we can also create them manually and we can manually change the list of labeled spans in the doc (the entities, `ents`):"
   ]
  },
  {
   "cell_type": "code",
   "execution_count": null,
   "id": "4e8482bb-1388-43ea-a6d9-54adb3abe3e2",
   "metadata": {},
   "outputs": [],
   "source": [
    "# Import the Doc and Span classes\n",
    "from spacy.tokens import Span\n",
    "\n",
    "# Create a span manually\n",
    "span = Span(doc, 0, 2)\n",
    "\n",
    "# Create a span with a label\n",
    "span_with_label = Span(doc, 0, 2, label=\"GREETING\")\n",
    "\n",
    "# Add span to the doc.ents\n",
    "doc.ents = [span_with_label]\n",
    "print(doc)\n",
    "print(doc.ents)"
   ]
  },
  {
   "attachments": {},
   "cell_type": "markdown",
   "id": "a789e86d-9c6d-4f48-9f25-039eb12ceb83",
   "metadata": {},
   "source": [
    "You've already written this plenty of times by now: pass a string of text to the nlp object, and receive a Doc object.\n",
    "\n",
    "But what does the nlp object actually do?\n",
    "\n",
    "First, the tokenizer is applied to turn the string of text into a Doc object. Next, a series of pipeline components is applied to the doc in order. In this case, the tagger, then the parser, then the entity recognizer. Finally, the processed doc is returned, so you can work with it.\n",
    "\n",
    "![image.png](https://course.spacy.io/pipeline.png)\n",
    "\n",
    "spaCy ships with a variety of built-in pipeline components. Here are some of the most common ones that you'll want to use in your projects.\n",
    "\n",
    "- The part-of-speech tagger sets the token.tag and token.pos attributes.\n",
    "- The dependency parser adds the token.dep and token.head attributes and is also responsible for detecting sentences and base noun phrases, also known as noun chunks.\n",
    "- The named entity recognizer adds the detected entities to the doc.ents property. It also sets entity type attributes on the tokens that indicate if a token is part of an entity or not.\n",
    "- Finally, the text classifier sets category labels that apply to the whole text, and adds them to the doc.cats property.\n",
    "\n",
    "Because text categories are always very specific, the text classifier is not included in any of the trained pipelines by default. But you can use it to train your own system.\n",
    "\n"
   ]
  },
  {
   "cell_type": "code",
   "execution_count": null,
   "id": "9f47108d-51e7-4953-9e92-35ab7b58763d",
   "metadata": {},
   "outputs": [],
   "source": [
    "# List the components for the current nlp pipeline\n",
    "print(nlp.pipe_names)\n",
    "\n",
    "# Print the names and their corresponding objects\n",
    "print(nlp.pipeline)"
   ]
  },
  {
   "cell_type": "markdown",
   "id": "799737b6-7171-4165-8228-a9b71bcdf2cc",
   "metadata": {},
   "source": [
    "You can also create your own components. Each pipeline component is a function or callable that takes a doc, modifies it and returns it, so it can be processed by the next component in the pipeline.\n",
    "\n",
    "To tell spaCy where to find your custom component and how it should be called, you can decorate it using the @Language.component decorator. \n",
    " Once a component is registered, it can be added to the pipeline using the nlp.add_pipe method. The method takes at least one argument: the string name of the component.\n",
    "\n",
    "Below, we create a custom component that will print the length of the document as part of processing it."
   ]
  },
  {
   "cell_type": "code",
   "execution_count": null,
   "id": "9b7adbc2-c4f1-4a58-973d-0b719f2bfbb2",
   "metadata": {},
   "outputs": [],
   "source": [
    "from spacy.language import Language\n",
    "\n",
    "# Create the nlp object\n",
    "nlp = spacy.load(\"en_core_web_sm\")\n",
    "\n",
    "# Define a custom component\n",
    "@Language.component(\"custom_component\")\n",
    "def custom_component_function(doc):\n",
    "    # Print the doc's length\n",
    "    print(\"Doc length:\", len(doc))\n",
    "    # Return the doc object\n",
    "    return doc\n",
    "\n",
    "# Add the component first in the pipeline\n",
    "nlp.add_pipe(\"custom_component\", first=True)\n",
    "\n",
    "# Print the pipeline component names\n",
    "print(\"Pipeline:\", nlp.pipe_names)\n",
    "\n",
    "# Run pipeline\n",
    "doc = nlp(\"A sample sentence.\")"
   ]
  },
  {
   "cell_type": "markdown",
   "id": "d92850dd-24c3-43ab-96df-357192212da3",
   "metadata": {},
   "source": [
    "# Task 2\n",
    "\n",
    "We're going to combine several ideas from above in this task. Implement a new pipeline component that uses a matcher to find the following insects:\n",
    "\n",
    "- flies\n",
    "- mosquitos\n",
    "- moths\n",
    "\n",
    "Your matcher should then modify the documents entities to have a span for each insect, with the label `INSECT`. Remember to use lemmas to account for different ways of writing an insect's name and to use POS tags to ensure you only identify nouns.\n",
    "\n",
    "Run your new pipeline on the provided text."
   ]
  },
  {
   "cell_type": "code",
   "execution_count": null,
   "id": "06cba671-d84c-49ca-9154-db8ded3315f0",
   "metadata": {},
   "outputs": [],
   "source": [
    "text = \"Qantas flies all sorts of cargo! That includes moths, mosquitos, and even the occasional fly. Mosquitos are particular hard to transport safely.\"\n",
    "\n",
    "# TODO"
   ]
  },
  {
   "cell_type": "markdown",
   "id": "f5a7b0ab-34ec-4aee-87d2-b53f9eb216a1",
   "metadata": {},
   "source": [
    "# Word Vectors\n",
    "\n",
    "spaCy can compare two objects and predict how similar they are – for example, documents, spans or single tokens. The Doc, Token and Span objects have a .similarity method that takes another object and returns the cosine similarity of their representations.\n",
    "\n",
    "For words, the word vector is its representation. For spans and docs, the average of word vectors for the words inside them is used.\n",
    "\n",
    "One thing that's very important: In order to use similarity, you need a larger spaCy pipeline that has word vectors included. Of the ones we've used so far, `en_core_web_md` does have word vectors, but `en_core_web_sm` does not."
   ]
  },
  {
   "cell_type": "code",
   "execution_count": null,
   "id": "7108f6d7-0857-40b0-b8c8-e2923f248a7b",
   "metadata": {},
   "outputs": [],
   "source": [
    "# Load a larger pipeline with vectors\n",
    "nlp = spacy.load(\"en_core_web_md\")\n",
    "\n",
    "# Look at one word vector\n",
    "doc = nlp(\"I love chocolate\")\n",
    "print(doc[2].vector)\n",
    "\n",
    "# Compare two documents\n",
    "doc1 = nlp(\"I like fast food\")\n",
    "doc2 = nlp(\"I like pizza\")\n",
    "print(\"Comparing sentences:\", doc1.similarity(doc2))\n",
    "\n",
    "# Compare two tokens\n",
    "doc = nlp(\"I like pizza and pasta\")\n",
    "token1 = doc[2]\n",
    "token2 = doc[4]\n",
    "print(\"Comparing 'pizza' and 'paste':\", token1.similarity(token2))"
   ]
  },
  {
   "cell_type": "markdown",
   "id": "430a5878-5129-4f86-9177-15b1993b1de9",
   "metadata": {},
   "source": [
    "# Useful Tips\n",
    "\n",
    "**Fast Processing** - If you need to process a lot of texts and create a lot of `Doc` objects in a row, the `nlp.pipe` method can speed this up significantly. It processes the texts as a stream and yields Doc objects."
   ]
  },
  {
   "cell_type": "code",
   "execution_count": null,
   "id": "cb3719af-8705-4138-aad8-a212db2790e7",
   "metadata": {},
   "outputs": [],
   "source": [
    "LOTS_OF_TEXTS = [\"First example!\", \"Second example.\"]\n",
    "\n",
    "for doc in nlp.pipe(LOTS_OF_TEXTS):\n",
    "    print(doc)"
   ]
  },
  {
   "cell_type": "markdown",
   "id": "6098d74d-71a8-4676-8e90-ec2881eb69bd",
   "metadata": {},
   "source": [
    "**Context** - If you want to keep some information associated with each document, you can specify a context and it will be passed through the nlp pipe command. You can then write code to save it as a new property of the document."
   ]
  },
  {
   "cell_type": "code",
   "execution_count": null,
   "id": "97f50d1a-88c1-4e08-be1d-2d11ea857a7a",
   "metadata": {},
   "outputs": [],
   "source": [
    "data = [\n",
    "    (\"This is a text\", {\"id\": 1, \"page_number\": 15}),\n",
    "    (\"And another text\", {\"id\": 2, \"page_number\": 16}),\n",
    "]\n",
    "\n",
    "# Define new class members for the document\n",
    "try:\n",
    "    Doc.set_extension(\"id\", default=None)\n",
    "    Doc.set_extension(\"page_number\", default=None)\n",
    "except ValueError:\n",
    "    print(\"Catching an error that happens if you run this cell of the notebook twice.\")\n",
    "    \n",
    "# Put values in the class as we iterate over the documents\n",
    "for doc, context in nlp.pipe(data, as_tuples=True):\n",
    "    doc._.id = context[\"id\"]\n",
    "    doc._.page_number = context[\"page_number\"]\n",
    "    print(doc.text, doc._.id)"
   ]
  },
  {
   "cell_type": "markdown",
   "id": "62749236-a8da-4537-8b36-ae5603a73ca5",
   "metadata": {},
   "source": [
    "**Skip Pipeline Steps** - Sometimes you don't need all of the spaCy components. Skip some "
   ]
  },
  {
   "cell_type": "code",
   "execution_count": null,
   "id": "5d5e2fe4-4a68-45da-a185-a79356d96d4e",
   "metadata": {},
   "outputs": [],
   "source": [
    "doc = nlp(\"This is a fun course.\")\n",
    "print(\"Tags with normal pipeline:\", [t.tag_ for t in doc])\n",
    "\n",
    "# Create a doc, but don't run any pipeline steps\n",
    "doc = nlp.make_doc(\"This is a fun course.\")\n",
    "print(\"Tags with just make_doc:\", [t.tag_ for t in doc])\n",
    "\n",
    "text = \"\"\"Chick-fil-A is an American fast food restaurant chain headquartered in \n",
    "the city of College Park, Georgia, specializing in chicken sandwiches.\"\"\"\n",
    "\n",
    "# Disable the tagger and lemmatizer\n",
    "with nlp.select_pipes(disable=[\"tagger\", \"parser\"]):\n",
    "    # Process the text\n",
    "    doc = nlp(text)\n",
    "    # Print the entities in the doc\n",
    "    print(doc.ents)\n",
    "    print(\"Tags without tagger:\", [t.tag_ for t in doc])"
   ]
  }
 ],
 "metadata": {
  "kernelspec": {
   "display_name": "Python 3 (ipykernel)",
   "language": "python",
   "name": "python3"
  },
  "language_info": {
   "codemirror_mode": {
    "name": "ipython",
    "version": 3
   },
   "file_extension": ".py",
   "mimetype": "text/x-python",
   "name": "python",
   "nbconvert_exporter": "python",
   "pygments_lexer": "ipython3",
   "version": "3.9.6"
  }
 },
 "nbformat": 4,
 "nbformat_minor": 5
}
