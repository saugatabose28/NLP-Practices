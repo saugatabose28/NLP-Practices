{
 "cells": [
  {
   "cell_type": "markdown",
   "metadata": {
    "id": "U9Ys6-F1xKbD",
    "jupyter": {
     "source_hidden": true
    },
    "tags": []
   },
   "source": [
    "Lab 3 - Introduction to PyTorch\n",
    "==========================\n",
    "\n",
    "This is based on the [Introduction to PyTorch](https://pytorch.org/tutorials/beginner/basics/intro.html) and [text classification with the torchtext library](https://pytorch.org/tutorials/beginner/text_sentiment_ngrams_tutorial.html) tutorials from the official PyTorch website.\n",
    "\n",
    "# PyTorch\n",
    "\n",
    "PyTorch is one of the most widely used libraries for implementing models in NLP today (and all of AI). Today, we'll be learning the basics of the library, including the low-level building blocks of all neural networks.\n",
    "\n",
    "First, we need to install it (note, this can take a little while):"
   ]
  },
  {
   "cell_type": "code",
   "execution_count": 1,
   "metadata": {
    "colab": {
     "base_uri": "https://localhost:8080/"
    },
    "id": "xrycejPyxKbE",
    "outputId": "63cb1a7b-65a0-4faa-c02e-1ccf4d90891c",
    "tags": []
   },
   "outputs": [
    {
     "name": "stdout",
     "output_type": "stream",
     "text": [
      "Collecting torch\n",
      "  Downloading torch-2.2.1-cp39-cp39-manylinux1_x86_64.whl (755.5 MB)\n",
      "\u001b[K     |████████████████                | 380.1 MB 132.6 MB/s eta 0:00:036       | 306.7 MB 132.6 MB/s eta 0:00:04██▎                  | 314.4 MB 132.6 MB/s eta 0:00:04    |██████████████▏                 | 335.5 MB 132.6 MB/s eta 0:00:04"
     ]
    },
    {
     "name": "stderr",
     "output_type": "stream",
     "text": [
      "IOPub data rate exceeded.\n",
      "The Jupyter server will temporarily stop sending output\n",
      "to the client in order to avoid crashing it.\n",
      "To change this limit, set the config variable\n",
      "`--ServerApp.iopub_data_rate_limit`.\n",
      "\n",
      "Current values:\n",
      "ServerApp.iopub_data_rate_limit=1000000.0 (bytes/sec)\n",
      "ServerApp.rate_limit_window=3.0 (secs)\n",
      "\n"
     ]
    },
    {
     "name": "stdout",
     "output_type": "stream",
     "text": [
      "\u001b[K     |████████████████████████████████| 755.5 MB 10 kB/s s eta 0:00:012     |██████████████████████████████▏ | 712.5 MB 26.9 MB/s eta 0:00:02\n",
      "\u001b[?25hCollecting torchvision\n",
      "  Downloading torchvision-0.17.1-cp39-cp39-manylinux1_x86_64.whl (6.9 MB)\n",
      "\u001b[K     |████████████████████████████████| 6.9 MB 34.0 MB/s eta 0:00:01\n",
      "\u001b[?25hCollecting torchaudio\n",
      "  Downloading torchaudio-2.2.1-cp39-cp39-manylinux1_x86_64.whl (3.3 MB)\n",
      "\u001b[K     |████████████████████████████████| 3.3 MB 37.0 MB/s eta 0:00:01\n",
      "\u001b[?25hCollecting nvidia-cuda-nvrtc-cu12==12.1.105\n",
      "  Downloading nvidia_cuda_nvrtc_cu12-12.1.105-py3-none-manylinux1_x86_64.whl (23.7 MB)\n",
      "\u001b[K     |████████████████████████████████| 23.7 MB 701 kB/s  eta 0:00:01\n",
      "\u001b[?25hCollecting nvidia-cudnn-cu12==8.9.2.26\n",
      "  Downloading nvidia_cudnn_cu12-8.9.2.26-py3-none-manylinux1_x86_64.whl (731.7 MB)\n",
      "\u001b[K     |███████████████████████████████▎| 715.2 MB 57.2 MB/s eta 0:00:013    |█████████████▊                  | 314.6 MB 67.5 MB/s eta 0:00:07�██████████                 | 344.2 MB 67.5 MB/s eta 0:00:06��▌               | 377.9 MB 60.9 MB/s eta 0:00:06�████████            | 457.0 MB 104.5 MB/s eta 0:00:03     |████████████████████▏           | 461.6 MB 104.5 MB/s eta 0:00:03"
     ]
    },
    {
     "name": "stderr",
     "output_type": "stream",
     "text": [
      "IOPub data rate exceeded.\n",
      "The Jupyter server will temporarily stop sending output\n",
      "to the client in order to avoid crashing it.\n",
      "To change this limit, set the config variable\n",
      "`--ServerApp.iopub_data_rate_limit`.\n",
      "\n",
      "Current values:\n",
      "ServerApp.iopub_data_rate_limit=1000000.0 (bytes/sec)\n",
      "ServerApp.rate_limit_window=3.0 (secs)\n",
      "\n"
     ]
    },
    {
     "name": "stdout",
     "output_type": "stream",
     "text": [
      "\u001b[K     |████████████████████████████████| 731.7 MB 10 kB/s \n",
      "\u001b[?25hCollecting nvidia-cublas-cu12==12.1.3.1\n",
      "  Downloading nvidia_cublas_cu12-12.1.3.1-py3-none-manylinux1_x86_64.whl (410.6 MB)\n",
      "\u001b[K     |███████████████████████████▊    | 355.7 MB 124.2 MB/s eta 0:00:01�███▋                      | 123.9 MB 52.4 MB/s eta 0:00:06�██████████▎        | 298.8 MB 85.2 MB/s eta 0:00:02�██▏      | 323.4 MB 85.2 MB/s eta 0:00:02"
     ]
    },
    {
     "name": "stderr",
     "output_type": "stream",
     "text": [
      "IOPub data rate exceeded.\n",
      "The Jupyter server will temporarily stop sending output\n",
      "to the client in order to avoid crashing it.\n",
      "To change this limit, set the config variable\n",
      "`--ServerApp.iopub_data_rate_limit`.\n",
      "\n",
      "Current values:\n",
      "ServerApp.iopub_data_rate_limit=1000000.0 (bytes/sec)\n",
      "ServerApp.rate_limit_window=3.0 (secs)\n",
      "\n"
     ]
    },
    {
     "name": "stdout",
     "output_type": "stream",
     "text": [
      "\u001b[K     |████████████████████████████████| 410.6 MB 5.0 kB/s \n",
      "\u001b[?25hCollecting triton==2.2.0\n",
      "  Downloading triton-2.2.0-cp39-cp39-manylinux_2_17_x86_64.manylinux2014_x86_64.whl (167.9 MB)\n",
      "\u001b[K     |████████████████████████████████| 167.9 MB 58.8 MB/s eta 0:00:01    |██████████▉                     | 56.9 MB 71.9 MB/s eta 0:00:02��███████▋              | 92.2 MB 71.9 MB/s eta 0:00:02��█████████████████████████   | 152.2 MB 91.9 MB/s eta 0:00:01\n",
      "\u001b[?25hCollecting nvidia-cusolver-cu12==11.4.5.107\n",
      "  Downloading nvidia_cusolver_cu12-11.4.5.107-py3-none-manylinux1_x86_64.whl (124.2 MB)\n",
      "\u001b[K     |████████████████████████████████| 124.2 MB 36 kB/s /s eta 0:00:01██████▉                     | 42.0 MB 50.7 MB/s eta 0:00:020.7 MB/s eta 0:00:02��████████████▉    | 108.2 MB 128.3 MB/s eta 0:00:01    |█████████████████████████████   | 112.5 MB 128.3 MB/s eta 0:00:01\n",
      "\u001b[?25hCollecting nvidia-cusparse-cu12==12.1.0.106\n",
      "  Downloading nvidia_cusparse_cu12-12.1.0.106-py3-none-manylinux1_x86_64.whl (196.0 MB)\n",
      "\u001b[K     |████████████████████████████████| 196.0 MB 55 kB/s s eta 0:00:01█▏      | 153.8 MB 91.6 MB/s eta 0:00:01\n",
      "\u001b[?25hCollecting nvidia-cuda-runtime-cu12==12.1.105\n",
      "  Downloading nvidia_cuda_runtime_cu12-12.1.105-py3-none-manylinux1_x86_64.whl (823 kB)\n",
      "\u001b[K     |████████████████████████████████| 823 kB 32.3 MB/s eta 0:00:01\n",
      "\u001b[?25hCollecting networkx\n",
      "  Downloading networkx-3.2.1-py3-none-any.whl (1.6 MB)\n",
      "\u001b[K     |████████████████████████████████| 1.6 MB 61.5 MB/s eta 0:00:01\n",
      "\u001b[?25hCollecting fsspec\n",
      "  Downloading fsspec-2024.2.0-py3-none-any.whl (170 kB)\n",
      "\u001b[K     |████████████████████████████████| 170 kB 49.8 MB/s eta 0:00:01\n",
      "\u001b[?25hCollecting nvidia-curand-cu12==10.3.2.106\n",
      "  Downloading nvidia_curand_cu12-10.3.2.106-py3-none-manylinux1_x86_64.whl (56.5 MB)\n",
      "\u001b[K     |████████████████████████████████| 56.5 MB 151 kB/s  eta 0:00:01\n",
      "\u001b[?25hCollecting nvidia-cuda-cupti-cu12==12.1.105\n",
      "  Downloading nvidia_cuda_cupti_cu12-12.1.105-py3-none-manylinux1_x86_64.whl (14.1 MB)\n",
      "\u001b[K     |████████████████████████████████| 14.1 MB 53.1 MB/s eta 0:00:01\n",
      "\u001b[?25hCollecting nvidia-cufft-cu12==11.0.2.54\n",
      "  Downloading nvidia_cufft_cu12-11.0.2.54-py3-none-manylinux1_x86_64.whl (121.6 MB)\n",
      "\u001b[K     |████████████████████████████████| 121.6 MB 81 kB/s  eta 0:00:01��████████▋    | 104.9 MB 5.0 MB/s eta 0:00:043 MB 5.0 MB/s eta 0:00:02\n",
      "\u001b[?25hCollecting sympy\n",
      "  Downloading sympy-1.12-py3-none-any.whl (5.7 MB)\n",
      "\u001b[K     |████████████████████████████████| 5.7 MB 47.2 MB/s eta 0:00:01\n",
      "\u001b[?25hCollecting filelock\n",
      "  Downloading filelock-3.13.1-py3-none-any.whl (11 kB)\n",
      "Collecting typing-extensions>=4.8.0\n",
      "  Downloading typing_extensions-4.10.0-py3-none-any.whl (33 kB)\n",
      "Collecting nvidia-nccl-cu12==2.19.3\n",
      "  Downloading nvidia_nccl_cu12-2.19.3-py3-none-manylinux1_x86_64.whl (166.0 MB)\n",
      "\u001b[K     |████████████████████████████████| 166.0 MB 15.8 MB/s eta 0:00:011▌                           | 23.3 MB 46.2 MB/s eta 0:00:04███████████████████▏           | 104.5 MB 120.9 MB/s eta 0:00:01\n",
      "\u001b[?25hCollecting nvidia-nvtx-cu12==12.1.105\n",
      "  Downloading nvidia_nvtx_cu12-12.1.105-py3-none-manylinux1_x86_64.whl (99 kB)\n",
      "\u001b[K     |████████████████████████████████| 99 kB 21.1 MB/s  eta 0:00:01\n",
      "\u001b[?25hRequirement already satisfied: jinja2 in /home/studio-lab-user/.conda/envs/default/lib/python3.9/site-packages (from torch) (3.1.2)\n",
      "Collecting nvidia-nvjitlink-cu12\n",
      "  Downloading nvidia_nvjitlink_cu12-12.4.99-py3-none-manylinux2014_x86_64.whl (21.1 MB)\n",
      "\u001b[K     |████████████████████████████████| 21.1 MB 57.3 MB/s eta 0:00:01\n",
      "\u001b[?25hCollecting numpy\n",
      "  Downloading numpy-1.26.4-cp39-cp39-manylinux_2_17_x86_64.manylinux2014_x86_64.whl (18.2 MB)\n",
      "\u001b[K     |████████████████████████████████| 18.2 MB 56.9 MB/s eta 0:00:01\n",
      "\u001b[?25hCollecting pillow!=8.3.*,>=5.3.0\n",
      "  Downloading pillow-10.2.0-cp39-cp39-manylinux_2_28_x86_64.whl (4.5 MB)\n",
      "\u001b[K     |████████████████████████████████| 4.5 MB 19.6 MB/s eta 0:00:01\n",
      "\u001b[?25hRequirement already satisfied: MarkupSafe>=2.0 in /home/studio-lab-user/.conda/envs/default/lib/python3.9/site-packages (from jinja2->torch) (2.1.3)\n",
      "Collecting mpmath>=0.19\n",
      "  Downloading mpmath-1.3.0-py3-none-any.whl (536 kB)\n",
      "\u001b[K     |████████████████████████████████| 536 kB 66.9 MB/s eta 0:00:01\n",
      "\u001b[?25hInstalling collected packages: nvidia-nvjitlink-cu12, nvidia-cusparse-cu12, nvidia-cublas-cu12, mpmath, filelock, typing-extensions, triton, sympy, nvidia-nvtx-cu12, nvidia-nccl-cu12, nvidia-cusolver-cu12, nvidia-curand-cu12, nvidia-cufft-cu12, nvidia-cudnn-cu12, nvidia-cuda-runtime-cu12, nvidia-cuda-nvrtc-cu12, nvidia-cuda-cupti-cu12, networkx, fsspec, torch, pillow, numpy, torchvision, torchaudio\n",
      "  Attempting uninstall: typing-extensions\n",
      "    Found existing installation: typing-extensions 4.7.1\n",
      "    Uninstalling typing-extensions-4.7.1:\n",
      "      Successfully uninstalled typing-extensions-4.7.1\n",
      "Successfully installed filelock-3.13.1 fsspec-2024.2.0 mpmath-1.3.0 networkx-3.2.1 numpy-1.26.4 nvidia-cublas-cu12-12.1.3.1 nvidia-cuda-cupti-cu12-12.1.105 nvidia-cuda-nvrtc-cu12-12.1.105 nvidia-cuda-runtime-cu12-12.1.105 nvidia-cudnn-cu12-8.9.2.26 nvidia-cufft-cu12-11.0.2.54 nvidia-curand-cu12-10.3.2.106 nvidia-cusolver-cu12-11.4.5.107 nvidia-cusparse-cu12-12.1.0.106 nvidia-nccl-cu12-2.19.3 nvidia-nvjitlink-cu12-12.4.99 nvidia-nvtx-cu12-12.1.105 pillow-10.2.0 sympy-1.12 torch-2.2.1 torchaudio-2.2.1 torchvision-0.17.1 triton-2.2.0 typing-extensions-4.10.0\n"
     ]
    }
   ],
   "source": [
    "!pip3 install torch torchvision torchaudio"
   ]
  },
  {
   "cell_type": "markdown",
   "metadata": {
    "id": "9UNfIpwsxKbE"
   },
   "source": [
    "Now we can import it and see what version we have."
   ]
  },
  {
   "cell_type": "code",
   "execution_count": 2,
   "metadata": {
    "colab": {
     "base_uri": "https://localhost:8080/"
    },
    "id": "kDtpE_zSxKbE",
    "outputId": "7f89d53e-2e1a-48e5-c36e-beab0522a8d9",
    "tags": []
   },
   "outputs": [
    {
     "name": "stdout",
     "output_type": "stream",
     "text": [
      "2.2.1+cu121\n"
     ]
    }
   ],
   "source": [
    "import torch\n",
    "print(torch.__version__)"
   ]
  },
  {
   "cell_type": "markdown",
   "metadata": {
    "id": "stHZDQc-xKbE",
    "tags": []
   },
   "source": [
    "# Tensors\n",
    "\n",
    "Tensors are a specialized data structure that are very similar to arrays and matrices.\n",
    "In PyTorch, tensors encode:\n",
    "- The inputs to a model\n",
    "- The outputs of a model\n",
    "- A model's parameters (e.g., weights)\n",
    "\n",
    "Tensors are similar to [NumPy’s](https://numpy.org/) ndarrays, except that tensors can run on GPUs or other hardware accelerators. In fact, tensors and\n",
    "NumPy arrays can often share the same underlying memory. Tensors are also optimized for automatic differentiation (we'll see more about that later in this lab).\n",
    "\n",
    "Let's import numpy to explore the relationship between the data types:"
   ]
  },
  {
   "cell_type": "code",
   "execution_count": 3,
   "metadata": {
    "collapsed": false,
    "id": "AAE_6n0MxKbF",
    "jupyter": {
     "outputs_hidden": false
    },
    "tags": []
   },
   "outputs": [],
   "source": [
    "import numpy as np"
   ]
  },
  {
   "cell_type": "markdown",
   "metadata": {
    "id": "G11l7OYExKbF"
   },
   "source": [
    "### Initializing a Tensor\n",
    "\n",
    "Tensors can be initialized in various ways. Take a look at the following examples:\n",
    "\n",
    "**Directly from data**\n",
    "\n",
    "Tensors can be created directly from data. The data type is automatically inferred.\n",
    "\n"
   ]
  },
  {
   "cell_type": "code",
   "execution_count": 4,
   "metadata": {
    "colab": {
     "base_uri": "https://localhost:8080/"
    },
    "collapsed": false,
    "id": "r0n5hwxexKbF",
    "jupyter": {
     "outputs_hidden": false
    },
    "outputId": "8d9a04cb-8b9d-403a-b69f-da188d8c0b0f",
    "tags": []
   },
   "outputs": [
    {
     "name": "stdout",
     "output_type": "stream",
     "text": [
      "[[1, 2], [3, 4]] has type torch.int64\n",
      "[[1.0, 2.0], [3.0, 4.0]] has type torch.float32\n"
     ]
    }
   ],
   "source": [
    "data = [[1, 2],[3, 4]]\n",
    "x_data = torch.tensor(data)\n",
    "print(data, \"has type\", x_data.dtype)\n",
    "\n",
    "float_data = [[1.0, 2.0],[3.0, 4.0]]\n",
    "xf_data = torch.tensor(float_data)\n",
    "print(float_data, \"has type\", xf_data.dtype)"
   ]
  },
  {
   "cell_type": "markdown",
   "metadata": {
    "id": "dcLBFdAfxKbF"
   },
   "source": [
    "**From a NumPy array**\n",
    "\n",
    "Tensors can be created from NumPy arrays.\n",
    "\n"
   ]
  },
  {
   "cell_type": "code",
   "execution_count": 5,
   "metadata": {
    "colab": {
     "base_uri": "https://localhost:8080/"
    },
    "collapsed": false,
    "id": "lUYTROHexKbF",
    "jupyter": {
     "outputs_hidden": false
    },
    "outputId": "9c0b8178-0452-4188-b10c-8b1e2aabfd5d",
    "tags": []
   },
   "outputs": [
    {
     "name": "stdout",
     "output_type": "stream",
     "text": [
      "From NumPy ndarray:\n",
      " tensor([[1, 2],\n",
      "        [3, 4]])\n",
      "From List:\n",
      " tensor([[1, 2],\n",
      "        [3, 4]])\n"
     ]
    }
   ],
   "source": [
    "np_array = np.array(data)\n",
    "x_np = torch.from_numpy(np_array)\n",
    "print(\"From NumPy ndarray:\\n\", x_np)\n",
    "print(\"From List:\\n\", x_data)"
   ]
  },
  {
   "cell_type": "markdown",
   "metadata": {
    "id": "8QmCYJ_5xKbF"
   },
   "source": [
    "**From another tensor:**\n",
    "\n",
    "Tensors can be created from other tensors. The new tensor retains the properties (shape, datatype) of the argument tensor, unless explicitly overridden.\n",
    "\n",
    "These two functions show examples of creating tensors with the same shape as an existing one, but new data."
   ]
  },
  {
   "cell_type": "code",
   "execution_count": 6,
   "metadata": {
    "colab": {
     "base_uri": "https://localhost:8080/"
    },
    "collapsed": false,
    "id": "1XVKVqcmxKbF",
    "jupyter": {
     "outputs_hidden": false
    },
    "outputId": "4af24d29-2ade-48f5-e3f2-50fe230d8c23",
    "tags": []
   },
   "outputs": [
    {
     "name": "stdout",
     "output_type": "stream",
     "text": [
      "Ones Tensor: \n",
      " tensor([[1, 1],\n",
      "        [1, 1]]) \n",
      "\n",
      "Random Tensor: \n",
      " tensor([[0.4493, 0.5064],\n",
      "        [0.5436, 0.8545]]) \n",
      "\n"
     ]
    }
   ],
   "source": [
    "x_ones = torch.ones_like(x_data)\n",
    "print(f\"Ones Tensor: \\n {x_ones} \\n\")\n",
    "\n",
    "x_rand = torch.rand_like(x_data, dtype=torch.float)\n",
    "print(f\"Random Tensor: \\n {x_rand} \\n\")"
   ]
  },
  {
   "cell_type": "markdown",
   "metadata": {
    "id": "2gCu57poxKbF"
   },
   "source": [
    "**From just a set of dimensions:**\n",
    "\n",
    "`shape` is a tuple of tensor dimensions. In the functions below, it determines the dimensionality of the output tensor. The contents of the tensor are determined by the function called.\n",
    "\n"
   ]
  },
  {
   "cell_type": "code",
   "execution_count": 7,
   "metadata": {
    "colab": {
     "base_uri": "https://localhost:8080/"
    },
    "collapsed": false,
    "id": "cmEPRZcvxKbF",
    "jupyter": {
     "outputs_hidden": false
    },
    "outputId": "05ce7430-fb11-4b32-bfd9-908ab3252279",
    "tags": []
   },
   "outputs": [
    {
     "name": "stdout",
     "output_type": "stream",
     "text": [
      "Random Tensor: \n",
      " tensor([[0.3957, 0.3586, 0.3756],\n",
      "        [0.5573, 0.5490, 0.4902]]) \n",
      "\n",
      "Ones Tensor: \n",
      " tensor([[1., 1., 1.],\n",
      "        [1., 1., 1.]]) \n",
      "\n",
      "Zeros Tensor: \n",
      " tensor([[0., 0., 0.],\n",
      "        [0., 0., 0.]])\n"
     ]
    }
   ],
   "source": [
    "shape = (2,3,)\n",
    "rand_tensor = torch.rand(shape)\n",
    "ones_tensor = torch.ones(shape)\n",
    "zeros_tensor = torch.zeros(shape)\n",
    "print(f\"Random Tensor: \\n {rand_tensor} \\n\")\n",
    "print(f\"Ones Tensor: \\n {ones_tensor} \\n\")\n",
    "print(f\"Zeros Tensor: \\n {zeros_tensor}\")"
   ]
  },
  {
   "cell_type": "markdown",
   "metadata": {
    "id": "9eKfCcb0xKbF"
   },
   "source": [
    "### Attributes of a Tensor\n",
    "\n",
    "Tensor attributes describe their shape, datatype, and the device on which they are stored.\n",
    "\n"
   ]
  },
  {
   "cell_type": "code",
   "execution_count": 8,
   "metadata": {
    "colab": {
     "base_uri": "https://localhost:8080/"
    },
    "collapsed": false,
    "id": "dOYjhMCIxKbF",
    "jupyter": {
     "outputs_hidden": false
    },
    "outputId": "831f3172-8959-4546-9e0a-927774b74633",
    "tags": []
   },
   "outputs": [
    {
     "name": "stdout",
     "output_type": "stream",
     "text": [
      "Shape of tensor: torch.Size([3, 4])\n",
      "Datatype of tensor: torch.float32\n",
      "Device tensor is stored on: cpu\n"
     ]
    }
   ],
   "source": [
    "tensor = torch.rand(3,4)\n",
    "\n",
    "print(f\"Shape of tensor: {tensor.shape}\")\n",
    "print(f\"Datatype of tensor: {tensor.dtype}\")\n",
    "print(f\"Device tensor is stored on: {tensor.device}\")"
   ]
  },
  {
   "cell_type": "markdown",
   "metadata": {
    "id": "3XfiZKPhxKbF"
   },
   "source": [
    "### Operations on Tensors\n",
    "\n",
    "Our models are implemented as a series of operations on tensors, e.g., multiplying tensors together, and applying non-linear functions to them.\n",
    "\n",
    "For details on the tensor opertations available, see [this page in the PyTorch documentation](https://pytorch.org/docs/stable/torch.html).\n",
    "\n",
    "Each of these operations can be run on the GPU (at typically higher speeds than on a\n",
    "CPU).\n",
    "Beyond the operations defined below, some other useful ones include:\n",
    "- `torch.tensor.view(-1)`, which reduces the tensor dimension, useful in convert batch input to single input [documentation](https://pytorch.org/docs/stable/generated/torch.Tensor.view.html)\n",
    "- `torch.squeeze`, which removes dimensions of size 1 [documentation](https://pytorch.org/docs/stable/generated/torch.squeeze.html)\n",
    "- `torch.unsqueeze`, which adds a dimension of size 1 [documentation](https://pytorch.org/docs/stable/generated/torch.unsqueeze.html)\n",
    "\n",
    "By default, tensors are created on the CPU. We need to explicitly move tensors to the GPU using\n",
    "``.to`` method (after checking for GPU availability). Keep in mind that copying large tensors\n",
    "across devices can be expensive in terms of time and memory!\n",
    "\n"
   ]
  },
  {
   "cell_type": "code",
   "execution_count": null,
   "metadata": {
    "colab": {
     "base_uri": "https://localhost:8080/"
    },
    "collapsed": false,
    "id": "HDmjarmMxKbF",
    "jupyter": {
     "outputs_hidden": false
    },
    "outputId": "4a7ebbc0-3ec1-4c53-fff7-06ef8129a3a1"
   },
   "outputs": [],
   "source": [
    "# We move our tensor to the GPU if available\n",
    "if torch.cuda.is_available():\n",
    "    print(\"GPU is available, moving tensor to it\")\n",
    "    tensor = tensor.to('cuda')\n",
    "else:\n",
    "    print(\"No GPU available\")"
   ]
  },
  {
   "cell_type": "markdown",
   "metadata": {
    "id": "8vvrPQlcxKbF"
   },
   "source": [
    "Now let's see how a few operations work."
   ]
  },
  {
   "cell_type": "markdown",
   "metadata": {
    "id": "RX3Z0_J2xKbF"
   },
   "source": [
    "**Indexing:**\n",
    "\n",
    "Indexing into a tensor is similar to accessing an element of a list. The tensor has a multidimensional structure and you can access parts of that structure."
   ]
  },
  {
   "cell_type": "code",
   "execution_count": null,
   "metadata": {
    "colab": {
     "base_uri": "https://localhost:8080/"
    },
    "collapsed": false,
    "id": "hFXZWTmuxKbF",
    "jupyter": {
     "outputs_hidden": false
    },
    "outputId": "1aa81b24-c8b0-4a91-976a-5bbc2bf09a39"
   },
   "outputs": [],
   "source": [
    "tensor = torch.rand(4, 4)\n",
    "print(\"Complete tensor:\")\n",
    "print(tensor)\n",
    "print('\\nFirst row:')\n",
    "print(tensor[0])\n",
    "print('\\nType of the first row:')\n",
    "print(type(tensor[0]))"
   ]
  },
  {
   "cell_type": "markdown",
   "metadata": {
    "id": "pVuBzSh8xKbG"
   },
   "source": [
    "**Slicing:**\n",
    "\n",
    "Sometimes we want to get a part of the tensor that does not correspond to one chunk we can index into. For example, in a 2-D tensor we may want to get a column of the tensor:"
   ]
  },
  {
   "cell_type": "code",
   "execution_count": null,
   "metadata": {
    "colab": {
     "base_uri": "https://localhost:8080/"
    },
    "id": "Ezm7tcrKxKbG",
    "outputId": "f9d78f33-89e3-4c29-bca4-b91a22c5e906",
    "tags": []
   },
   "outputs": [],
   "source": [
    "tensor = torch.rand(4, 4)\n",
    "print(\"Complete tensor:\")\n",
    "print(tensor)\n",
    "print('\\nFirst column: ', tensor[:, 0])\n",
    "print('\\nLast column:', tensor[..., -1])"
   ]
  },
  {
   "cell_type": "markdown",
   "metadata": {
    "id": "OkN4ieFnxKbG"
   },
   "source": [
    "Note that indexing and slicing gives you a view of the tensor - it does not make a copy.\n",
    "\n",
    "If you modify the slice then the corresponding part of the tensor will be adjusted:"
   ]
  },
  {
   "cell_type": "code",
   "execution_count": null,
   "metadata": {
    "colab": {
     "base_uri": "https://localhost:8080/"
    },
    "id": "AakqOPscxKbG",
    "outputId": "7c399a70-c9e6-4f47-d4d6-ec48a725c8fa",
    "tags": []
   },
   "outputs": [],
   "source": [
    "tensor = torch.rand(4, 4)\n",
    "print(\"Original tensor\")\n",
    "print(tensor)\n",
    "print(\"\\nA column of the tensor\")\n",
    "print(tensor[:,1])\n",
    "tensor[:,1] = 0\n",
    "print(\"\\nThe updated tensor\")\n",
    "print(tensor)"
   ]
  },
  {
   "cell_type": "markdown",
   "metadata": {
    "id": "2q_KUKE6xKbG"
   },
   "source": [
    "**Joining tensors**\n",
    "\n",
    "You can use `torch.cat` to concatenate a sequence of tensors along a given dimension."
   ]
  },
  {
   "cell_type": "code",
   "execution_count": null,
   "metadata": {
    "colab": {
     "base_uri": "https://localhost:8080/"
    },
    "collapsed": false,
    "id": "ohPRbDZFxKbG",
    "jupyter": {
     "outputs_hidden": false
    },
    "outputId": "0cc86fa5-48e6-47a0-9491-5ddf327a14fe"
   },
   "outputs": [],
   "source": [
    "tensor1 = torch.rand(2, 3)\n",
    "tensor2 = torch.rand(2, 3)\n",
    "print(\"Initial tensors:\")\n",
    "print(tensor1)\n",
    "print(tensor2)\n",
    "print(\"\\nCombine along dimension 0\")\n",
    "combined = torch.cat([tensor1, tensor2], dim=0)\n",
    "print(combined)\n",
    "print(\"\\nCombine along dimension 1\")\n",
    "combined = torch.cat([tensor1, tensor2], dim=1)\n",
    "print(combined)"
   ]
  },
  {
   "cell_type": "markdown",
   "metadata": {
    "id": "Iu05rnsmxKbG"
   },
   "source": [
    "We can also combine tensors and create a new dimension in the process with `torch.stack`:"
   ]
  },
  {
   "cell_type": "code",
   "execution_count": null,
   "metadata": {
    "colab": {
     "base_uri": "https://localhost:8080/"
    },
    "id": "6fumXZqWxKbG",
    "outputId": "d6c414d3-25a1-4d8c-e434-524c4c2577c1",
    "tags": []
   },
   "outputs": [],
   "source": [
    "tensor1 = torch.rand(2, 3)\n",
    "tensor2 = torch.rand(2, 3)\n",
    "print(\"Initial tensors:\")\n",
    "print(tensor1)\n",
    "print(tensor2)\n",
    "print(\"\\nStacked\")\n",
    "combined = torch.stack([tensor1, tensor2], dim=0)\n",
    "print(combined)"
   ]
  },
  {
   "cell_type": "markdown",
   "metadata": {
    "id": "dsUQ5gNsxKbG"
   },
   "source": [
    "**Arithmetic operations**\n",
    "\n"
   ]
  },
  {
   "cell_type": "code",
   "execution_count": null,
   "metadata": {
    "colab": {
     "base_uri": "https://localhost:8080/"
    },
    "collapsed": false,
    "id": "zDkbHP5AxKbG",
    "jupyter": {
     "outputs_hidden": false
    },
    "outputId": "488d636a-b662-4aa6-c212-f3fe17d7338c"
   },
   "outputs": [],
   "source": [
    "# This computes the matrix multiplication between two tensors. y1, y2, y3 will have the same value\n",
    "y1 = tensor @ tensor.T\n",
    "y2 = tensor.matmul(tensor.T)\n",
    "\n",
    "y3 = torch.rand_like(tensor)\n",
    "torch.matmul(tensor, tensor.T, out=y3)\n",
    "\n",
    "\n",
    "# This computes the element-wise product. z1, z2, z3 will have the same value\n",
    "z1 = tensor * tensor\n",
    "z2 = tensor.mul(tensor)\n",
    "\n",
    "z3 = torch.rand_like(tensor)\n",
    "torch.mul(tensor, tensor, out=z3)"
   ]
  },
  {
   "cell_type": "markdown",
   "metadata": {
    "id": "s5Lfr-clxKbG"
   },
   "source": [
    "**Single-element tensors** If you have a one-element tensor, for example by aggregating all\n",
    "values of a tensor into one value, you can convert it to a Python\n",
    "numerical value using ``item()``:\n",
    "\n"
   ]
  },
  {
   "cell_type": "code",
   "execution_count": null,
   "metadata": {
    "colab": {
     "base_uri": "https://localhost:8080/"
    },
    "collapsed": false,
    "id": "0jgy1dI1xKbG",
    "jupyter": {
     "outputs_hidden": false
    },
    "outputId": "edcfe4c9-9057-42b5-abca-3b030a959a06"
   },
   "outputs": [],
   "source": [
    "agg = tensor.sum()\n",
    "agg_item = agg.item()\n",
    "print(agg_item, type(agg_item))"
   ]
  },
  {
   "cell_type": "markdown",
   "metadata": {
    "id": "3DsDs8DdxKbG"
   },
   "source": [
    "--------------\n",
    "\n",
    "\n"
   ]
  },
  {
   "cell_type": "markdown",
   "metadata": {
    "id": "nFg_kQwVxKbG"
   },
   "source": [
    "\n",
    "### Connect with NumPy\n",
    "\n",
    "It is possible to access the same memory as both a PyTorch tensor and a NumPy array. This allows the data to be modified by either library.\n"
   ]
  },
  {
   "cell_type": "code",
   "execution_count": null,
   "metadata": {
    "colab": {
     "base_uri": "https://localhost:8080/"
    },
    "collapsed": false,
    "id": "YrN2_DXxxKbG",
    "jupyter": {
     "outputs_hidden": false
    },
    "outputId": "3f77995d-4a8a-4bf5-96d5-d5ecf0e603e8"
   },
   "outputs": [],
   "source": [
    "t = torch.ones(5)\n",
    "print(f\"t: {t} (PyTorch tensor)\")\n",
    "n = t.numpy()\n",
    "print(f\"n: {n} (NumPy array)\")\n",
    "\n",
    "print(\"\\nAdd one to the PyTorch tensor and we now have:\")\n",
    "t.add_(1)\n",
    "print(f\"t: {t}\")\n",
    "print(f\"n: {n}\")\n",
    "print(\"\\nAdd one to the NumPy array and we now have:\")\n",
    "np.add(n, 1, out=n)\n",
    "print(f\"t: {t}\")\n",
    "print(f\"n: {n}\")\n",
    "\n",
    "print(\"\\nWe can go the other way too:\")\n",
    "n = np.ones(5)\n",
    "t = torch.from_numpy(n)\n",
    "print(f\"t: {t}\")\n",
    "print(f\"n: {n}\")\n",
    "np.add(n, 1, out=n)\n",
    "print(f\"t: {t}\")\n",
    "print(f\"n: {n}\")"
   ]
  },
  {
   "cell_type": "markdown",
   "metadata": {
    "id": "um1Zb3KVxKbG"
   },
   "source": [
    "# Datasets & DataLoaders\n"
   ]
  },
  {
   "cell_type": "markdown",
   "metadata": {
    "id": "jn__jv4qxKbG"
   },
   "source": [
    "Code for processing data samples can get messy and hard to maintain; we ideally want our dataset code\n",
    "to be decoupled from our model training code for better readability and modularity.\n",
    "PyTorch provides two data primitives: `torch.utils.data.DataLoader` and `torch.utils.data.Dataset`\n",
    "that allow you to use pre-loaded datasets as well as your own data.\n",
    "`Dataset` stores the samples and their corresponding labels, and `DataLoader` wraps an iterable around\n",
    "the `Dataset` to enable easy access to the samples.\n",
    "\n",
    "PyTorch domain libraries provide a number of pre-loaded datasets (such as AG_NEWS) that\n",
    "subclass `torch.utils.data.Dataset` and implement functions specific to the particular data.\n",
    "They can be used to prototype and benchmark your model. You can find them\n",
    "here: [Image Datasets](https://pytorch.org/vision/stable/datasets.html),\n",
    "[Text Datasets](https://pytorch.org/text/stable/datasets.html), and\n",
    "[Audio Datasets](https://pytorch.org/audio/stable/datasets.html)\n",
    "\n",
    "\n"
   ]
  },
  {
   "cell_type": "markdown",
   "metadata": {
    "id": "Qi0Xm2qExKbG"
   },
   "source": [
    "## Loading a Dataset\n",
    "\n",
    "We are going to see an example of a text dataset in PyTorch. First, we need to load two libraries (note, the order these are installed in is important):"
   ]
  },
  {
   "cell_type": "code",
   "execution_count": 9,
   "metadata": {
    "colab": {
     "base_uri": "https://localhost:8080/"
    },
    "id": "eh0z-zDCxKbO",
    "outputId": "aad31c0e-677e-4934-8010-ee3990828850",
    "tags": []
   },
   "outputs": [
    {
     "name": "stdout",
     "output_type": "stream",
     "text": [
      "Collecting torchtext\n",
      "  Downloading torchtext-0.17.1-cp39-cp39-manylinux1_x86_64.whl (2.0 MB)\n",
      "\u001b[K     |████████████████████████████████| 2.0 MB 4.6 MB/s eta 0:00:01\n",
      "\u001b[?25hRequirement already satisfied: numpy in /home/studio-lab-user/.conda/envs/default/lib/python3.9/site-packages (from torchtext) (1.26.4)\n",
      "Collecting tqdm\n",
      "  Downloading tqdm-4.66.2-py3-none-any.whl (78 kB)\n",
      "\u001b[K     |████████████████████████████████| 78 kB 15.0 MB/s eta 0:00:01\n",
      "\u001b[?25hRequirement already satisfied: torch==2.2.1 in /home/studio-lab-user/.conda/envs/default/lib/python3.9/site-packages (from torchtext) (2.2.1)\n",
      "Collecting torchdata==0.7.1\n",
      "  Downloading torchdata-0.7.1-cp39-cp39-manylinux_2_17_x86_64.manylinux2014_x86_64.whl (4.7 MB)\n",
      "\u001b[K     |████████████████████████████████| 4.7 MB 37.9 MB/s eta 0:00:01\n",
      "\u001b[?25hRequirement already satisfied: requests in /home/studio-lab-user/.conda/envs/default/lib/python3.9/site-packages (from torchtext) (2.31.0)\n",
      "Requirement already satisfied: filelock in /home/studio-lab-user/.conda/envs/default/lib/python3.9/site-packages (from torch==2.2.1->torchtext) (3.13.1)\n",
      "Requirement already satisfied: nvidia-cudnn-cu12==8.9.2.26 in /home/studio-lab-user/.conda/envs/default/lib/python3.9/site-packages (from torch==2.2.1->torchtext) (8.9.2.26)\n",
      "Requirement already satisfied: nvidia-nccl-cu12==2.19.3 in /home/studio-lab-user/.conda/envs/default/lib/python3.9/site-packages (from torch==2.2.1->torchtext) (2.19.3)\n",
      "Requirement already satisfied: nvidia-nvtx-cu12==12.1.105 in /home/studio-lab-user/.conda/envs/default/lib/python3.9/site-packages (from torch==2.2.1->torchtext) (12.1.105)\n",
      "Requirement already satisfied: fsspec in /home/studio-lab-user/.conda/envs/default/lib/python3.9/site-packages (from torch==2.2.1->torchtext) (2024.2.0)\n",
      "Requirement already satisfied: nvidia-curand-cu12==10.3.2.106 in /home/studio-lab-user/.conda/envs/default/lib/python3.9/site-packages (from torch==2.2.1->torchtext) (10.3.2.106)\n",
      "Requirement already satisfied: nvidia-cusolver-cu12==11.4.5.107 in /home/studio-lab-user/.conda/envs/default/lib/python3.9/site-packages (from torch==2.2.1->torchtext) (11.4.5.107)\n",
      "Requirement already satisfied: triton==2.2.0 in /home/studio-lab-user/.conda/envs/default/lib/python3.9/site-packages (from torch==2.2.1->torchtext) (2.2.0)\n",
      "Requirement already satisfied: nvidia-cuda-nvrtc-cu12==12.1.105 in /home/studio-lab-user/.conda/envs/default/lib/python3.9/site-packages (from torch==2.2.1->torchtext) (12.1.105)\n",
      "Requirement already satisfied: sympy in /home/studio-lab-user/.conda/envs/default/lib/python3.9/site-packages (from torch==2.2.1->torchtext) (1.12)\n",
      "Requirement already satisfied: nvidia-cuda-runtime-cu12==12.1.105 in /home/studio-lab-user/.conda/envs/default/lib/python3.9/site-packages (from torch==2.2.1->torchtext) (12.1.105)\n",
      "Requirement already satisfied: nvidia-cufft-cu12==11.0.2.54 in /home/studio-lab-user/.conda/envs/default/lib/python3.9/site-packages (from torch==2.2.1->torchtext) (11.0.2.54)\n",
      "Requirement already satisfied: typing-extensions>=4.8.0 in /home/studio-lab-user/.conda/envs/default/lib/python3.9/site-packages (from torch==2.2.1->torchtext) (4.10.0)\n",
      "Requirement already satisfied: nvidia-cusparse-cu12==12.1.0.106 in /home/studio-lab-user/.conda/envs/default/lib/python3.9/site-packages (from torch==2.2.1->torchtext) (12.1.0.106)\n",
      "Requirement already satisfied: nvidia-cublas-cu12==12.1.3.1 in /home/studio-lab-user/.conda/envs/default/lib/python3.9/site-packages (from torch==2.2.1->torchtext) (12.1.3.1)\n",
      "Requirement already satisfied: jinja2 in /home/studio-lab-user/.conda/envs/default/lib/python3.9/site-packages (from torch==2.2.1->torchtext) (3.1.2)\n",
      "Requirement already satisfied: nvidia-cuda-cupti-cu12==12.1.105 in /home/studio-lab-user/.conda/envs/default/lib/python3.9/site-packages (from torch==2.2.1->torchtext) (12.1.105)\n",
      "Requirement already satisfied: networkx in /home/studio-lab-user/.conda/envs/default/lib/python3.9/site-packages (from torch==2.2.1->torchtext) (3.2.1)\n",
      "Requirement already satisfied: nvidia-nvjitlink-cu12 in /home/studio-lab-user/.conda/envs/default/lib/python3.9/site-packages (from nvidia-cusolver-cu12==11.4.5.107->torch==2.2.1->torchtext) (12.4.99)\n",
      "Requirement already satisfied: urllib3>=1.25 in /home/studio-lab-user/.conda/envs/default/lib/python3.9/site-packages (from torchdata==0.7.1->torchtext) (2.0.4)\n",
      "Requirement already satisfied: MarkupSafe>=2.0 in /home/studio-lab-user/.conda/envs/default/lib/python3.9/site-packages (from jinja2->torch==2.2.1->torchtext) (2.1.3)\n",
      "Requirement already satisfied: charset-normalizer<4,>=2 in /home/studio-lab-user/.conda/envs/default/lib/python3.9/site-packages (from requests->torchtext) (3.2.0)\n",
      "Requirement already satisfied: certifi>=2017.4.17 in /home/studio-lab-user/.conda/envs/default/lib/python3.9/site-packages (from requests->torchtext) (2023.7.22)\n",
      "Requirement already satisfied: idna<4,>=2.5 in /home/studio-lab-user/.conda/envs/default/lib/python3.9/site-packages (from requests->torchtext) (3.4)\n",
      "Requirement already satisfied: mpmath>=0.19 in /home/studio-lab-user/.conda/envs/default/lib/python3.9/site-packages (from sympy->torch==2.2.1->torchtext) (1.3.0)\n",
      "Installing collected packages: tqdm, torchdata, torchtext\n",
      "Successfully installed torchdata-0.7.1 torchtext-0.17.1 tqdm-4.66.2\n"
     ]
    }
   ],
   "source": [
    "!pip3 install portalocker>=2.0.0\n",
    "!pip3 install torchtext"
   ]
  },
  {
   "cell_type": "markdown",
   "metadata": {
    "id": "b1ptB3E3xKbO"
   },
   "source": [
    "Here is an example of how to load the [AG News](https://huggingface.co/datasets/ag_news) dataset from TorchText.\n",
    "AG News is a dataset of articles from four categories: “World”, “Sports”, “Business”, and “Sci/Tech”.\n",
    "\n",
    "We load the [AG News Dataset](https://pytorch.org/text/stable/datasets.html#ag-news) with the following parameters:\n",
    " - `root` is the path where the train/test data is stored\n",
    " - `split` specifies whether to get the training or test data"
   ]
  },
  {
   "cell_type": "code",
   "execution_count": 10,
   "metadata": {
    "colab": {
     "base_uri": "https://localhost:8080/"
    },
    "collapsed": false,
    "id": "yhxGX6qrxKbO",
    "jupyter": {
     "outputs_hidden": false
    },
    "outputId": "8fc16e12-b0cb-4529-d9d7-e8ac7ab680f5"
   },
   "outputs": [
    {
     "name": "stdout",
     "output_type": "stream",
     "text": [
      "(3, \"Wall St. Bears Claw Back Into the Black (Reuters) Reuters - Short-sellers, Wall Street's dwindling\\\\band of ultra-cynics, are seeing green again.\")\n"
     ]
    }
   ],
   "source": [
    "from torch.utils.data import Dataset\n",
    "from torchtext.datasets import AG_NEWS\n",
    "\n",
    "training_data = AG_NEWS(\n",
    "    root = '.data',\n",
    "    split = 'train'\n",
    ")\n",
    "\n",
    "test_data = AG_NEWS(\n",
    "    root = '.data',\n",
    "    split = 'test'\n",
    ")\n",
    "\n",
    "# Get one element from the data\n",
    "next_train = iter(training_data)\n",
    "print(next(next_train))"
   ]
  },
  {
   "cell_type": "markdown",
   "metadata": {
    "id": "aFBd7CEmxKbO"
   },
   "source": [
    "## Creating a Custom Dataset for your files\n",
    "\n",
    "We are going to load the same data as from Lab 2 (https://edstem.org/au/courses/14541/lessons/50326/slides/340219), this time into PyTorch, rather than scikit-learn.\n",
    "\n",
    "A custom Dataset class must implement three functions: `__init__`, `__len__`, and `__getitem__`.\n",
    "\n",
    "In the next few sections, we'll explain each function so you can implement the data reader at the bottom of this section."
   ]
  },
  {
   "cell_type": "markdown",
   "metadata": {
    "id": "DawgasuexKbO"
   },
   "source": [
    "### `__init__`\n",
    "\n",
    "The `__init__` function is run once when instantiating the Dataset object. We read the data file and store the relevant parts. We also record some transforms, which will be covered in more detail in the next section."
   ]
  },
  {
   "cell_type": "code",
   "execution_count": 12,
   "metadata": {
    "collapsed": false,
    "id": "pg4hs8kJxKbO",
    "jupyter": {
     "outputs_hidden": false
    }
   },
   "outputs": [],
   "source": [
    "def __init__(self, json_file, transform=None, target_transform=None):\n",
    "    self.labels = []\n",
    "    self.inputs = []\n",
    "    for line in open(json_file):\n",
    "        data = json.loads(line.strip())\n",
    "        for msg, tlabel in zip(data['messages'], data['sender_labels']):\n",
    "            self.inputs.append(msg)\n",
    "            self.labels.append(tlabel)\n",
    "    self.transform = transform\n",
    "    self.target_transform = target_transform"
   ]
  },
  {
   "cell_type": "markdown",
   "metadata": {
    "id": "kL6Q-dHDxKbO"
   },
   "source": [
    "### `__len__`\n",
    "\n",
    "The `__len__` function returns the number of samples in our dataset.\n",
    "\n"
   ]
  },
  {
   "cell_type": "code",
   "execution_count": 13,
   "metadata": {
    "collapsed": false,
    "id": "FO84hrZnxKbO",
    "jupyter": {
     "outputs_hidden": false
    }
   },
   "outputs": [],
   "source": [
    "def __len__(self):\n",
    "    return len(self.labels)"
   ]
  },
  {
   "cell_type": "markdown",
   "metadata": {
    "id": "CDncXOowxKbO"
   },
   "source": [
    "### `__getitem__`\n",
    "\n",
    "The `__getitem__` function loads and returns a sample from the dataset at the given index `idx`.\n",
    "Based on the index, it gets the data, calls the transform functions on them (if applicable), and returns the\n",
    "text and a corresponding label in a tuple.\n",
    "\n",
    "In many cases, there is further preprocessing that occurs here, so we can provide a tensor rather than strings."
   ]
  },
  {
   "cell_type": "code",
   "execution_count": 14,
   "metadata": {
    "collapsed": false,
    "id": "deyXfCyixKbO",
    "jupyter": {
     "outputs_hidden": false
    }
   },
   "outputs": [],
   "source": [
    "def __getitem__(self, idx):\n",
    "    text = self.inputs[idx]\n",
    "    label = self.labels[idx]\n",
    "    if self.transform:\n",
    "        text = self.transform(text)\n",
    "    if self.target_transform:\n",
    "        label = self.target_transform(label)\n",
    "    return text, label"
   ]
  },
  {
   "cell_type": "markdown",
   "metadata": {
    "id": "I-r6qmW1xKbO"
   },
   "source": [
    "### The complete data loader\n",
    "\n",
    "Below we have put these pieces together to make the dataset loader."
   ]
  },
  {
   "cell_type": "code",
   "execution_count": 15,
   "metadata": {
    "id": "Yjh-LtLXxKbO",
    "tags": []
   },
   "outputs": [],
   "source": [
    "import json\n",
    "\n",
    "class CustomTextDataset(Dataset):\n",
    "    def __init__(self, json_file, transform=None, target_transform=None):\n",
    "        self.labels = []\n",
    "        self.inputs = []\n",
    "        for line in open(json_file):\n",
    "            data = json.loads(line.strip())\n",
    "            for msg, tlabel in zip(data['messages'], data['sender_labels']):\n",
    "                self.inputs.append(msg)\n",
    "                self.labels.append(tlabel)\n",
    "        self.transform = transform\n",
    "        self.target_transform = target_transform\n",
    "\n",
    "    def __len__(self):\n",
    "        return len(self.labels)\n",
    "\n",
    "    def __getitem__(self, idx):\n",
    "        text = self.inputs[idx]\n",
    "        label = self.labels[idx]\n",
    "        if self.transform:\n",
    "            text = self.transform(text)\n",
    "        if self.target_transform:\n",
    "            label = self.target_transform(label)\n",
    "        return text, label"
   ]
  },
  {
   "cell_type": "markdown",
   "metadata": {
    "id": "M9nFCVFcxKbO"
   },
   "source": [
    "## Preparing the AG News data for training with DataLoaders\n",
    "\n",
    "Now let's return to the AG News data.\n",
    "The `Dataset` retrieves our dataset's features and labels one sample at a time. While training a model, we typically want to\n",
    "pass samples in \"minibatches\", reshuffle the data at every epoch to reduce model overfitting, and use Python's `multiprocessing` to speed up data retrieval.\n",
    "\n",
    "`DataLoader` is an iterable that abstracts this complexity for us in an easy API.\n",
    "\n"
   ]
  },
  {
   "cell_type": "code",
   "execution_count": 16,
   "metadata": {
    "collapsed": false,
    "id": "E51XAmwXxKbO",
    "jupyter": {
     "outputs_hidden": false
    }
   },
   "outputs": [],
   "source": [
    "from torch.utils.data import DataLoader\n",
    "\n",
    "training_data = AG_NEWS(\n",
    "    root = '.data',\n",
    "    split = 'train'\n",
    ")\n",
    "\n",
    "train_dataloader = DataLoader(training_data, batch_size=64, shuffle=True)\n",
    "test_dataloader = DataLoader(test_data, batch_size=64, shuffle=True)"
   ]
  },
  {
   "cell_type": "markdown",
   "metadata": {
    "id": "I_WNA8rRxKbO"
   },
   "source": [
    "## Iterate through the DataLoader\n",
    "\n",
    "We have loaded that dataset into the ``DataLoader`` and can iterate through the dataset as needed.\n",
    "Each iteration below returns a batch of ``train_features`` and ``train_labels`` (containing ``batch_size=64`` features and labels respectively).\n",
    "Because we specified ``shuffle=True``, after we iterate over all batches the data is shuffled (for finer-grained control over\n",
    "the data loading order, take a look at [Samplers](https://pytorch.org/docs/stable/data.html#data-loading-order-and-sampler)).\n",
    "\n"
   ]
  },
  {
   "cell_type": "code",
   "execution_count": 17,
   "metadata": {
    "colab": {
     "base_uri": "https://localhost:8080/",
     "height": 411
    },
    "collapsed": false,
    "id": "fMVj1GYHxKbP",
    "jupyter": {
     "outputs_hidden": false
    },
    "outputId": "333fb994-91aa-408c-8244-08c047ab878a"
   },
   "outputs": [
    {
     "name": "stdout",
     "output_type": "stream",
     "text": [
      "First text:\n",
      "Krispy Kreme operating chief quits WINSTON-SALEM, N.C. -- Krispy Kreme Doughnuts Inc.'s John Tate quit as chief operating officer amid a government probe of the chain's accounting and earnings forecasts.\n",
      "\n",
      "First label:\n",
      "tensor(3)\n",
      "\n",
      "Number of labels:\n",
      "torch.Size([64])\n"
     ]
    }
   ],
   "source": [
    "training_labels, training_texts = next(iter(train_dataloader))\n",
    "print(\"First text:\")\n",
    "print(training_texts[0])\n",
    "print(\"\\nFirst label:\")\n",
    "print(training_labels[0])\n",
    "print(\"\\nNumber of labels:\")\n",
    "print(training_labels.size())"
   ]
  },
  {
   "cell_type": "markdown",
   "metadata": {
    "id": "KhvaUZ0zxKbP"
   },
   "source": [
    "--------------\n",
    "\n",
    "\n"
   ]
  },
  {
   "cell_type": "markdown",
   "metadata": {
    "id": "O6mF_iQTxKbP"
   },
   "source": [
    "### Prepare data processing pipelines\n",
    "\n",
    "Our data is currently strings, but a neural network needs numbers. To convert to numbers we will create a vocabulary, which maps from tokens to integer IDs.\n",
    "\n",
    "The first step is to build a vocabulary with the raw training dataset. Here we use the built in factory function `build_vocab_from_iterator` which accepts an iterator that yield list or iterator of tokens. Users can also pass special symbols to be added to the vocabulary."
   ]
  },
  {
   "cell_type": "code",
   "execution_count": null,
   "metadata": {
    "colab": {
     "base_uri": "https://localhost:8080/"
    },
    "id": "lH2i2OM-xKbP",
    "outputId": "898606e1-16c0-449b-92db-7f0d63c12423",
    "tags": []
   },
   "outputs": [],
   "source": [
    "from torchtext.data.utils import get_tokenizer\n",
    "from torchtext.vocab import build_vocab_from_iterator\n",
    "\n",
    "tokenizer = get_tokenizer(\"basic_english\")\n",
    "train_iter = AG_NEWS(split=\"train\")\n",
    "\n",
    "def yield_tokens(data_iter):\n",
    "    for _, text in data_iter:\n",
    "        yield tokenizer(text)\n",
    "\n",
    "vocab = build_vocab_from_iterator(yield_tokens(train_iter), specials=[\"<unk>\"])\n",
    "vocab.set_default_index(vocab[\"<unk>\"])\n",
    "\n",
    "print(vocab(['here', 'is', 'an', 'example']))"
   ]
  },
  {
   "cell_type": "markdown",
   "metadata": {
    "id": "67K7yAfTxKbP"
   },
   "source": [
    "Using this vocabulary, we can define functions that will convert strings."
   ]
  },
  {
   "cell_type": "code",
   "execution_count": null,
   "metadata": {
    "colab": {
     "base_uri": "https://localhost:8080/"
    },
    "id": "6DgVt5l-xKbP",
    "outputId": "70488b51-c807-4834-9c7c-1af667bdf9b3",
    "tags": []
   },
   "outputs": [],
   "source": [
    "def text_pipeline(text):\n",
    "    return vocab(tokenizer(text))\n",
    "\n",
    "def label_pipeline(label):\n",
    "    return int(label) - 1\n",
    "\n",
    "print(text_pipeline('here is the an example'))\n",
    "print(label_pipeline('10'))"
   ]
  },
  {
   "cell_type": "markdown",
   "metadata": {
    "id": "dTnWFKEpxKbP"
   },
   "source": [
    "### Generate data batch and iterator\n",
    "\n",
    "The data produced by the `DataLoader` above is not ready to be used by a model because all the words are strings. Now, with the preprocessing functions, we can change that.\n",
    "\n",
    "Before sending data to the model, `collate_fn` function works on a batch of samples generated from DataLoader. The input to `collate_fn` is a batch of data with the batch size in DataLoader, and `collate_fn` processes them according to the data processing pipelines declared previously. Pay attention here and make sure that `collate_fn` is declared as a top level def. This ensures that the function is available in each worker.\n",
    "\n",
    "In this example, the text entries in the original data batch input are packed into a list and concatenated as a single tensor for the input of `nn.EmbeddingBag`. The offset is a tensor of delimiters to represent the beginning index of the individual sequence in the text tensor. Label is a tensor saving the labels of individual text entries."
   ]
  },
  {
   "cell_type": "code",
   "execution_count": null,
   "metadata": {
    "id": "WTjZxk5BxKbP"
   },
   "outputs": [],
   "source": [
    "from torch.utils.data import DataLoader\n",
    "\n",
    "device = torch.device(\"cuda\" if torch.cuda.is_available() else \"cpu\")\n",
    "\n",
    "\n",
    "def collate_batch(batch):\n",
    "    label_list, text_list, offsets = [], [], [0]\n",
    "    for _label, _text in batch:\n",
    "        label_list.append(label_pipeline(_label))\n",
    "        processed_text = torch.tensor(text_pipeline(_text), dtype=torch.int64)\n",
    "        text_list.append(processed_text)\n",
    "        offsets.append(processed_text.size(0))\n",
    "    label_list = torch.tensor(label_list, dtype=torch.int64)\n",
    "    offsets = torch.tensor(offsets[:-1]).cumsum(dim=0)\n",
    "    text_list = torch.cat(text_list)\n",
    "    return label_list.to(device), text_list.to(device), offsets.to(device)\n",
    "\n",
    "train_iter = AG_NEWS(split=\"train\")\n",
    "dataloader = DataLoader(\n",
    "    train_iter, batch_size=8, shuffle=False, collate_fn=collate_batch\n",
    ")"
   ]
  },
  {
   "cell_type": "markdown",
   "metadata": {
    "id": "hudg7qmwxKbP"
   },
   "source": [
    "# Build the Neural Network\n",
    "\n",
    "Neural networks are comprised of layers/modules that perform operations on data.\n",
    "The [torch.nn](https://pytorch.org/docs/stable/nn.html) namespace provides all the building blocks you need to\n",
    "build your own neural network. Every module in PyTorch subclasses the [nn.Module](https://pytorch.org/docs/stable/generated/torch.nn.Module.html).\n",
    "A neural network is a module itself that consists of other modules (layers). This nested structure allows for\n",
    "building and managing complex architectures easily.\n",
    "\n",
    "In the following sections, we'll build a neural network to classify text in the AG News dataset.\n",
    "\n",
    "The model is composed of the nn.EmbeddingBag layer plus a linear layer for the classification purpose. nn.EmbeddingBag with the default mode of “mean” computes the mean value of a “bag” of embeddings. Although the text entries here have different lengths, nn.EmbeddingBag module requires no padding here since the text lengths are saved in offsets.\n",
    "\n",
    "Additionally, since nn.EmbeddingBag accumulates the average across the embeddings on the fly, nn.EmbeddingBag can enhance the performance and memory efficiency to process a sequence of tensors"
   ]
  },
  {
   "cell_type": "code",
   "execution_count": null,
   "metadata": {
    "collapsed": false,
    "id": "fC8FTpxSxKbP",
    "jupyter": {
     "outputs_hidden": false
    }
   },
   "outputs": [],
   "source": [
    "import os\n",
    "import torch\n",
    "from torch import nn\n",
    "from torch.utils.data import DataLoader\n",
    "from torchtext import datasets"
   ]
  },
  {
   "cell_type": "markdown",
   "metadata": {
    "id": "2tzyAWYWxKbP"
   },
   "source": [
    "## Get Device for Training\n",
    "We want to be able to train our model on a hardware accelerator like the GPU or MPS,\n",
    "if available. Let's check to see if [torch.cuda](https://pytorch.org/docs/stable/notes/cuda.html)\n",
    "or [torch.backends.mps](https://pytorch.org/docs/stable/notes/mps.html) are available, otherwise we use the CPU.\n",
    "\n"
   ]
  },
  {
   "cell_type": "code",
   "execution_count": null,
   "metadata": {
    "colab": {
     "base_uri": "https://localhost:8080/"
    },
    "collapsed": false,
    "id": "FOtiOVoexKbP",
    "jupyter": {
     "outputs_hidden": false
    },
    "outputId": "e7b61908-f4ea-423d-cad6-58bd4d438216"
   },
   "outputs": [],
   "source": [
    "device = 'cpu'\n",
    "if torch.cuda.is_available():\n",
    "    device = \"cuda\"\n",
    "elif torch.backends.mps.is_available():\n",
    "    device = \"mps\"\n",
    "print(f\"Using {device} device\")"
   ]
  },
  {
   "cell_type": "markdown",
   "metadata": {
    "id": "RkRDvepOxKbP"
   },
   "source": [
    "## Define the Class\n",
    "We define our neural network by subclassing ``nn.Module``, and\n",
    "initialize the neural network layers in ``__init__``. Every ``nn.Module`` subclass implements\n",
    "the operations on input data in the ``forward`` method.\n",
    "\n"
   ]
  },
  {
   "cell_type": "code",
   "execution_count": null,
   "metadata": {
    "collapsed": false,
    "id": "HmXARhuWxKbP",
    "jupyter": {
     "outputs_hidden": false
    }
   },
   "outputs": [],
   "source": [
    "class TextClassificationModel(nn.Module):\n",
    "    def __init__(self, vocab_size, embed_dim, num_class):\n",
    "        super(TextClassificationModel, self).__init__()\n",
    "        # Create the embedding, which goes from token IDs to a vector, which is the sum of word vectors        self.embedding = nn.EmbeddingBag(vocab_size, embed_dim, sparse=False)\n",
    "        # Create a linear layer, which is a matrix of weights we multiply the embedding by to get scores        self.fc = nn.Linear(embed_dim, num_class)\n",
    "        # Call the function below to initialise the values of the weights        self.init_weights()\n",
    "\n",
    "    def init_weights(self):\n",
    "        # This function sets the starting / initial value of the weights for each part of the model        initrange = 0.5\n",
    "        self.embedding.weight.data.uniform_(-initrange, initrange)\n",
    "        self.fc.weight.data.uniform_(-initrange, initrange)\n",
    "        self.fc.bias.data.zero_()\n",
    "\n",
    "    def forward(self, text, offsets):\n",
    "        # This function does the actual computation. When text comes in as a set of token IDs, it runs the embedding, then the linear layer, to get scores for each possible label        embedded = self.embedding(text, offsets)\n",
    "        return self.fc(embedded)"
   ]
  },
  {
   "cell_type": "markdown",
   "metadata": {
    "id": "E1u8rVR9xKbP"
   },
   "source": [
    "We build a model with the embedding dimension of 64. The vocab size is equal to the length of the vocabulary instance. The number of classes is equal to the number of labels. We also set a seed for the random number generator so that results are consistent across students:"
   ]
  },
  {
   "cell_type": "code",
   "execution_count": null,
   "metadata": {
    "collapsed": false,
    "id": "x8SUU7AzxKbP",
    "jupyter": {
     "outputs_hidden": false
    }
   },
   "outputs": [],
   "source": [
    "train_iter = AG_NEWS(split=\"train\")\n",
    "num_class = len(set([label for (label, text) in train_iter]))\n",
    "vocab_size = len(vocab)\n",
    "emsize = 64\n",
    "torch.manual_seed(0)model = TextClassificationModel(vocab_size, emsize, num_class).to(device)"
   ]
  },
  {
   "cell_type": "markdown",
   "metadata": {
    "id": "BM85ecHexKbP"
   },
   "source": [
    "To use the model, we pass it the input data. This executes the model's ``forward``,\n",
    "along with some [background operations](https://github.com/pytorch/pytorch/blob/270111b7b611d174967ed204776985cefca9c144/torch/nn/modules/module.py#L866).\n",
    "Do not call ``model.forward()`` directly!\n",
    "\n",
    "Calling the model on the input returns a 2-dimensional tensor with dim=0 corresponding to each output of 10 raw predicted values for each class, and dim=1 corresponding to the individual values of each output.\n",
    "We get the prediction probabilities by passing it through an instance of the ``nn.Softmax`` module.\n",
    "\n",
    "We haven't trained the model yet, so the code below will run, but its output will be somewhat random."
   ]
  },
  {
   "cell_type": "code",
   "execution_count": null,
   "metadata": {
    "colab": {
     "base_uri": "https://localhost:8080/"
    },
    "collapsed": false,
    "id": "bQvbsBofxKbP",
    "jupyter": {
     "outputs_hidden": false
    },
    "outputId": "288dd3ce-11f3-4ea3-9242-78d179b8bd19"
   },
   "outputs": [],
   "source": [
    "X = torch.tensor(text_pipeline(\"This is a sample sentence\"), dtype=torch.int64)\n",
    "X = X.to(device)\n",
    "offsets = torch.tensor([0])\n",
    "offsets = offsets.to(device)\n",
    "logits = model(X, offsets)\n",
    "pred_probab = nn.Softmax(dim=1)(logits)\n",
    "y_pred = pred_probab.argmax(1)\n",
    "print(f\"Predicted class: {y_pred}\")"
   ]
  },
  {
   "cell_type": "markdown",
   "metadata": {
    "id": "npDB-OBgxKbP"
   },
   "source": [
    "--------------\n",
    "\n",
    "\n"
   ]
  },
  {
   "cell_type": "markdown",
   "metadata": {
    "id": "7jvGGM22xKbP"
   },
   "source": [
    "## Model Layers\n",
    "\n",
    "Let's break down the layers in the classification model. To illustrate it, we\n",
    "will take a sample text input and see what happens as we pass it through the network.\n"
   ]
  },
  {
   "cell_type": "code",
   "execution_count": null,
   "metadata": {
    "colab": {
     "base_uri": "https://localhost:8080/"
    },
    "collapsed": false,
    "id": "skJ1CwAlxKbQ",
    "jupyter": {
     "outputs_hidden": false
    },
    "outputId": "2671747b-445a-4a89-dfc6-530a38f3b407"
   },
   "outputs": [],
   "source": [
    "input_text = \"This is a sample\"\n",
    "processed_text = torch.tensor(text_pipeline(input_text), dtype=torch.int64)\n",
    "print(processed_text.size())"
   ]
  },
  {
   "cell_type": "markdown",
   "metadata": {
    "id": "K0nx15gKxKbQ"
   },
   "source": [
    "### nn.EmbeddingBag\n",
    "We initialize the [nn.EmbeddingBag](https://pytorch.org/docs/stable/generated/torch.nn.EmbeddingBag.html) layer to convert each token into a vector (the minibatch dimension (at dim=0) is maintained).\n",
    "\n"
   ]
  },
  {
   "cell_type": "code",
   "execution_count": null,
   "metadata": {
    "collapsed": false,
    "id": "nO1BdthcxKbQ",
    "jupyter": {
     "outputs_hidden": false
    }
   },
   "outputs": [],
   "source": [
    "embed_dim = 128\n",
    "embedding = nn.EmbeddingBag(vocab_size, embed_dim, sparse=False)\n",
    "embedded_text = embedding(processed_text, torch.tensor([0]))"
   ]
  },
  {
   "cell_type": "markdown",
   "metadata": {
    "id": "a4AcSWTAxKbQ"
   },
   "source": [
    "### nn.Linear\n",
    "The [linear layer](https://pytorch.org/docs/stable/generated/torch.nn.Linear.html)\n",
    "is a module that applies a linear transformation on the input using its stored weights and biases.\n",
    "\n",
    "\n"
   ]
  },
  {
   "cell_type": "code",
   "execution_count": null,
   "metadata": {
    "colab": {
     "base_uri": "https://localhost:8080/"
    },
    "collapsed": false,
    "id": "Vz8Ye_RCxKbQ",
    "jupyter": {
     "outputs_hidden": false
    },
    "outputId": "08caba16-645d-4afa-94c7-3ba659501dc2"
   },
   "outputs": [],
   "source": [
    "linear_layer = nn.Linear(embed_dim, num_class)\n",
    "after_linear = linear_layer(embedded_text)\n",
    "print(after_linear.size())"
   ]
  },
  {
   "cell_type": "markdown",
   "metadata": {
    "id": "nNMahi9sxKbR"
   },
   "source": [
    "## Model Parameters\n",
    "Many layers inside a neural network are *parameterized*, i.e. have associated weights\n",
    "and biases that are optimized during training. Subclassing ``nn.Module`` automatically\n",
    "tracks all fields defined inside your model object, and makes all parameters\n",
    "accessible using your model's ``parameters()`` or ``named_parameters()`` methods.\n",
    "\n",
    "In this example, we iterate over each parameter, and print its size and a preview of its values.\n",
    "\n",
    "\n"
   ]
  },
  {
   "cell_type": "code",
   "execution_count": null,
   "metadata": {
    "colab": {
     "base_uri": "https://localhost:8080/"
    },
    "collapsed": false,
    "id": "NzO1J51YxKbR",
    "jupyter": {
     "outputs_hidden": false
    },
    "outputId": "bb2014ff-9b0c-45d9-9b91-a9053ca0cdec"
   },
   "outputs": [],
   "source": [
    "print(f\"Model structure: {model}\\n\\n\")\n",
    "\n",
    "for name, param in model.named_parameters():\n",
    "    print(f\"Layer: {name} | Size: {param.size()} | Values : {param[:2]} \\n\")"
   ]
  },
  {
   "cell_type": "markdown",
   "metadata": {
    "id": "ntusqE5jxKbR"
   },
   "source": [
    "--------------"
   ]
  },
  {
   "cell_type": "markdown",
   "metadata": {
    "id": "EYMLHYpVxKbR"
   },
   "source": [
    "# Automatic Differentiation with ``torch.autograd``\n",
    "\n",
    "When training neural networks, the most frequently used algorithm is\n",
    "**back propagation**. In this algorithm, parameters (model weights) are\n",
    "adjusted according to the **gradient** of the loss function with respect\n",
    "to the given parameter.\n",
    "\n",
    "To compute those gradients, PyTorch has a built-in differentiation engine\n",
    "called ``torch.autograd``. It supports automatic computation of gradient for any\n",
    "computational graph.\n",
    "\n",
    "Consider the simplest one-layer neural network, with input ``x``,\n",
    "parameters ``w`` and ``b``, and some loss function. It can be defined in\n",
    "PyTorch in the following manner:\n"
   ]
  },
  {
   "cell_type": "code",
   "execution_count": null,
   "metadata": {
    "collapsed": false,
    "id": "GFTSKAtaxKbR",
    "jupyter": {
     "outputs_hidden": false
    }
   },
   "outputs": [],
   "source": [
    "import torch\n",
    "\n",
    "x = torch.ones(5)  # input tensor\n",
    "y = torch.zeros(3)  # expected output\n",
    "w = torch.randn(5, 3, requires_grad=True)\n",
    "b = torch.randn(3, requires_grad=True)\n",
    "z = torch.matmul(x, w)+b\n",
    "loss = torch.nn.functional.binary_cross_entropy_with_logits(z, y)"
   ]
  },
  {
   "cell_type": "markdown",
   "metadata": {
    "id": "Ae4Y3WebxKbR"
   },
   "source": [
    "## Tensors, Functions and Computational graph\n",
    "\n",
    "This code defines a small **computational graph**. In this network, ``w`` and ``b`` are **parameters**, which we need to\n",
    "optimize. Thus, we need to be able to compute the gradients of loss\n",
    "function with respect to those variables. In order to do that, we set\n",
    "the ``requires_grad`` property of those tensors.\n",
    "\n"
   ]
  },
  {
   "cell_type": "markdown",
   "metadata": {
    "id": "TYpMguEGxKbR"
   },
   "source": [
    "<div class=\"alert alert-info\"><h4>Note</h4><p>You can set the value of ``requires_grad`` when creating a\n",
    "          tensor, or later by using ``x.requires_grad_(True)`` method.</p></div>\n",
    "\n"
   ]
  },
  {
   "cell_type": "markdown",
   "metadata": {
    "id": "tSajCYVoxKbR"
   },
   "source": [
    "A function that we apply to tensors to construct computational graph is\n",
    "in fact an object of class ``Function``. This object knows how to\n",
    "compute the function in the *forward* direction, and also how to compute\n",
    "its derivative during the *backward propagation* step. A reference to\n",
    "the backward propagation function is stored in ``grad_fn`` property of a\n",
    "tensor. You can find more information of ``Function`` [in the\n",
    "documentation](https://pytorch.org/docs/stable/autograd.html#function)_.\n",
    "\n",
    "\n"
   ]
  },
  {
   "cell_type": "code",
   "execution_count": null,
   "metadata": {
    "colab": {
     "base_uri": "https://localhost:8080/"
    },
    "collapsed": false,
    "id": "kBb9bI_XxKbR",
    "jupyter": {
     "outputs_hidden": false
    },
    "outputId": "f170368b-7114-4d31-f135-04e7a57fa683"
   },
   "outputs": [],
   "source": [
    "print(f\"Gradient function for z = {z.grad_fn}\")\n",
    "print(f\"Gradient function for loss = {loss.grad_fn}\")"
   ]
  },
  {
   "cell_type": "markdown",
   "metadata": {
    "id": "A82o89grxKbR"
   },
   "source": [
    "## Computing Gradients\n",
    "\n",
    "To optimize weights of parameters in the neural network, we need to\n",
    "compute the derivatives of our loss function with respect to parameters,\n",
    "namely, we need $\\frac{\\partial loss}{\\partial w}$ and\n",
    "$\\frac{\\partial loss}{\\partial b}$ under some fixed values of\n",
    "``x`` and ``y``. To compute those derivatives, we call\n",
    "``loss.backward()``, and then retrieve the values from ``w.grad`` and\n",
    "``b.grad``:\n",
    "\n",
    "\n"
   ]
  },
  {
   "cell_type": "code",
   "execution_count": null,
   "metadata": {
    "colab": {
     "base_uri": "https://localhost:8080/"
    },
    "collapsed": false,
    "id": "S6kQi4yfxKbR",
    "jupyter": {
     "outputs_hidden": false
    },
    "outputId": "14d4e569-532b-44c3-dce1-97ac7939f5ec"
   },
   "outputs": [],
   "source": [
    "loss.backward()\n",
    "print(w.grad)\n",
    "print(b.grad)"
   ]
  },
  {
   "cell_type": "markdown",
   "metadata": {
    "id": "H4KsRVvWxKbS"
   },
   "source": [
    "<div class=\"alert alert-info\"><h4>Note</h4><p>- We can only obtain the ``grad`` properties for the leaf\n",
    "    nodes of the computational graph, which have ``requires_grad`` property\n",
    "    set to ``True``. For all other nodes in our graph, gradients will not be\n",
    "    available.\n",
    "  - We can only perform gradient calculations using\n",
    "    ``backward`` once on a given graph, for performance reasons. If we need\n",
    "    to do several ``backward`` calls on the same graph, we need to pass\n",
    "    ``retain_graph=True`` to the ``backward`` call.</p></div>\n",
    "\n",
    "\n"
   ]
  },
  {
   "cell_type": "markdown",
   "metadata": {
    "id": "zPwd6li0xKbS"
   },
   "source": [
    "## Disabling Gradient Tracking\n",
    "\n",
    "By default, all tensors with ``requires_grad=True`` are tracking their\n",
    "computational history and support gradient computation. However, there\n",
    "are some cases when we do not need to do that, for example, when we have\n",
    "trained the model and just want to apply it to some input data, i.e. we\n",
    "only want to do *forward* computations through the network. We can stop\n",
    "tracking computations by surrounding our computation code with\n",
    "``torch.no_grad()`` block:\n",
    "\n",
    "\n"
   ]
  },
  {
   "cell_type": "code",
   "execution_count": null,
   "metadata": {
    "colab": {
     "base_uri": "https://localhost:8080/"
    },
    "collapsed": false,
    "id": "exHOF89yxKbS",
    "jupyter": {
     "outputs_hidden": false
    },
    "outputId": "21cf17b6-69b8-46df-d79a-d409f30cb5df"
   },
   "outputs": [],
   "source": [
    "z = torch.matmul(x, w)+b\n",
    "print(z.requires_grad)\n",
    "\n",
    "with torch.no_grad():\n",
    "    z = torch.matmul(x, w)+b\n",
    "print(z.requires_grad)"
   ]
  },
  {
   "cell_type": "markdown",
   "metadata": {
    "id": "S93mw4tdxKbS"
   },
   "source": [
    "Another way to achieve the same result is to use the ``detach()`` method\n",
    "on the tensor:\n",
    "\n",
    "\n"
   ]
  },
  {
   "cell_type": "code",
   "execution_count": null,
   "metadata": {
    "colab": {
     "base_uri": "https://localhost:8080/"
    },
    "collapsed": false,
    "id": "RnLSulLYxKbS",
    "jupyter": {
     "outputs_hidden": false
    },
    "outputId": "15d4ce18-6e5e-47b8-a2b7-4e6552d55887"
   },
   "outputs": [],
   "source": [
    "z = torch.matmul(x, w)+b\n",
    "z_det = z.detach()\n",
    "print(z_det.requires_grad)"
   ]
  },
  {
   "cell_type": "markdown",
   "metadata": {
    "id": "p7p4PMTFxKbS"
   },
   "source": [
    "There are reasons you might want to disable gradient tracking:\n",
    "  - To mark some parameters in your neural network as **frozen parameters**.\n",
    "  - To **speed up computations** when you are only doing forward pass, because computations on tensors that do\n",
    "    not track gradients would be more efficient.\n",
    "\n"
   ]
  },
  {
   "cell_type": "markdown",
   "metadata": {
    "id": "AnUm9_v8xKbS"
   },
   "source": [
    "## More on Computational Graphs\n",
    "Conceptually, autograd keeps a record of data (tensors) and all executed\n",
    "operations (along with the resulting new tensors) in a directed acyclic\n",
    "graph (DAG) consisting of\n",
    "[Function](https://pytorch.org/docs/stable/autograd.html#torch.autograd.Function)_\n",
    "objects. In this DAG, leaves are the input tensors, roots are the output\n",
    "tensors. By tracing this graph from roots to leaves, you can\n",
    "automatically compute the gradients using the chain rule.\n",
    "\n",
    "In a forward pass, autograd does two things simultaneously:\n",
    "\n",
    "- run the requested operation to compute a resulting tensor\n",
    "- maintain the operation’s *gradient function* in the DAG.\n",
    "\n",
    "The backward pass kicks off when ``.backward()`` is called on the DAG\n",
    "root. ``autograd`` then:\n",
    "\n",
    "- computes the gradients from each ``.grad_fn``,\n",
    "- accumulates them in the respective tensor’s ``.grad`` attribute\n",
    "- using the chain rule, propagates all the way to the leaf tensors.\n",
    "\n",
    "<div class=\"alert alert-info\"><h4>Note</h4><p>**DAGs are dynamic in PyTorch**\n",
    "  An important thing to note is that the graph is recreated from scratch; after each\n",
    "  ``.backward()`` call, autograd starts populating a new graph. This is\n",
    "  exactly what allows you to use control flow statements in your model;\n",
    "  you can change the shape, size and operations at every iteration if\n",
    "  needed.</p></div>\n",
    "\n"
   ]
  },
  {
   "cell_type": "markdown",
   "metadata": {
    "id": "OfucHcYMxKbS"
   },
   "source": [
    "--------------\n",
    "\n",
    "\n"
   ]
  },
  {
   "cell_type": "markdown",
   "metadata": {
    "id": "1L47Rf-SxKbS"
   },
   "source": [
    "# Optimizing Model Parameters\n",
    "\n",
    "Now that we have a model and data it's time to train, validate and test our model by optimizing its parameters on\n",
    "our data. Training a model is an iterative process; in each iteration the model makes a guess about the output, calculates\n",
    "the error in its guess (*loss*), collects the derivatives of the error with respect to its parameters, and **optimizes** these parameters using gradient descent.\n"
   ]
  },
  {
   "cell_type": "markdown",
   "metadata": {
    "id": "xhFAzvG6xKbS"
   },
   "source": [
    "## Hyperparameters\n",
    "\n",
    "Hyperparameters are adjustable parameters that let you control the model optimization process.\n",
    "Different hyperparameter values can impact model training and convergence rates\n",
    "([read more](https://pytorch.org/tutorials/beginner/hyperparameter_tuning_tutorial.html)_ about hyperparameter tuning)\n",
    "\n",
    "We define the following hyperparameters for training:\n",
    " - **Number of Epochs** - the number times to iterate over the dataset\n",
    " - **Batch Size** - the number of data samples propagated through the network before the parameters are updated\n",
    " - **Learning Rate** - how much to update models parameters at each batch/epoch. Smaller values yield slow learning speed, while large values may result in unpredictable behavior during training.\n",
    "\n",
    "\n"
   ]
  },
  {
   "cell_type": "code",
   "execution_count": null,
   "metadata": {
    "collapsed": false,
    "id": "51Hdk5gAxKbS",
    "jupyter": {
     "outputs_hidden": false
    }
   },
   "outputs": [],
   "source": [
    "learning_rate = 5\n",
    "batch_size = 64\n",
    "epochs = 5"
   ]
  },
  {
   "cell_type": "markdown",
   "metadata": {
    "id": "T2nMYYQnxKbS"
   },
   "source": [
    "## Optimization Loop\n",
    "\n",
    "Once we set our hyperparameters, we can then train and optimize our model with an optimization loop. Each\n",
    "iteration of the optimization loop is called an **epoch**.\n",
    "\n",
    "Each epoch consists of two main parts:\n",
    " - **The Train Loop** - iterate over the training dataset and try to converge to optimal parameters.\n",
    " - **The Validation/Test Loop** - iterate over the test dataset to check if model performance is improving.\n",
    "\n",
    "Let's briefly familiarize ourselves with some of the concepts used in the training loop. Jump ahead to\n",
    "see the `full-impl-label` of the optimization loop.\n",
    "\n",
    "### Loss Function\n",
    "\n",
    "When presented with some training data, our untrained network is likely not to give the correct\n",
    "answer. **Loss function** measures the degree of dissimilarity of obtained result to the target value,\n",
    "and it is the loss function that we want to minimize during training. To calculate the loss we make a\n",
    "prediction using the inputs of our given data sample and compare it against the true data label value.\n",
    "\n",
    "Common loss functions include [nn.MSELoss](https://pytorch.org/docs/stable/generated/torch.nn.MSELoss.html#torch.nn.MSELoss) (Mean Square Error) for regression tasks, and\n",
    "[nn.NLLLoss](https://pytorch.org/docs/stable/generated/torch.nn.NLLLoss.html#torch.nn.NLLLoss) (Negative Log Likelihood) for classification.\n",
    "[nn.CrossEntropyLoss](https://pytorch.org/docs/stable/generated/torch.nn.CrossEntropyLoss.html#torch.nn.CrossEntropyLoss) combines `nn.LogSoftmax` and `nn.NLLLoss`.\n",
    "\n",
    "We pass our model's output logits to `torch.nn.CrossEntropyLoss`, which will normalize the logits and compute the prediction error.\n",
    "\n"
   ]
  },
  {
   "cell_type": "code",
   "execution_count": null,
   "metadata": {
    "collapsed": false,
    "id": "q4RoDhNCxKbS",
    "jupyter": {
     "outputs_hidden": false
    }
   },
   "outputs": [],
   "source": [
    "# Initialize the loss function\n",
    "loss_function = torch.nn.CrossEntropyLoss()"
   ]
  },
  {
   "cell_type": "markdown",
   "metadata": {
    "id": "6u0DvnIrxKbS"
   },
   "source": [
    "### Optimizer\n",
    "\n",
    "Optimization is the process of adjusting model parameters to reduce model error in each training step. **Optimization algorithms** define how this process is performed (in this example we use Stochastic Gradient Descent).\n",
    "All optimization logic is encapsulated in  the ``optimizer`` object. Here, we use the SGD optimizer; additionally, there are many [different optimizers](https://pytorch.org/docs/stable/optim.html)\n",
    "available in PyTorch such as ADAM and RMSProp, that work better for different kinds of models and data.\n",
    "\n",
    "We initialize the optimizer by registering the model's parameters that need to be trained, and passing in the learning rate hyperparameter.\n",
    "\n"
   ]
  },
  {
   "cell_type": "code",
   "execution_count": null,
   "metadata": {
    "collapsed": false,
    "id": "hpM1z-yyxKbT",
    "jupyter": {
     "outputs_hidden": false
    }
   },
   "outputs": [],
   "source": [
    "optimizer = torch.optim.SGD(model.parameters(), lr=learning_rate)"
   ]
  },
  {
   "cell_type": "markdown",
   "metadata": {
    "id": "bsIy-6ChxKbT"
   },
   "source": [
    "Inside the training loop, optimization happens in three steps:\n",
    " * Call ``optimizer.zero_grad()`` to reset the gradients of model parameters. Gradients by default add up; to prevent double-counting, we explicitly zero them at each iteration.\n",
    " * Backpropagate the prediction loss with a call to ``loss.backward()``. PyTorch deposits the gradients of the loss w.r.t. each parameter.\n",
    " * Once we have our gradients, we call ``optimizer.step()`` to adjust the parameters by the gradients collected in the backward pass.\n",
    "\n"
   ]
  },
  {
   "cell_type": "markdown",
   "metadata": {
    "id": "km-LylF_xKbT"
   },
   "source": [
    "## Full Implementation\n",
    "We define `train_loop` that loops over our optimization code, and `test_loop` that\n",
    "evaluates the model's performance against our test data.\n",
    "\n",
    "We'll also redefine our data loading code here to make sure it is configured correctly (sometimes in the process of experimenting above, it gets modified).\n"
   ]
  },
  {
   "cell_type": "code",
   "execution_count": null,
   "metadata": {
    "collapsed": false,
    "id": "WC1UgFqgxKbT",
    "jupyter": {
     "outputs_hidden": false
    }
   },
   "outputs": [],
   "source": [
    "import time\n",
    "\n",
    "from torch.utils.data import DataLoader\n",
    "\n",
    "device = torch.device(\"cuda\" if torch.cuda.is_available() else \"cpu\")\n",
    "\n",
    "def collate_batch(batch):\n",
    "    label_list, text_list, offsets = [], [], [0]\n",
    "    for _label, _text in batch:\n",
    "        label_list.append(label_pipeline(_label))\n",
    "        processed_text = torch.tensor(text_pipeline(_text), dtype=torch.int64)\n",
    "        text_list.append(processed_text)\n",
    "        offsets.append(processed_text.size(0))\n",
    "    label_list = torch.tensor(label_list, dtype=torch.int64)\n",
    "    offsets = torch.tensor(offsets[:-1]).cumsum(dim=0)\n",
    "    text_list = torch.cat(text_list)\n",
    "    return label_list.to(device), text_list.to(device), offsets.to(device)\n",
    "\n",
    "train_iter = AG_NEWS(split=\"train\")\n",
    "train_dataloader = DataLoader(\n",
    "    train_iter, batch_size=8, shuffle=False, collate_fn=collate_batch\n",
    ")\n",
    "test_iter = AG_NEWS(split=\"test\")\n",
    "test_dataloader = DataLoader(\n",
    "    test_iter, batch_size=8, shuffle=False, collate_fn=collate_batch\n",
    ")\n",
    "\n",
    "def train_loop(dataloader, epoch, loss_function, optimizer, model):\n",
    "    model.train()\n",
    "    total_acc, total_count = 0, 0\n",
    "    log_interval = 500\n",
    "    start_time = time.time()\n",
    "\n",
    "    for idx, (label, text, offsets) in enumerate(dataloader):\n",
    "        optimizer.zero_grad()\n",
    "        predicted_label = model(text, offsets)\n",
    "        loss = loss_function(predicted_label, label)\n",
    "        loss.backward()\n",
    "        torch.nn.utils.clip_grad_norm_(model.parameters(), 0.1)\n",
    "        optimizer.step()\n",
    "        total_acc += (predicted_label.argmax(1) == label).sum().item()\n",
    "        total_count += label.size(0)\n",
    "        if idx % log_interval == 0 and idx > 0:\n",
    "            elapsed = time.time() - start_time\n",
    "            print(\n",
    "                \"| epoch {:3d} | {:5d}/{:5d} batches \"\n",
    "                \"| accuracy {:8.3f}\".format(\n",
    "                    epoch, idx, len(dataloader), total_acc / total_count\n",
    "                )\n",
    "            )\n",
    "            total_acc, total_count = 0, 0\n",
    "            start_time = time.time()\n",
    "\n",
    "\n",
    "def test_loop(dataloader, loss_function, model):\n",
    "    model.eval()\n",
    "    total_acc, total_count = 0, 0\n",
    "\n",
    "    with torch.no_grad():\n",
    "        for idx, (label, text, offsets) in enumerate(dataloader):\n",
    "            predicted_label = model(text, offsets)\n",
    "            loss = loss_function(predicted_label, label)\n",
    "            total_acc += (predicted_label.argmax(1) == label).sum().item()\n",
    "            total_count += label.size(0)\n",
    "    return total_acc / total_count"
   ]
  },
  {
   "cell_type": "markdown",
   "metadata": {
    "id": "TDmbJwzExKbT"
   },
   "source": [
    "We initialize the loss function and optimizer, and pass it to ``train_loop`` and ``test_loop``.\n",
    "Feel free to increase the number of epochs to track the model's improving performance.\n",
    "\n"
   ]
  },
  {
   "cell_type": "code",
   "execution_count": null,
   "metadata": {
    "tags": []
   },
   "outputs": [],
   "source": [
    "from torch.utils.data.dataset import random_split\n",
    "from torchtext.data.functional import to_map_style_dataset\n",
    "\n",
    "# Hyperparameters\n",
    "learning_rate = 5\n",
    "batch_size = 64\n",
    "epochs = 5\n",
    "\n",
    "loss_function = torch.nn.CrossEntropyLoss()\n",
    "optimizer = torch.optim.SGD(model.parameters(), lr=learning_rate)\n",
    "scheduler = torch.optim.lr_scheduler.StepLR(optimizer, 1.0, gamma=0.1)\n",
    "total_accu = None\n",
    "train_iter, test_iter = AG_NEWS()\n",
    "train_dataset = to_map_style_dataset(train_iter)\n",
    "test_dataset = to_map_style_dataset(test_iter)\n",
    "num_train = int(len(train_dataset) * 0.95)\n",
    "split_train_, split_valid_ = random_split(\n",
    "    train_dataset, [num_train, len(train_dataset) - num_train]\n",
    ")\n",
    "\n",
    "train_dataloader = DataLoader(\n",
    "    split_train_, batch_size=batch_size, shuffle=True, collate_fn=collate_batch\n",
    ")\n",
    "valid_dataloader = DataLoader(\n",
    "    split_valid_, batch_size=batch_size, shuffle=True, collate_fn=collate_batch\n",
    ")\n",
    "test_dataloader = DataLoader(\n",
    "    test_dataset, batch_size=batch_size, shuffle=True, collate_fn=collate_batch\n",
    ")\n",
    "\n",
    "for epoch in range(1, epochs + 1):\n",
    "    epoch_start_time = time.time()\n",
    "    train_loop(train_dataloader, epoch, loss_function, optimizer, model)\n",
    "    accu_val = test_loop(valid_dataloader, loss_function, model)\n",
    "    if total_accu is not None and total_accu > accu_val:\n",
    "        scheduler.step()\n",
    "    else:\n",
    "        total_accu = accu_val\n",
    "    print(\"-\" * 59)\n",
    "    print(\n",
    "        \"| end of epoch {:3d} | time: {:5.2f}s | \"\n",
    "        \"valid accuracy {:8.3f} \".format(\n",
    "            epoch, time.time() - epoch_start_time, accu_val\n",
    "        )\n",
    "    )\n",
    "    print(\"-\" * 59)\n"
   ]
  },
  {
   "cell_type": "markdown",
   "metadata": {
    "id": "pxICt9i2xKbT"
   },
   "source": [
    "# Save and Load the Model\n",
    "\n",
    "Finally, we will look at how to save and load a model.\n"
   ]
  },
  {
   "cell_type": "markdown",
   "metadata": {
    "id": "tUb_RGY4xKbT"
   },
   "source": [
    "## Saving and Loading Model Weights\n",
    "PyTorch models store the learned parameters in an internal\n",
    "state dictionary, called ``state_dict``. These can be persisted via the ``torch.save``\n",
    "method:\n",
    "\n"
   ]
  },
  {
   "cell_type": "code",
   "execution_count": null,
   "metadata": {
    "colab": {
     "base_uri": "https://localhost:8080/"
    },
    "collapsed": false,
    "id": "MP-CD7QVxKbT",
    "jupyter": {
     "outputs_hidden": false
    },
    "outputId": "083f5f59-2cd6-4b71-c20c-677c591e1e90"
   },
   "outputs": [],
   "source": [
    "torch.save(model.state_dict(), 'model_weights.pth')"
   ]
  },
  {
   "cell_type": "markdown",
   "metadata": {
    "id": "_YeEHqo8xKbT"
   },
   "source": [
    "To load model weights, you need to create an instance of the same model first, and then load the parameters\n",
    "using ``load_state_dict()`` method.\n",
    "\n"
   ]
  },
  {
   "cell_type": "code",
   "execution_count": null,
   "metadata": {
    "colab": {
     "base_uri": "https://localhost:8080/"
    },
    "collapsed": false,
    "id": "6t2FtDJxxKbT",
    "jupyter": {
     "outputs_hidden": false
    },
    "outputId": "05b42b5b-b758-49f7-a87c-489463af5cca"
   },
   "outputs": [],
   "source": [
    "new_model = TextClassificationModel(vocab_size, emsize, num_class) # we do not specify ``weights``, i.e. create untrained model\n",
    "new_model.load_state_dict(torch.load('model_weights.pth'))"
   ]
  },
  {
   "cell_type": "markdown",
   "metadata": {
    "id": "qliS8ePKxKbT"
   },
   "source": [
    "If we plan to use our model, but not train it further, then we call `model.eval()`. This is a standard way to tell the model to set itself up for use, rather than training (e.g., it disables dropout). Failing to do this could yield inconsistent outputs.\n",
    "\n"
   ]
  },
  {
   "cell_type": "code",
   "execution_count": null,
   "metadata": {
    "tags": []
   },
   "outputs": [],
   "source": [
    "new_model.eval()"
   ]
  },
  {
   "cell_type": "markdown",
   "metadata": {
    "id": "ZE31ehbxxKbT"
   },
   "source": [
    "## Saving and Loading Models with Shapes\n",
    "When loading model weights, we needed to instantiate the model class first, because the class\n",
    "defines the structure of a network. We might want to save the structure of this class together with\n",
    "the model, in which case we can pass `model` (and not `model.state_dict()`) to the save function:\n",
    "\n"
   ]
  },
  {
   "cell_type": "code",
   "execution_count": null,
   "metadata": {
    "collapsed": false,
    "id": "aIs2IyQfxKbT",
    "jupyter": {
     "outputs_hidden": false
    }
   },
   "outputs": [],
   "source": [
    "torch.save(model, 'model.pth')"
   ]
  },
  {
   "cell_type": "markdown",
   "metadata": {
    "id": "dT1yMmoLxKbT"
   },
   "source": [
    "We can then load the model like this:\n",
    "\n"
   ]
  },
  {
   "cell_type": "code",
   "execution_count": null,
   "metadata": {
    "collapsed": false,
    "id": "1p_u-QQpxKbT",
    "jupyter": {
     "outputs_hidden": false
    }
   },
   "outputs": [],
   "source": [
    "model = torch.load('model.pth')"
   ]
  },
  {
   "cell_type": "markdown",
   "metadata": {
    "id": "uA0ly-pPxKbT",
    "tags": []
   },
   "source": [
    "This approach uses Python [pickle](https://docs.python.org/3/library/pickle.html) module when serializing the model, thus it relies on the actual class definition to be available when loading the model.\n",
    "\n"
   ]
  },
  {
   "cell_type": "markdown",
   "metadata": {},
   "source": [
    "# Task 1\n",
    "\n",
    "Adapt the model above to have a hidden layer with 100 dimensions and a tanh activation. The model should:\n",
    "\n",
    "1. Use an embedding to represent words\n",
    "2. Use a linear layer to convert them to the hidden dimension\n",
    "3. Apply a tanh activation function (see [this page](https://pytorch.org/docs/stable/generated/torch.tanh.html#torch.tanh))\n",
    "4. Use a linear layer to get scores across the possible labels\n",
    "In your implementation, use `torch.manual_seed(0)` so that the results are easy for us to check."
   ]
  },
  {
   "cell_type": "code",
   "execution_count": null,
   "metadata": {
    "tags": []
   },
   "outputs": [],
   "source": []
  },
  {
   "cell_type": "markdown",
   "metadata": {},
   "source": [
    "# Task 2\n",
    "\n",
    "For the original model, let's look at some properties of the embeddings. You may find `model.embedding.weight.data.tolist()` usedful as a way to convert the embeddings into a Python list of lists.\n",
    "\n",
    "1. What are the minimum and maximum values in the embeddings?\n",
    "2. If you put the values in buckets of width 0.1 (ie., 0 to 0.1, 0.1 to 0.2, 0.2 to 0.3, etc), what is the distribution? (you can be approximate, any form of rounding is fine)\n",
    "\n",
    "This type of analysis can reveal if there are strange asymmetries in the weights we are learning."
   ]
  },
  {
   "cell_type": "code",
   "execution_count": null,
   "metadata": {
    "tags": []
   },
   "outputs": [],
   "source": []
  }
 ],
 "metadata": {
  "colab": {
   "provenance": []
  },
  "kernelspec": {
   "display_name": "default:Python",
   "language": "python",
   "name": "conda-env-default-py"
  },
  "language_info": {
   "codemirror_mode": {
    "name": "ipython",
    "version": 3
   },
   "file_extension": ".py",
   "mimetype": "text/x-python",
   "name": "python",
   "nbconvert_exporter": "python",
   "pygments_lexer": "ipython3",
   "version": "3.9.16"
  }
 },
 "nbformat": 4,
 "nbformat_minor": 4
}
