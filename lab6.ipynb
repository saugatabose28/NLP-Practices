{
 "cells": [
  {
   "cell_type": "markdown",
   "id": "7ddd032f-1dbb-4fdb-a588-1d117e83cb67",
   "metadata": {},
   "source": [
    "# Lab 6: spaCy\n",
    "\n",
    "Today, you will learn about spaCy, a robust and widely used library for NLP. This lab is based on [a tutorial](https://course.spacy.io/en/)  by Ines Montani, one of the creators of spaCy. One fun note - the other founder of spaCy completed his PhD at USyd!\n",
    "\n",
    "First, we need to install the library:"
   ]
  },
  {
   "cell_type": "code",
   "execution_count": 1,
   "id": "6b82a730-511c-43a2-af1a-8b50c91d3d06",
   "metadata": {},
   "outputs": [
    {
     "name": "stdout",
     "output_type": "stream",
     "text": [
      "Requirement already satisfied: spacy in /Users/jkum0593/teaching/comp5046-2024/env-5046/lib/python3.9/site-packages (3.7.4)\n",
      "Requirement already satisfied: spacy-legacy<3.1.0,>=3.0.11 in /Users/jkum0593/teaching/comp5046-2024/env-5046/lib/python3.9/site-packages (from spacy) (3.0.12)\n",
      "Requirement already satisfied: spacy-loggers<2.0.0,>=1.0.0 in /Users/jkum0593/teaching/comp5046-2024/env-5046/lib/python3.9/site-packages (from spacy) (1.0.5)\n",
      "Requirement already satisfied: murmurhash<1.1.0,>=0.28.0 in /Users/jkum0593/teaching/comp5046-2024/env-5046/lib/python3.9/site-packages (from spacy) (1.0.10)\n",
      "Requirement already satisfied: cymem<2.1.0,>=2.0.2 in /Users/jkum0593/teaching/comp5046-2024/env-5046/lib/python3.9/site-packages (from spacy) (2.0.8)\n",
      "Requirement already satisfied: preshed<3.1.0,>=3.0.2 in /Users/jkum0593/teaching/comp5046-2024/env-5046/lib/python3.9/site-packages (from spacy) (3.0.9)\n",
      "Requirement already satisfied: thinc<8.3.0,>=8.2.2 in /Users/jkum0593/teaching/comp5046-2024/env-5046/lib/python3.9/site-packages (from spacy) (8.2.3)\n",
      "Requirement already satisfied: wasabi<1.2.0,>=0.9.1 in /Users/jkum0593/teaching/comp5046-2024/env-5046/lib/python3.9/site-packages (from spacy) (1.1.2)\n",
      "Requirement already satisfied: srsly<3.0.0,>=2.4.3 in /Users/jkum0593/teaching/comp5046-2024/env-5046/lib/python3.9/site-packages (from spacy) (2.4.8)\n",
      "Requirement already satisfied: catalogue<2.1.0,>=2.0.6 in /Users/jkum0593/teaching/comp5046-2024/env-5046/lib/python3.9/site-packages (from spacy) (2.0.10)\n",
      "Requirement already satisfied: weasel<0.4.0,>=0.1.0 in /Users/jkum0593/teaching/comp5046-2024/env-5046/lib/python3.9/site-packages (from spacy) (0.3.4)\n",
      "Requirement already satisfied: typer<0.10.0,>=0.3.0 in /Users/jkum0593/teaching/comp5046-2024/env-5046/lib/python3.9/site-packages (from spacy) (0.9.0)\n",
      "Requirement already satisfied: smart-open<7.0.0,>=5.2.1 in /Users/jkum0593/teaching/comp5046-2024/env-5046/lib/python3.9/site-packages (from spacy) (6.4.0)\n",
      "Requirement already satisfied: tqdm<5.0.0,>=4.38.0 in /Users/jkum0593/teaching/comp5046-2024/env-5046/lib/python3.9/site-packages (from spacy) (4.66.2)\n",
      "Requirement already satisfied: requests<3.0.0,>=2.13.0 in /Users/jkum0593/teaching/comp5046-2024/env-5046/lib/python3.9/site-packages (from spacy) (2.31.0)\n",
      "Requirement already satisfied: pydantic!=1.8,!=1.8.1,<3.0.0,>=1.7.4 in /Users/jkum0593/teaching/comp5046-2024/env-5046/lib/python3.9/site-packages (from spacy) (2.6.4)\n",
      "Requirement already satisfied: jinja2 in /Users/jkum0593/teaching/comp5046-2024/env-5046/lib/python3.9/site-packages (from spacy) (3.1.3)\n",
      "Requirement already satisfied: setuptools in /Users/jkum0593/teaching/comp5046-2024/env-5046/lib/python3.9/site-packages (from spacy) (58.0.4)\n",
      "Requirement already satisfied: packaging>=20.0 in /Users/jkum0593/teaching/comp5046-2024/env-5046/lib/python3.9/site-packages (from spacy) (23.2)\n",
      "Requirement already satisfied: langcodes<4.0.0,>=3.2.0 in /Users/jkum0593/teaching/comp5046-2024/env-5046/lib/python3.9/site-packages (from spacy) (3.3.0)\n",
      "Requirement already satisfied: numpy>=1.19.0 in /Users/jkum0593/teaching/comp5046-2024/env-5046/lib/python3.9/site-packages (from spacy) (1.26.4)\n",
      "Requirement already satisfied: annotated-types>=0.4.0 in /Users/jkum0593/teaching/comp5046-2024/env-5046/lib/python3.9/site-packages (from pydantic!=1.8,!=1.8.1,<3.0.0,>=1.7.4->spacy) (0.6.0)\n",
      "Requirement already satisfied: pydantic-core==2.16.3 in /Users/jkum0593/teaching/comp5046-2024/env-5046/lib/python3.9/site-packages (from pydantic!=1.8,!=1.8.1,<3.0.0,>=1.7.4->spacy) (2.16.3)\n",
      "Requirement already satisfied: typing-extensions>=4.6.1 in /Users/jkum0593/teaching/comp5046-2024/env-5046/lib/python3.9/site-packages (from pydantic!=1.8,!=1.8.1,<3.0.0,>=1.7.4->spacy) (4.10.0)\n",
      "Requirement already satisfied: charset-normalizer<4,>=2 in /Users/jkum0593/teaching/comp5046-2024/env-5046/lib/python3.9/site-packages (from requests<3.0.0,>=2.13.0->spacy) (3.3.2)\n",
      "Requirement already satisfied: idna<4,>=2.5 in /Users/jkum0593/teaching/comp5046-2024/env-5046/lib/python3.9/site-packages (from requests<3.0.0,>=2.13.0->spacy) (3.6)\n",
      "Requirement already satisfied: urllib3<3,>=1.21.1 in /Users/jkum0593/teaching/comp5046-2024/env-5046/lib/python3.9/site-packages (from requests<3.0.0,>=2.13.0->spacy) (2.2.1)\n",
      "Requirement already satisfied: certifi>=2017.4.17 in /Users/jkum0593/teaching/comp5046-2024/env-5046/lib/python3.9/site-packages (from requests<3.0.0,>=2.13.0->spacy) (2024.2.2)\n",
      "Requirement already satisfied: blis<0.8.0,>=0.7.8 in /Users/jkum0593/teaching/comp5046-2024/env-5046/lib/python3.9/site-packages (from thinc<8.3.0,>=8.2.2->spacy) (0.7.11)\n",
      "Requirement already satisfied: confection<1.0.0,>=0.0.1 in /Users/jkum0593/teaching/comp5046-2024/env-5046/lib/python3.9/site-packages (from thinc<8.3.0,>=8.2.2->spacy) (0.1.4)\n",
      "Requirement already satisfied: click<9.0.0,>=7.1.1 in /Users/jkum0593/teaching/comp5046-2024/env-5046/lib/python3.9/site-packages (from typer<0.10.0,>=0.3.0->spacy) (8.1.7)\n",
      "Requirement already satisfied: cloudpathlib<0.17.0,>=0.7.0 in /Users/jkum0593/teaching/comp5046-2024/env-5046/lib/python3.9/site-packages (from weasel<0.4.0,>=0.1.0->spacy) (0.16.0)\n",
      "Requirement already satisfied: MarkupSafe>=2.0 in /Users/jkum0593/teaching/comp5046-2024/env-5046/lib/python3.9/site-packages (from jinja2->spacy) (2.1.5)\n",
      "\n",
      "\u001b[1m[\u001b[0m\u001b[34;49mnotice\u001b[0m\u001b[1;39;49m]\u001b[0m\u001b[39;49m A new release of pip is available: \u001b[0m\u001b[31;49m23.3.2\u001b[0m\u001b[39;49m -> \u001b[0m\u001b[32;49m24.0\u001b[0m\n",
      "\u001b[1m[\u001b[0m\u001b[34;49mnotice\u001b[0m\u001b[1;39;49m]\u001b[0m\u001b[39;49m To update, run: \u001b[0m\u001b[32;49mpip install --upgrade pip\u001b[0m\n"
     ]
    }
   ],
   "source": [
    "!pip install spacy"
   ]
  },
  {
   "cell_type": "markdown",
   "id": "f99e8326-3dcd-44d9-8126-fabb78357a5f",
   "metadata": {},
   "source": [
    "# Core parts of spaCy\n",
    "\n",
    "At the center of spaCy is the object containing the processing pipeline. We usually call this variable \"nlp\".\n",
    "\n",
    "For example, to create an English `nlp` object, you can `import spacy` and use the `spacy.blank` method to create a blank English pipeline. You can use the `nlp` object like a function to analyze text.\n",
    "\n",
    "It contains all the different components in the pipeline.\n",
    "\n",
    "It also includes language-specific rules used for tokenizing the text into words and punctuation. spaCy supports a variety of languages."
   ]
  },
  {
   "cell_type": "code",
   "execution_count": 2,
   "id": "86155a3c-9cf3-4ef6-860b-840c44954b6a",
   "metadata": {},
   "outputs": [
    {
     "name": "stderr",
     "output_type": "stream",
     "text": [
      "/Users/jkum0593/teaching/comp5046-2024/env-5046/lib/python3.9/site-packages/urllib3/__init__.py:35: NotOpenSSLWarning: urllib3 v2 only supports OpenSSL 1.1.1+, currently the 'ssl' module is compiled with 'LibreSSL 2.8.3'. See: https://github.com/urllib3/urllib3/issues/3020\n",
      "  warnings.warn(\n"
     ]
    }
   ],
   "source": [
    "# Import spaCy\n",
    "import spacy\n",
    "\n",
    "# Create a blank English nlp object\n",
    "nlp = spacy.blank(\"en\")"
   ]
  },
  {
   "attachments": {
    "d255a477-6e8c-4148-a0c7-4ff14f17131d.png": {
     "image/png": "[encoded data removed]"
    }
   },
   "cell_type": "markdown",
   "id": "5c556762-3337-413d-9a31-f3236031654d",
   "metadata": {},
   "source": [
    "When you process a text with the `nlp` object, spaCy creates a `Doc` object – short for \"document\". The Doc lets you access information about the text in a structured way, and no information is lost.\n",
    "\n",
    "Each document contains a series of tokens\n",
    "\n",
    "![image.png](https://course.spacy.io/doc.png)\n",
    "\n",
    "`Token` objects represent the tokens in a document – for example, a word or a punctuation character.\n",
    "\n",
    "To get a token at a specific position, you can index into the doc.\n",
    "\n",
    "`Token` objects also provide various attributes that let you access more information about the tokens. For example, the `.text` attribute returns the verbatim token text.\n",
    "\n",
    "The Doc behaves like a normal Python sequence by the way and lets you iterate over its tokens, or get a token by its index."
   ]
  },
  {
   "cell_type": "code",
   "execution_count": 3,
   "id": "f4735300-7da0-4354-9d95-0160f6c57f9a",
   "metadata": {},
   "outputs": [
    {
     "name": "stdout",
     "output_type": "stream",
     "text": [
      "world\n",
      "Hello\n",
      "world\n",
      "!\n"
     ]
    }
   ],
   "source": [
    "# Created by processing a string of text with the nlp object\n",
    "doc = nlp(\"Hello world!\")\n",
    "\n",
    "# Index into the Doc to get a single Token\n",
    "token = doc[1]\n",
    "\n",
    "# Get the token text via the .text attribute\n",
    "print(token.text)\n",
    "\n",
    "# Iterate over tokens in a Doc\n",
    "for token in doc:\n",
    "    print(token.text)"
   ]
  },
  {
   "attachments": {
    "c8d4b236-07dc-4f9a-9df8-76468fba9034.png": {
     "image/png": "[encoded data removed]"
    }
   },
   "cell_type": "markdown",
   "id": "0660c725-cd9c-4f1d-a4f7-cec81e8562b6",
   "metadata": {},
   "source": [
    "A `Span` object is a slice of the document consisting of one or more tokens. It's only a view of the `Doc` and doesn't contain any data itself.\n",
    "\n",
    "![image.png](https://course.spacy.io/doc_span.png)\n",
    "\n",
    "To create a span, you can use Python's slice notation. For example, `1:3` will create a slice starting from the token at position 1, up to – but not including! – the token at position 3."
   ]
  },
  {
   "cell_type": "code",
   "execution_count": 4,
   "id": "9b8bd06b-3ceb-4b58-a08e-7bc16719d8d6",
   "metadata": {},
   "outputs": [
    {
     "name": "stdout",
     "output_type": "stream",
     "text": [
      "NLP class\n"
     ]
    }
   ],
   "source": [
    "doc = nlp(\"Hello NLP class!\")\n",
    "\n",
    "# A slice from the Doc is a Span object\n",
    "span = doc[1:3]\n",
    "\n",
    "# Get the span text via the .text attribute\n",
    "print(span.text)"
   ]
  },
  {
   "cell_type": "markdown",
   "id": "e210223c-9f5f-4aea-af4c-73fda98cc7c8",
   "metadata": {},
   "source": [
    "Here you can see some of the available token attributes:\n",
    "\n",
    "`i` is the index of the token within the parent document.\n",
    "\n",
    "`text` returns the token text.\n",
    "\n",
    "`is_alpha`, `is_punct` and `like_num` return boolean values indicating whether the token consists of alphabetic characters, whether it's punctuation or whether it resembles a number. For example, a token \"10\" – one, zero – or the word \"ten\" – T, E, N.\n",
    "\n",
    "These attributes are also called lexical attributes: they refer to the entry in the vocabulary and don't depend on the token's context."
   ]
  },
  {
   "cell_type": "code",
   "execution_count": 5,
   "id": "5479028d-b97a-4a64-bf9b-e5873ce9f172",
   "metadata": {},
   "outputs": [
    {
     "name": "stdout",
     "output_type": "stream",
     "text": [
      "Index:    [0, 1, 2, 3, 4]\n",
      "Text:     ['It', 'costs', '$', '5', '.']\n",
      "is_alpha: [True, True, False, False, False]\n",
      "is_punct: [False, False, False, False, True]\n",
      "like_num: [False, False, False, True, False]\n"
     ]
    }
   ],
   "source": [
    "doc = nlp(\"It costs $5.\")\n",
    "print(\"Index:   \", [token.i for token in doc])\n",
    "print(\"Text:    \", [token.text for token in doc])\n",
    "\n",
    "print(\"is_alpha:\", [token.is_alpha for token in doc])\n",
    "print(\"is_punct:\", [token.is_punct for token in doc])\n",
    "print(\"like_num:\", [token.like_num for token in doc])"
   ]
  },
  {
   "cell_type": "markdown",
   "id": "13cca145-bbae-41ca-89ad-b5144ddbec32",
   "metadata": {},
   "source": [
    "Now let's try applying what you learned above.\n",
    "\n",
    "- Use `spacy.blank` to create a blank English (`\"en\"`) `nlp` object.\n",
    "- Create a `doc` for the sentence \"This is a sentence.\" and print its text."
   ]
  },
  {
   "cell_type": "code",
   "execution_count": 6,
   "id": "33377e5b-f698-49b8-b155-62ea964bf07e",
   "metadata": {},
   "outputs": [
    {
     "name": "stdout",
     "output_type": "stream",
     "text": [
      "This is a sentence.\n"
     ]
    }
   ],
   "source": [
    "# TODO\n",
    "\n",
    "# Solution\n",
    "# Import spaCy\n",
    "import spacy\n",
    "\n",
    "# Create the English nlp object\n",
    "nlp = spacy.blank(\"en\")\n",
    "\n",
    "# Process a text\n",
    "doc = nlp(\"This is a sentence.\")\n",
    "\n",
    "# Print the document text\n",
    "print(doc.text)"
   ]
  },
  {
   "cell_type": "markdown",
   "id": "84e1b238-bc32-468f-9dcd-78e3f3968f33",
   "metadata": {},
   "source": [
    "spaCy supports many different languages.\n",
    "\n",
    "Try doing the same thing, but this time in German (`\"de\"`) with \"Das ist ein Satz.\""
   ]
  },
  {
   "cell_type": "code",
   "execution_count": 7,
   "id": "67517444-e869-481e-8148-3e81fd7fd6c5",
   "metadata": {},
   "outputs": [
    {
     "name": "stdout",
     "output_type": "stream",
     "text": [
      "Das ist ein Satz.\n"
     ]
    }
   ],
   "source": [
    "# TODO\n",
    "\n",
    "# Solution\n",
    "# Import spaCy\n",
    "import spacy\n",
    "\n",
    "# Create the German nlp object\n",
    "nlp = spacy.blank(\"de\")\n",
    "\n",
    "# Process a text (this is German for: \"This is a sentence.\")\n",
    "doc = nlp(\"Das ist ein Satz.\")\n",
    "\n",
    "# Print the document text\n",
    "print(doc.text)"
   ]
  },
  {
   "cell_type": "markdown",
   "id": "3325ec3b-8873-4b47-aa4b-885e1eede81a",
   "metadata": {},
   "source": [
    "And again, in Spanish (`\"es\"`) with \"Esta es una frase.\""
   ]
  },
  {
   "cell_type": "code",
   "execution_count": 8,
   "id": "a872f07c-cab8-4a68-98d7-7c47fd6c0e3f",
   "metadata": {},
   "outputs": [
    {
     "name": "stdout",
     "output_type": "stream",
     "text": [
      "Esta es una frase.\n"
     ]
    }
   ],
   "source": [
    "# TODO\n",
    "\n",
    "# Solution\n",
    "# Import spaCy\n",
    "import spacy\n",
    "\n",
    "# Create the Spanish nlp object\n",
    "nlp = spacy.blank(\"es\")\n",
    "\n",
    "# Process a text (this is Spanish for: \"This is a sentence.\")\n",
    "doc = nlp(\"Esta es una frase.\")\n",
    "\n",
    "# Print the document text\n",
    "print(doc.text)"
   ]
  },
  {
   "cell_type": "markdown",
   "id": "753f713c-c823-45f7-961d-bbe9eb8f67ca",
   "metadata": {},
   "source": [
    "When you call `nlp` on a string, spaCy first tokenizes the text and creates a document object. In this exercise, you’ll learn more about the `Doc`, as well as its views `Token` and `Span`.\n",
    "\n",
    "Step 1\n",
    "- Use `spacy.blank` to create the English `nlp` object for the sentence \"I like tree kangaroos and narwhals.\".\n",
    "- Process the text and instantiate a `Doc` object.\n",
    "- Select the first token of the `Doc` and print its `text`.\n",
    "- Create a slice of the `Doc` for the tokens “tree kangaroos” and “tree kangaroos and narwhals”."
   ]
  },
  {
   "cell_type": "code",
   "execution_count": 9,
   "id": "078db539-6fb5-4d45-8ca1-e2a3b617e017",
   "metadata": {},
   "outputs": [
    {
     "name": "stdout",
     "output_type": "stream",
     "text": [
      "I\n",
      "tree kangaroos\n",
      "tree kangaroos and narwhals\n"
     ]
    }
   ],
   "source": [
    "# TODO\n",
    "\n",
    "# Solution\n",
    "# Import spaCy and create the English nlp object\n",
    "import spacy\n",
    "\n",
    "nlp = spacy.blank(\"en\")\n",
    "\n",
    "# Process the text\n",
    "doc = nlp(\"I like tree kangaroos and narwhals.\")\n",
    "\n",
    "# Select the first token\n",
    "first_token = doc[0]\n",
    "\n",
    "# Print the first token's text\n",
    "print(first_token.text)\n",
    "\n",
    "# A slice of the Doc for \"tree kangaroos\"\n",
    "tree_kangaroos = doc[2:4]\n",
    "print(tree_kangaroos.text)\n",
    "\n",
    "# A slice of the Doc for \"tree kangaroos and narwhals\" (without the \".\")\n",
    "tree_kangaroos_and_narwhals = doc[2:6]\n",
    "print(tree_kangaroos_and_narwhals.text)"
   ]
  },
  {
   "cell_type": "markdown",
   "id": "21c019dc-9458-4103-8b6c-277f0d19d52b",
   "metadata": {},
   "source": [
    "Now, let's use spaCy’s Doc and Token objects, and lexical attributes to find things in text.\n",
    "\n",
    "Try to find every time a percentage is mentioned. You’ll be looking for a token that is a number, followed by a token that is a percent sign.\n",
    "\n",
    "- Create a `Doc` for the text \"In 1990, more than 60% of people in East Asia were in extreme poverty. Now less than 4% are.\"\n",
    "- Use the `like_num` token attribute to check whether a token in the `doc` resembles a number.\n",
    "- Get the token following the current token in the document. Remember that `token.i` gives you the position of a token in a document.\n",
    "- Check whether the next token’s `text` attribute is a percent sign ”%“."
   ]
  },
  {
   "cell_type": "code",
   "execution_count": 10,
   "id": "5f39f255-8a91-4fb1-b19d-90e80faaf322",
   "metadata": {},
   "outputs": [
    {
     "name": "stdout",
     "output_type": "stream",
     "text": [
      "Percentage found: 60\n",
      "Percentage found: 4\n"
     ]
    }
   ],
   "source": [
    "# TODO\n",
    "\n",
    "# Solution\n",
    "import spacy\n",
    "\n",
    "nlp = spacy.blank(\"en\")\n",
    "\n",
    "# Process the text\n",
    "doc = nlp(\n",
    "    \"In 1990, more than 60% of people in East Asia were in extreme poverty. Now less than 4% are.\"\n",
    ")\n",
    "\n",
    "# Iterate over the tokens in the doc\n",
    "for token in doc:\n",
    "    # Check if the token resembles a number\n",
    "    if token.like_num:\n",
    "        # Get the next token in the document\n",
    "        next_token = doc[token.i + 1]\n",
    "        # Check if the next token's text equals \"%\"\n",
    "        if next_token.text == \"%\":\n",
    "            print(\"Percentage found:\", token.text)"
   ]
  },
  {
   "cell_type": "markdown",
   "id": "6dc325d7-f7e7-47ea-8df9-aed3a373eb96",
   "metadata": {},
   "source": [
    "So far, we've used the `nlp` module on its own, with some built-in capabilities (e.g., breaking text up into a series of tokens).\n",
    "\n",
    "To do more, we use *trained pipelines*. These are models that enable spaCy to predict linguistic attributes in context, e.g.,\n",
    "- Part-of-speech tags\n",
    "- Syntactic dependencies\n",
    "- Named entities\n",
    "\n",
    "Trained pipeline components have statistical models that enable spaCy to make predictions in context.  Pipelines are trained on large datasets of labeled examples. They can be updated with more examples to fine-tune their predictions – for example, to perform better on your specific data.\n",
    "\n",
    "spaCy provides a number of trained pipeline packages you can download using the `spacy download` command. For example, the \"en_core_web_sm\" package is a small English pipeline that supports all core capabilities and is trained on web text."
   ]
  },
  {
   "cell_type": "code",
   "execution_count": 11,
   "id": "f51d2ab6-07a5-4553-8bce-e534caa16518",
   "metadata": {},
   "outputs": [
    {
     "name": "stdout",
     "output_type": "stream",
     "text": [
      "/Users/jkum0593/teaching/comp5046-2024/env-5046/lib/python3.9/site-packages/urllib3/__init__.py:35: NotOpenSSLWarning: urllib3 v2 only supports OpenSSL 1.1.1+, currently the 'ssl' module is compiled with 'LibreSSL 2.8.3'. See: https://github.com/urllib3/urllib3/issues/3020\n",
      "  warnings.warn(\n",
      "Collecting en-core-web-sm==3.7.1\n",
      "  Downloading https://github.com/explosion/spacy-models/releases/download/en_core_web_sm-3.7.1/en_core_web_sm-3.7.1-py3-none-any.whl (12.8 MB)\n",
      "\u001b[2K     \u001b[38;2;114;156;31m━━━━━━━━━━━━━━━━━━━━━━━━━━━━━━━━━━━━━━━━\u001b[0m \u001b[32m12.8/12.8 MB\u001b[0m \u001b[31m5.8 MB/s\u001b[0m eta \u001b[36m0:00:00\u001b[0mm eta \u001b[36m0:00:01\u001b[0m[36m0:00:01\u001b[0m\n",
      "\u001b[?25hRequirement already satisfied: spacy<3.8.0,>=3.7.2 in /Users/jkum0593/teaching/comp5046-2024/env-5046/lib/python3.9/site-packages (from en-core-web-sm==3.7.1) (3.7.4)\n",
      "Requirement already satisfied: spacy-legacy<3.1.0,>=3.0.11 in /Users/jkum0593/teaching/comp5046-2024/env-5046/lib/python3.9/site-packages (from spacy<3.8.0,>=3.7.2->en-core-web-sm==3.7.1) (3.0.12)\n",
      "Requirement already satisfied: spacy-loggers<2.0.0,>=1.0.0 in /Users/jkum0593/teaching/comp5046-2024/env-5046/lib/python3.9/site-packages (from spacy<3.8.0,>=3.7.2->en-core-web-sm==3.7.1) (1.0.5)\n",
      "Requirement already satisfied: murmurhash<1.1.0,>=0.28.0 in /Users/jkum0593/teaching/comp5046-2024/env-5046/lib/python3.9/site-packages (from spacy<3.8.0,>=3.7.2->en-core-web-sm==3.7.1) (1.0.10)\n",
      "Requirement already satisfied: cymem<2.1.0,>=2.0.2 in /Users/jkum0593/teaching/comp5046-2024/env-5046/lib/python3.9/site-packages (from spacy<3.8.0,>=3.7.2->en-core-web-sm==3.7.1) (2.0.8)\n",
      "Requirement already satisfied: preshed<3.1.0,>=3.0.2 in /Users/jkum0593/teaching/comp5046-2024/env-5046/lib/python3.9/site-packages (from spacy<3.8.0,>=3.7.2->en-core-web-sm==3.7.1) (3.0.9)\n",
      "Requirement already satisfied: thinc<8.3.0,>=8.2.2 in /Users/jkum0593/teaching/comp5046-2024/env-5046/lib/python3.9/site-packages (from spacy<3.8.0,>=3.7.2->en-core-web-sm==3.7.1) (8.2.3)\n",
      "Requirement already satisfied: wasabi<1.2.0,>=0.9.1 in /Users/jkum0593/teaching/comp5046-2024/env-5046/lib/python3.9/site-packages (from spacy<3.8.0,>=3.7.2->en-core-web-sm==3.7.1) (1.1.2)\n",
      "Requirement already satisfied: srsly<3.0.0,>=2.4.3 in /Users/jkum0593/teaching/comp5046-2024/env-5046/lib/python3.9/site-packages (from spacy<3.8.0,>=3.7.2->en-core-web-sm==3.7.1) (2.4.8)\n",
      "Requirement already satisfied: catalogue<2.1.0,>=2.0.6 in /Users/jkum0593/teaching/comp5046-2024/env-5046/lib/python3.9/site-packages (from spacy<3.8.0,>=3.7.2->en-core-web-sm==3.7.1) (2.0.10)\n",
      "Requirement already satisfied: weasel<0.4.0,>=0.1.0 in /Users/jkum0593/teaching/comp5046-2024/env-5046/lib/python3.9/site-packages (from spacy<3.8.0,>=3.7.2->en-core-web-sm==3.7.1) (0.3.4)\n",
      "Requirement already satisfied: typer<0.10.0,>=0.3.0 in /Users/jkum0593/teaching/comp5046-2024/env-5046/lib/python3.9/site-packages (from spacy<3.8.0,>=3.7.2->en-core-web-sm==3.7.1) (0.9.0)\n",
      "Requirement already satisfied: smart-open<7.0.0,>=5.2.1 in /Users/jkum0593/teaching/comp5046-2024/env-5046/lib/python3.9/site-packages (from spacy<3.8.0,>=3.7.2->en-core-web-sm==3.7.1) (6.4.0)\n",
      "Requirement already satisfied: tqdm<5.0.0,>=4.38.0 in /Users/jkum0593/teaching/comp5046-2024/env-5046/lib/python3.9/site-packages (from spacy<3.8.0,>=3.7.2->en-core-web-sm==3.7.1) (4.66.2)\n",
      "Requirement already satisfied: requests<3.0.0,>=2.13.0 in /Users/jkum0593/teaching/comp5046-2024/env-5046/lib/python3.9/site-packages (from spacy<3.8.0,>=3.7.2->en-core-web-sm==3.7.1) (2.31.0)\n",
      "Requirement already satisfied: pydantic!=1.8,!=1.8.1,<3.0.0,>=1.7.4 in /Users/jkum0593/teaching/comp5046-2024/env-5046/lib/python3.9/site-packages (from spacy<3.8.0,>=3.7.2->en-core-web-sm==3.7.1) (2.6.4)\n",
      "Requirement already satisfied: jinja2 in /Users/jkum0593/teaching/comp5046-2024/env-5046/lib/python3.9/site-packages (from spacy<3.8.0,>=3.7.2->en-core-web-sm==3.7.1) (3.1.3)\n",
      "Requirement already satisfied: setuptools in /Users/jkum0593/teaching/comp5046-2024/env-5046/lib/python3.9/site-packages (from spacy<3.8.0,>=3.7.2->en-core-web-sm==3.7.1) (58.0.4)\n",
      "Requirement already satisfied: packaging>=20.0 in /Users/jkum0593/teaching/comp5046-2024/env-5046/lib/python3.9/site-packages (from spacy<3.8.0,>=3.7.2->en-core-web-sm==3.7.1) (23.2)\n",
      "Requirement already satisfied: langcodes<4.0.0,>=3.2.0 in /Users/jkum0593/teaching/comp5046-2024/env-5046/lib/python3.9/site-packages (from spacy<3.8.0,>=3.7.2->en-core-web-sm==3.7.1) (3.3.0)\n",
      "Requirement already satisfied: numpy>=1.19.0 in /Users/jkum0593/teaching/comp5046-2024/env-5046/lib/python3.9/site-packages (from spacy<3.8.0,>=3.7.2->en-core-web-sm==3.7.1) (1.26.4)\n",
      "Requirement already satisfied: annotated-types>=0.4.0 in /Users/jkum0593/teaching/comp5046-2024/env-5046/lib/python3.9/site-packages (from pydantic!=1.8,!=1.8.1,<3.0.0,>=1.7.4->spacy<3.8.0,>=3.7.2->en-core-web-sm==3.7.1) (0.6.0)\n",
      "Requirement already satisfied: pydantic-core==2.16.3 in /Users/jkum0593/teaching/comp5046-2024/env-5046/lib/python3.9/site-packages (from pydantic!=1.8,!=1.8.1,<3.0.0,>=1.7.4->spacy<3.8.0,>=3.7.2->en-core-web-sm==3.7.1) (2.16.3)\n",
      "Requirement already satisfied: typing-extensions>=4.6.1 in /Users/jkum0593/teaching/comp5046-2024/env-5046/lib/python3.9/site-packages (from pydantic!=1.8,!=1.8.1,<3.0.0,>=1.7.4->spacy<3.8.0,>=3.7.2->en-core-web-sm==3.7.1) (4.10.0)\n",
      "Requirement already satisfied: charset-normalizer<4,>=2 in /Users/jkum0593/teaching/comp5046-2024/env-5046/lib/python3.9/site-packages (from requests<3.0.0,>=2.13.0->spacy<3.8.0,>=3.7.2->en-core-web-sm==3.7.1) (3.3.2)\n",
      "Requirement already satisfied: idna<4,>=2.5 in /Users/jkum0593/teaching/comp5046-2024/env-5046/lib/python3.9/site-packages (from requests<3.0.0,>=2.13.0->spacy<3.8.0,>=3.7.2->en-core-web-sm==3.7.1) (3.6)\n",
      "Requirement already satisfied: urllib3<3,>=1.21.1 in /Users/jkum0593/teaching/comp5046-2024/env-5046/lib/python3.9/site-packages (from requests<3.0.0,>=2.13.0->spacy<3.8.0,>=3.7.2->en-core-web-sm==3.7.1) (2.2.1)\n",
      "Requirement already satisfied: certifi>=2017.4.17 in /Users/jkum0593/teaching/comp5046-2024/env-5046/lib/python3.9/site-packages (from requests<3.0.0,>=2.13.0->spacy<3.8.0,>=3.7.2->en-core-web-sm==3.7.1) (2024.2.2)\n",
      "Requirement already satisfied: blis<0.8.0,>=0.7.8 in /Users/jkum0593/teaching/comp5046-2024/env-5046/lib/python3.9/site-packages (from thinc<8.3.0,>=8.2.2->spacy<3.8.0,>=3.7.2->en-core-web-sm==3.7.1) (0.7.11)\n",
      "Requirement already satisfied: confection<1.0.0,>=0.0.1 in /Users/jkum0593/teaching/comp5046-2024/env-5046/lib/python3.9/site-packages (from thinc<8.3.0,>=8.2.2->spacy<3.8.0,>=3.7.2->en-core-web-sm==3.7.1) (0.1.4)\n",
      "Requirement already satisfied: click<9.0.0,>=7.1.1 in /Users/jkum0593/teaching/comp5046-2024/env-5046/lib/python3.9/site-packages (from typer<0.10.0,>=0.3.0->spacy<3.8.0,>=3.7.2->en-core-web-sm==3.7.1) (8.1.7)\n",
      "Requirement already satisfied: cloudpathlib<0.17.0,>=0.7.0 in /Users/jkum0593/teaching/comp5046-2024/env-5046/lib/python3.9/site-packages (from weasel<0.4.0,>=0.1.0->spacy<3.8.0,>=3.7.2->en-core-web-sm==3.7.1) (0.16.0)\n",
      "Requirement already satisfied: MarkupSafe>=2.0 in /Users/jkum0593/teaching/comp5046-2024/env-5046/lib/python3.9/site-packages (from jinja2->spacy<3.8.0,>=3.7.2->en-core-web-sm==3.7.1) (2.1.5)\n",
      "\n",
      "\u001b[1m[\u001b[0m\u001b[34;49mnotice\u001b[0m\u001b[1;39;49m]\u001b[0m\u001b[39;49m A new release of pip is available: \u001b[0m\u001b[31;49m23.3.2\u001b[0m\u001b[39;49m -> \u001b[0m\u001b[32;49m24.0\u001b[0m\n",
      "\u001b[1m[\u001b[0m\u001b[34;49mnotice\u001b[0m\u001b[1;39;49m]\u001b[0m\u001b[39;49m To update, run: \u001b[0m\u001b[32;49mpip install --upgrade pip\u001b[0m\n",
      "\u001b[38;5;2m✔ Download and installation successful\u001b[0m\n",
      "You can now load the package via spacy.load('en_core_web_sm')\n"
     ]
    }
   ],
   "source": [
    "!python -m spacy download en_core_web_sm"
   ]
  },
  {
   "cell_type": "markdown",
   "id": "864860f8-f624-46a3-abb8-4f4678e4f5e3",
   "metadata": {},
   "source": [
    "The `spacy.load` method loads a pipeline package by name and returns an nlp object. The package provides the binary weights that enable spaCy to make predictions. It also includes the vocabulary, meta information about the pipeline and the configuration file used to train it. It tells spaCy which language class to use and how to configure the processing pipeline."
   ]
  },
  {
   "cell_type": "code",
   "execution_count": 12,
   "id": "42ee1de7-5729-4140-988e-d29ca8d1b19e",
   "metadata": {},
   "outputs": [],
   "source": [
    "nlp = spacy.load(\"en_core_web_sm\")"
   ]
  },
  {
   "cell_type": "markdown",
   "id": "249c282f-21e4-4b52-92c3-55228b9b2246",
   "metadata": {},
   "source": [
    "## Part of Speech tags\n",
    "\n",
    "Let's take a look at the model's predictions. In this example, we're using spaCy to predict part-of-speech tags, the word types in context.\n",
    "\n",
    "The code prints both `token.pos_` and `token.pos`. Attributes that return strings usually end with an underscore. Attributes without the underscore return an integer ID value.\n",
    "\n",
    "Here, the model correctly predicts all of the POS tags."
   ]
  },
  {
   "cell_type": "code",
   "execution_count": 13,
   "id": "d6d6bc13-26bf-460c-9274-5eed38bb4f9d",
   "metadata": {},
   "outputs": [
    {
     "name": "stdout",
     "output_type": "stream",
     "text": [
      "She PRON 95\n",
      "ate VERB 100\n",
      "the DET 90\n",
      "pizza NOUN 92\n"
     ]
    }
   ],
   "source": [
    "import spacy\n",
    "\n",
    "# Load the small English pipeline\n",
    "nlp = spacy.load(\"en_core_web_sm\")\n",
    "\n",
    "# Process a text\n",
    "doc = nlp(\"She ate the pizza\")\n",
    "\n",
    "# Iterate over the tokens\n",
    "for token in doc:\n",
    "    # Print the text and the predicted part-of-speech tag\n",
    "    print(token.text, token.pos_, token.pos)"
   ]
  },
  {
   "cell_type": "markdown",
   "id": "51f5b792-7b71-4565-b055-8c351267675d",
   "metadata": {},
   "source": [
    "## Syntax\n",
    "\n",
    "In addition to the part-of-speech tags, we can also predict syntactic structures. As a reminder, syntax captures how words in text are related. For example, whether a word is the subject or object of the main verb in the sentence.\n",
    "\n",
    "The `.dep_` attribute returns the predicted dependency label.\n",
    "\n",
    "The `.head` attribute returns the syntactic head token. You can also think of it as the parent token this word is modifying / attached to."
   ]
  },
  {
   "cell_type": "code",
   "execution_count": 14,
   "id": "9b5aa75a-a677-4368-bcf5-91fba42eeeb2",
   "metadata": {},
   "outputs": [
    {
     "name": "stdout",
     "output_type": "stream",
     "text": [
      "She PRON nsubj ate\n",
      "ate VERB ROOT ate\n",
      "the DET det pizza\n",
      "pizza NOUN dobj ate\n"
     ]
    }
   ],
   "source": [
    "for token in doc:\n",
    "    print(token.text, token.pos_, token.dep_, token.head)"
   ]
  },
  {
   "attachments": {
    "058d730f-de1f-4951-a711-2c6769b518bd.png": {
     "image/png": "[encoded data removed]"
    },
    "55da9d0a-f525-4c12-9917-8aa18d9a9ec9.png": {
     "image/png": "[encoded data removed]"
    }
   },
   "cell_type": "markdown",
   "id": "b72ee0ce-105b-4048-ab56-3f93054e0471",
   "metadata": {},
   "source": [
    "To describe syntactic dependencies, spaCy uses a standardized label scheme. Here's an example of some common labels:\n",
    "\n",
    "The pronoun \"She\" is a nominal subject attached to the verb – in this case, to \"ate\".\n",
    "\n",
    "The noun \"pizza\" is a direct object attached to the verb \"ate\". It is eaten by the subject, \"she\".\n",
    "\n",
    "The determiner \"the\", also known as an article, is attached to the noun \"pizza\".\n",
    "\n",
    "We can draw the structure like this (as generated by displaCy, another part of the library):\n",
    "\n",
    "![image.png](https://course.spacy.io/dep_example.png)\n",
    "\n",
    "## Named Entities\n",
    "\n",
    "Named entities are \"real world objects\" that are assigned a name – for example, a person, an organization or a country.\n",
    "\n",
    "The `doc.ents` property lets you access the named entities predicted by the named entity recognition model.\n",
    "\n",
    "![image.png](https://course.spacy.io/ner_example.png)\n",
    "\n",
    "It returns an iterator of `Span` objects, so we can print the entity text and the entity label using the `.label_` attribute.\n",
    "\n",
    "In this case, the model is correctly predicting \"Apple\" as an organization, \"U.K.\" as a geopolitical entity and \"$1 billion\" as money."
   ]
  },
  {
   "cell_type": "code",
   "execution_count": 15,
   "id": "2edddf6a-e019-4cee-92bf-233180dc7197",
   "metadata": {},
   "outputs": [
    {
     "name": "stdout",
     "output_type": "stream",
     "text": [
      "Apple ORG\n",
      "U.K. GPE\n",
      "$1 billion MONEY\n"
     ]
    }
   ],
   "source": [
    "# Process a text\n",
    "doc = nlp(\"Apple is looking at buying U.K. startup for $1 billion\")\n",
    "\n",
    "# Iterate over the predicted entities\n",
    "for ent in doc.ents:\n",
    "    # Print the entity text and its label\n",
    "    print(ent.text, ent.label_)"
   ]
  },
  {
   "cell_type": "markdown",
   "id": "617b974a-8409-4372-b9a6-2beac0971664",
   "metadata": {},
   "source": [
    "A quick tip: To get definitions for the most common tags and labels, you can use the `spacy.explain` helper function.\n",
    "\n",
    "For example, \"GPE\" for geopolitical entity isn't exactly intuitive – but `spacy.explain` can tell you that it refers to countries, cities and states.\n",
    "\n",
    "The same works for part-of-speech tags and dependency labels."
   ]
  },
  {
   "cell_type": "code",
   "execution_count": 16,
   "id": "53d85e5d-837f-4eb2-a81c-f0a327029a36",
   "metadata": {},
   "outputs": [
    {
     "name": "stdout",
     "output_type": "stream",
     "text": [
      "Named entity label GPE means:\n",
      " Countries, cities, states\n",
      "POS tag NNP means:\n",
      " noun, proper singular\n",
      "Dependency type dobj means:\n",
      " direct object\n"
     ]
    }
   ],
   "source": [
    "print(\"Named entity label GPE means:\\n\", spacy.explain(\"GPE\"))\n",
    "print(\"POS tag NNP means:\\n\", spacy.explain(\"NNP\"))\n",
    "print(\"Dependency type dobj means:\\n\", spacy.explain(\"dobj\"))"
   ]
  },
  {
   "cell_type": "markdown",
   "id": "3c7b4669-d6fd-4aea-8ee2-c869d00fd6ac",
   "metadata": {},
   "source": [
    "# Task 1\n",
    "\n",
    "Write code to do the following:\n",
    "\n",
    "- Download the `en_core_web_md` model (a slightly larger and more accurate model)\n",
    "- Make one `nlp` object using the `en_core_web_md` model and one using the `en_core_web_sm` model from above\n",
    "- Run each one on \"Fruit flies like a banana\"\n",
    "- Print out the POS tags and dependencies produced by each model and identify any differences"
   ]
  },
  {
   "cell_type": "code",
   "execution_count": 17,
   "id": "2ed9dc0b-23a7-46be-ac12-af6ef0dd67c9",
   "metadata": {},
   "outputs": [
    {
     "name": "stdout",
     "output_type": "stream",
     "text": [
      "/Users/jkum0593/teaching/comp5046-2024/env-5046/lib/python3.9/site-packages/urllib3/__init__.py:35: NotOpenSSLWarning: urllib3 v2 only supports OpenSSL 1.1.1+, currently the 'ssl' module is compiled with 'LibreSSL 2.8.3'. See: https://github.com/urllib3/urllib3/issues/3020\n",
      "  warnings.warn(\n",
      "Collecting en-core-web-md==3.7.1\n",
      "  Downloading https://github.com/explosion/spacy-models/releases/download/en_core_web_md-3.7.1/en_core_web_md-3.7.1-py3-none-any.whl (42.8 MB)\n",
      "\u001b[2K     \u001b[38;2;114;156;31m━━━━━━━━━━━━━━━━━━━━━━━━━━━━━━━━━━━━━━━━\u001b[0m \u001b[32m42.8/42.8 MB\u001b[0m \u001b[31m4.9 MB/s\u001b[0m eta \u001b[36m0:00:00\u001b[0mm eta \u001b[36m0:00:01\u001b[0m[36m0:00:01\u001b[0m\n",
      "\u001b[?25hRequirement already satisfied: spacy<3.8.0,>=3.7.2 in /Users/jkum0593/teaching/comp5046-2024/env-5046/lib/python3.9/site-packages (from en-core-web-md==3.7.1) (3.7.4)\n",
      "Requirement already satisfied: spacy-legacy<3.1.0,>=3.0.11 in /Users/jkum0593/teaching/comp5046-2024/env-5046/lib/python3.9/site-packages (from spacy<3.8.0,>=3.7.2->en-core-web-md==3.7.1) (3.0.12)\n",
      "Requirement already satisfied: spacy-loggers<2.0.0,>=1.0.0 in /Users/jkum0593/teaching/comp5046-2024/env-5046/lib/python3.9/site-packages (from spacy<3.8.0,>=3.7.2->en-core-web-md==3.7.1) (1.0.5)\n",
      "Requirement already satisfied: murmurhash<1.1.0,>=0.28.0 in /Users/jkum0593/teaching/comp5046-2024/env-5046/lib/python3.9/site-packages (from spacy<3.8.0,>=3.7.2->en-core-web-md==3.7.1) (1.0.10)\n",
      "Requirement already satisfied: cymem<2.1.0,>=2.0.2 in /Users/jkum0593/teaching/comp5046-2024/env-5046/lib/python3.9/site-packages (from spacy<3.8.0,>=3.7.2->en-core-web-md==3.7.1) (2.0.8)\n",
      "Requirement already satisfied: preshed<3.1.0,>=3.0.2 in /Users/jkum0593/teaching/comp5046-2024/env-5046/lib/python3.9/site-packages (from spacy<3.8.0,>=3.7.2->en-core-web-md==3.7.1) (3.0.9)\n",
      "Requirement already satisfied: thinc<8.3.0,>=8.2.2 in /Users/jkum0593/teaching/comp5046-2024/env-5046/lib/python3.9/site-packages (from spacy<3.8.0,>=3.7.2->en-core-web-md==3.7.1) (8.2.3)\n",
      "Requirement already satisfied: wasabi<1.2.0,>=0.9.1 in /Users/jkum0593/teaching/comp5046-2024/env-5046/lib/python3.9/site-packages (from spacy<3.8.0,>=3.7.2->en-core-web-md==3.7.1) (1.1.2)\n",
      "Requirement already satisfied: srsly<3.0.0,>=2.4.3 in /Users/jkum0593/teaching/comp5046-2024/env-5046/lib/python3.9/site-packages (from spacy<3.8.0,>=3.7.2->en-core-web-md==3.7.1) (2.4.8)\n",
      "Requirement already satisfied: catalogue<2.1.0,>=2.0.6 in /Users/jkum0593/teaching/comp5046-2024/env-5046/lib/python3.9/site-packages (from spacy<3.8.0,>=3.7.2->en-core-web-md==3.7.1) (2.0.10)\n",
      "Requirement already satisfied: weasel<0.4.0,>=0.1.0 in /Users/jkum0593/teaching/comp5046-2024/env-5046/lib/python3.9/site-packages (from spacy<3.8.0,>=3.7.2->en-core-web-md==3.7.1) (0.3.4)\n",
      "Requirement already satisfied: typer<0.10.0,>=0.3.0 in /Users/jkum0593/teaching/comp5046-2024/env-5046/lib/python3.9/site-packages (from spacy<3.8.0,>=3.7.2->en-core-web-md==3.7.1) (0.9.0)\n",
      "Requirement already satisfied: smart-open<7.0.0,>=5.2.1 in /Users/jkum0593/teaching/comp5046-2024/env-5046/lib/python3.9/site-packages (from spacy<3.8.0,>=3.7.2->en-core-web-md==3.7.1) (6.4.0)\n",
      "Requirement already satisfied: tqdm<5.0.0,>=4.38.0 in /Users/jkum0593/teaching/comp5046-2024/env-5046/lib/python3.9/site-packages (from spacy<3.8.0,>=3.7.2->en-core-web-md==3.7.1) (4.66.2)\n",
      "Requirement already satisfied: requests<3.0.0,>=2.13.0 in /Users/jkum0593/teaching/comp5046-2024/env-5046/lib/python3.9/site-packages (from spacy<3.8.0,>=3.7.2->en-core-web-md==3.7.1) (2.31.0)\n",
      "Requirement already satisfied: pydantic!=1.8,!=1.8.1,<3.0.0,>=1.7.4 in /Users/jkum0593/teaching/comp5046-2024/env-5046/lib/python3.9/site-packages (from spacy<3.8.0,>=3.7.2->en-core-web-md==3.7.1) (2.6.4)\n",
      "Requirement already satisfied: jinja2 in /Users/jkum0593/teaching/comp5046-2024/env-5046/lib/python3.9/site-packages (from spacy<3.8.0,>=3.7.2->en-core-web-md==3.7.1) (3.1.3)\n",
      "Requirement already satisfied: setuptools in /Users/jkum0593/teaching/comp5046-2024/env-5046/lib/python3.9/site-packages (from spacy<3.8.0,>=3.7.2->en-core-web-md==3.7.1) (58.0.4)\n",
      "Requirement already satisfied: packaging>=20.0 in /Users/jkum0593/teaching/comp5046-2024/env-5046/lib/python3.9/site-packages (from spacy<3.8.0,>=3.7.2->en-core-web-md==3.7.1) (23.2)\n",
      "Requirement already satisfied: langcodes<4.0.0,>=3.2.0 in /Users/jkum0593/teaching/comp5046-2024/env-5046/lib/python3.9/site-packages (from spacy<3.8.0,>=3.7.2->en-core-web-md==3.7.1) (3.3.0)\n",
      "Requirement already satisfied: numpy>=1.19.0 in /Users/jkum0593/teaching/comp5046-2024/env-5046/lib/python3.9/site-packages (from spacy<3.8.0,>=3.7.2->en-core-web-md==3.7.1) (1.26.4)\n",
      "Requirement already satisfied: annotated-types>=0.4.0 in /Users/jkum0593/teaching/comp5046-2024/env-5046/lib/python3.9/site-packages (from pydantic!=1.8,!=1.8.1,<3.0.0,>=1.7.4->spacy<3.8.0,>=3.7.2->en-core-web-md==3.7.1) (0.6.0)\n",
      "Requirement already satisfied: pydantic-core==2.16.3 in /Users/jkum0593/teaching/comp5046-2024/env-5046/lib/python3.9/site-packages (from pydantic!=1.8,!=1.8.1,<3.0.0,>=1.7.4->spacy<3.8.0,>=3.7.2->en-core-web-md==3.7.1) (2.16.3)\n",
      "Requirement already satisfied: typing-extensions>=4.6.1 in /Users/jkum0593/teaching/comp5046-2024/env-5046/lib/python3.9/site-packages (from pydantic!=1.8,!=1.8.1,<3.0.0,>=1.7.4->spacy<3.8.0,>=3.7.2->en-core-web-md==3.7.1) (4.10.0)\n",
      "Requirement already satisfied: charset-normalizer<4,>=2 in /Users/jkum0593/teaching/comp5046-2024/env-5046/lib/python3.9/site-packages (from requests<3.0.0,>=2.13.0->spacy<3.8.0,>=3.7.2->en-core-web-md==3.7.1) (3.3.2)\n",
      "Requirement already satisfied: idna<4,>=2.5 in /Users/jkum0593/teaching/comp5046-2024/env-5046/lib/python3.9/site-packages (from requests<3.0.0,>=2.13.0->spacy<3.8.0,>=3.7.2->en-core-web-md==3.7.1) (3.6)\n",
      "Requirement already satisfied: urllib3<3,>=1.21.1 in /Users/jkum0593/teaching/comp5046-2024/env-5046/lib/python3.9/site-packages (from requests<3.0.0,>=2.13.0->spacy<3.8.0,>=3.7.2->en-core-web-md==3.7.1) (2.2.1)\n",
      "Requirement already satisfied: certifi>=2017.4.17 in /Users/jkum0593/teaching/comp5046-2024/env-5046/lib/python3.9/site-packages (from requests<3.0.0,>=2.13.0->spacy<3.8.0,>=3.7.2->en-core-web-md==3.7.1) (2024.2.2)\n",
      "Requirement already satisfied: blis<0.8.0,>=0.7.8 in /Users/jkum0593/teaching/comp5046-2024/env-5046/lib/python3.9/site-packages (from thinc<8.3.0,>=8.2.2->spacy<3.8.0,>=3.7.2->en-core-web-md==3.7.1) (0.7.11)\n",
      "Requirement already satisfied: confection<1.0.0,>=0.0.1 in /Users/jkum0593/teaching/comp5046-2024/env-5046/lib/python3.9/site-packages (from thinc<8.3.0,>=8.2.2->spacy<3.8.0,>=3.7.2->en-core-web-md==3.7.1) (0.1.4)\n",
      "Requirement already satisfied: click<9.0.0,>=7.1.1 in /Users/jkum0593/teaching/comp5046-2024/env-5046/lib/python3.9/site-packages (from typer<0.10.0,>=0.3.0->spacy<3.8.0,>=3.7.2->en-core-web-md==3.7.1) (8.1.7)\n",
      "Requirement already satisfied: cloudpathlib<0.17.0,>=0.7.0 in /Users/jkum0593/teaching/comp5046-2024/env-5046/lib/python3.9/site-packages (from weasel<0.4.0,>=0.1.0->spacy<3.8.0,>=3.7.2->en-core-web-md==3.7.1) (0.16.0)\n",
      "Requirement already satisfied: MarkupSafe>=2.0 in /Users/jkum0593/teaching/comp5046-2024/env-5046/lib/python3.9/site-packages (from jinja2->spacy<3.8.0,>=3.7.2->en-core-web-md==3.7.1) (2.1.5)\n",
      "\n",
      "\u001b[1m[\u001b[0m\u001b[34;49mnotice\u001b[0m\u001b[1;39;49m]\u001b[0m\u001b[39;49m A new release of pip is available: \u001b[0m\u001b[31;49m23.3.2\u001b[0m\u001b[39;49m -> \u001b[0m\u001b[32;49m24.0\u001b[0m\n",
      "\u001b[1m[\u001b[0m\u001b[34;49mnotice\u001b[0m\u001b[1;39;49m]\u001b[0m\u001b[39;49m To update, run: \u001b[0m\u001b[32;49mpip install --upgrade pip\u001b[0m\n",
      "\u001b[38;5;2m✔ Download and installation successful\u001b[0m\n",
      "You can now load the package via spacy.load('en_core_web_md')\n"
     ]
    }
   ],
   "source": [
    "# TODO\n",
    "\n",
    "# Solution\n",
    "!python -m spacy download en_core_web_md"
   ]
  },
  {
   "cell_type": "code",
   "execution_count": 18,
   "id": "0c839c65-7a85-4877-91b9-57fa65e69d40",
   "metadata": {},
   "outputs": [
    {
     "name": "stdout",
     "output_type": "stream",
     "text": [
      "Fruit\n",
      "flies\n",
      "POS difference: NOUN VERB\n",
      "like\n",
      "a\n",
      "banana\n"
     ]
    }
   ],
   "source": [
    "# Solution continued\n",
    "\n",
    "# Load the small English pipeline\n",
    "nlp_small = spacy.load(\"en_core_web_sm\")\n",
    "nlp_medium = spacy.load(\"en_core_web_md\")\n",
    "\n",
    "# Process a text\n",
    "text = \"Fruit flies like a banana\"\n",
    "doc_small = nlp_small(text)\n",
    "doc_medium = nlp_medium(text)\n",
    "\n",
    "# Iterate over the tokens\n",
    "for i in range(len(doc_small)):\n",
    "    print(doc_small[i])\n",
    "    if doc_small[i].pos_ != doc_medium[i].pos_:\n",
    "        print(\"POS difference:\", doc_small[i].pos_, doc_medium[i].pos_)\n",
    "    if doc_small[i].dep_ != doc_medium[i].dep_:\n",
    "        print(\"Dep difference:\", doc_small[i].dep_, doc_medium[i].dep_)"
   ]
  },
  {
   "cell_type": "markdown",
   "id": "203a73c4-bf8c-4783-8ede-bef778fb8c8b",
   "metadata": {},
   "source": [
    "# Matching\n",
    "\n",
    "Next, we'll take a look at spaCy's matcher, which lets you write rules to find words and phrases in text.\n",
    "\n",
    "If you are familiar with regular expressions, then they may be what you think of when looking for specific patterns in text. However, they are over strings. Here, we want to define patterns over `Doc` and `Token` objects too. For example, we might want to find the word \"duck\" but only if it's a verb, not a noun.\n",
    "\n",
    "Match patterns are lists of dictionaries. Each dictionary describes one token. The keys are the names of token attributes, mapped to their expected values. To use a pattern, we initialise it with the shared vocabulary, `nlp.vocab`. You'll learn more about this later – for now, just remember to always pass it in. The `matcher.add` method lets you add a pattern. The first argument is a unique ID to identify which pattern was matched. The second argument is a list of patterns.\n",
    "\n",
    "To match the pattern on a text, we can call the matcher on any doc. This will return the matches. Each tuple consists of three values: the  ID of the pattern that matched, the start index and the end index of the matched span. This means we can iterate over the matches and create a Span object: a slice of the doc at the start and end index."
   ]
  },
  {
   "cell_type": "code",
   "execution_count": 19,
   "id": "3ea6e283-57e4-4f45-a161-24cb21020ed2",
   "metadata": {},
   "outputs": [
    {
     "name": "stdout",
     "output_type": "stream",
     "text": [
      "\"iPhone X\" - match for pattern 9528407286733565721 in span (0, 2)\n",
      "\"iPhone X\" - match for pattern 9528407286733565721 in span (5, 7)\n"
     ]
    }
   ],
   "source": [
    "# Import the Matcher\n",
    "from spacy.matcher import Matcher\n",
    "\n",
    "# Load a pipeline and create the nlp object\n",
    "nlp = spacy.load(\"en_core_web_sm\")\n",
    "\n",
    "# Initialize the matcher with the shared vocab\n",
    "matcher = Matcher(nlp.vocab)\n",
    "\n",
    "# Add the pattern to the matcher\n",
    "pattern = [{\"TEXT\": \"iPhone\"}, {\"TEXT\": \"X\"}]\n",
    "matcher.add(\"IPHONE_PATTERN\", [pattern])\n",
    "\n",
    "# Process some text\n",
    "doc = nlp(\"iPhone X news! Upcoming iPhone X release date leaked\")\n",
    "\n",
    "# Call the matcher on the doc\n",
    "matches = matcher(doc)\n",
    "\n",
    "# Iterate over the matches\n",
    "for pattern_id, start, end in matches:\n",
    "    # Get the matched span\n",
    "    matched_span = doc[start:end]\n",
    "    print('\"{}\" - match for pattern {} in span ({}, {})'.format(matched_span.text, pattern_id, start, end))"
   ]
  },
  {
   "cell_type": "markdown",
   "id": "00fddec2-59eb-434c-8706-7cb929e5eaf9",
   "metadata": {},
   "source": [
    "Here's an example of a more complex pattern using lexical attributes.\n",
    "\n",
    "We're looking for a five token sequence:\n",
    "- A token consisting of only digits.\n",
    "- Three case-insensitive tokens for \"fifa\", \"world\" and \"cup\" (`LOWER` indicates that once lowercased, the token must match the one we provide).\n",
    "- A token that consists of punctuation."
   ]
  },
  {
   "cell_type": "code",
   "execution_count": 20,
   "id": "425b7b8a-f80b-4d36-93b4-de65e50946ba",
   "metadata": {},
   "outputs": [
    {
     "name": "stdout",
     "output_type": "stream",
     "text": [
      "\"2018 FIFA World Cup:\" - match for pattern 7469410445798573543 in span (0, 5)\n"
     ]
    }
   ],
   "source": [
    "pattern = [\n",
    "    {\"IS_DIGIT\": True},\n",
    "    {\"LOWER\": \"fifa\"},\n",
    "    {\"LOWER\": \"world\"},\n",
    "    {\"LOWER\": \"cup\"},\n",
    "    {\"IS_PUNCT\": True}\n",
    "]\n",
    "matcher = Matcher(nlp.vocab)\n",
    "matcher.add(\"SOCCER_PATTERN\", [pattern])\n",
    "\n",
    "doc = nlp(\"2018 FIFA World Cup: France won!\")\n",
    "\n",
    "matches = matcher(doc)\n",
    "for pattern_id, start, end in matches:\n",
    "    matched_span = doc[start:end]\n",
    "    print('\"{}\" - match for pattern {} in span ({}, {})'.format(matched_span.text, pattern_id, start, end))"
   ]
  },
  {
   "cell_type": "markdown",
   "id": "1ffa2e42-3f00-4e25-b149-362e9751486d",
   "metadata": {},
   "source": [
    "In this example, we're looking for two tokens. A verb with the lemma \"love\", followed by a noun. Remember that a lemma is a canonical form of a word that has multiple variations, e.g., 'run' is a lemma for 'ran', 'running', and 'run'."
   ]
  },
  {
   "cell_type": "code",
   "execution_count": 21,
   "id": "647be67c-7ccc-44fe-9a3c-a40b2a8fa5a1",
   "metadata": {},
   "outputs": [
    {
     "name": "stdout",
     "output_type": "stream",
     "text": [
      "\"loved vanilla\" - match for pattern 4358456325055851256 in span (1, 3)\n",
      "\"love chocolate\" - match for pattern 4358456325055851256 in span (6, 8)\n"
     ]
    }
   ],
   "source": [
    "pattern = [\n",
    "    {\"LEMMA\": \"love\", \"POS\": \"VERB\"},\n",
    "    {\"POS\": \"NOUN\"}\n",
    "]\n",
    "matcher = Matcher(nlp.vocab)\n",
    "matcher.add(\"LOVE_PATTERN\", [pattern])\n",
    "\n",
    "doc = nlp(\"I loved vanilla but now I love chocolate more.\")\n",
    "\n",
    "matches = matcher(doc)\n",
    "for pattern_id, start, end in matches:\n",
    "    matched_span = doc[start:end]\n",
    "    print('\"{}\" - match for pattern {} in span ({}, {})'.format(matched_span.text, pattern_id, start, end))"
   ]
  },
  {
   "cell_type": "markdown",
   "id": "9b1e1f92-9333-400b-8b2e-d430ab773e43",
   "metadata": {},
   "source": [
    "Operators and quantifiers let you define how often a token should be matched. They can be added using the \"OP\" key. \"OP\" can have one of four values:\n",
    "\n",
    "- An \"!\" negates the token, so it's matched 0 times.\n",
    "- A \"?\" makes the token optional, and matches it 0 or 1 times.\n",
    "- A \"+\" matches a token 1 or more times.\n",
    "- And finally, an \"*\" matches 0 or more times.\n",
    "\n",
    "Operators can make your patterns a lot more powerful, but they also add more complexity – so use them wisely.\n",
    "\n",
    "Here, the \"?\" operator makes the determiner token optional, so it will match a token with the lemma \"buy\", an optional article and a noun."
   ]
  },
  {
   "cell_type": "code",
   "execution_count": 22,
   "id": "167c9fe8-7938-4dba-afc5-0d76fb9df9cc",
   "metadata": {},
   "outputs": [
    {
     "name": "stdout",
     "output_type": "stream",
     "text": [
      "\"bought a smartphone\" - match for pattern 8301083161022457728 in span (1, 4)\n",
      "\"buying apps\" - match for pattern 8301083161022457728 in span (8, 10)\n"
     ]
    }
   ],
   "source": [
    "pattern = [\n",
    "    {\"LEMMA\": \"buy\"},\n",
    "    {\"POS\": \"DET\", \"OP\": \"?\"},  # optional: match 0 or 1 times\n",
    "    {\"POS\": \"NOUN\"}\n",
    "]\n",
    "matcher = Matcher(nlp.vocab)\n",
    "matcher.add(\"BUY_PATTERN\", [pattern])\n",
    "\n",
    "doc = nlp(\"I bought a smartphone. Now I'm buying apps.\")\n",
    "\n",
    "matches = matcher(doc)\n",
    "for pattern_id, start, end in matches:\n",
    "    matched_span = doc[start:end]\n",
    "    print('\"{}\" - match for pattern {} in span ({}, {})'.format(matched_span.text, pattern_id, start, end))"
   ]
  },
  {
   "cell_type": "markdown",
   "id": "d192471f-7215-46dd-b2ee-e6debf3ef79a",
   "metadata": {},
   "source": [
    "Try writing code to match names of iOS versions in the text below, e.g., \"iOS 5\", and \"iOS 13\""
   ]
  },
  {
   "cell_type": "code",
   "execution_count": 23,
   "id": "e445e44f-4af0-4a50-a142-8f37f3d14f38",
   "metadata": {},
   "outputs": [
    {
     "name": "stdout",
     "output_type": "stream",
     "text": [
      "\"iOS 7\" - match for pattern 2870259198116999432 in span (25, 27)\n",
      "\"iOS 11\" - match for pattern 2870259198116999432 in span (31, 33)\n",
      "\"iOS 10\" - match for pattern 2870259198116999432 in span (40, 42)\n"
     ]
    }
   ],
   "source": [
    "text = \"\"\"After making the iOS update you won't notice a radical system-wide\n",
    "redesign: nothing like the aesthetic upheaval we got with iOS 7. Most of\n",
    "iOS 11's furniture remains the same as in iOS 10. But you will discover some\n",
    "tweaks once you delve a little deeper.\"\"\"\n",
    "\n",
    "# TODO\n",
    "\n",
    "# Solution\n",
    "matcher = Matcher(nlp.vocab)\n",
    "\n",
    "# Write a pattern for full iOS versions (\"iOS 7\", \"iOS 11\", \"iOS 10\")\n",
    "pattern = [{\"TEXT\": \"iOS\"}, {\"IS_DIGIT\": True}]\n",
    "\n",
    "# Add the pattern to the matcher and apply the matcher to the doc\n",
    "matcher.add(\"IOS_VERSION_PATTERN\", [pattern])\n",
    "\n",
    "# Iterate over the matches and print the span text\n",
    "doc = nlp(text)\n",
    "matches = matcher(doc)\n",
    "for pattern_id, start, end in matches:\n",
    "    matched_span = doc[start:end]\n",
    "    print('\"{}\" - match for pattern {} in span ({}, {})'.format(matched_span.text, pattern_id, start, end))"
   ]
  },
  {
   "cell_type": "markdown",
   "id": "52d1f7e0-8512-4c1d-b9ac-2f9f66412b80",
   "metadata": {},
   "source": [
    "Now try writing code to match forms of “download” (tokens with the lemma “download”), followed by a token with the part-of-speech tag \"PROPN\" (proper noun)."
   ]
  },
  {
   "cell_type": "code",
   "execution_count": 24,
   "id": "44ebc19a-9921-4f3d-a7f9-9c5fee3e8d97",
   "metadata": {},
   "outputs": [
    {
     "name": "stdout",
     "output_type": "stream",
     "text": [
      "\"downloaded Fortnite\" - match for pattern 1475109908168048428 in span (1, 3)\n",
      "\"downloading Minecraft\" - match for pattern 1475109908168048428 in span (22, 24)\n",
      "\"download Winzip\" - match for pattern 1475109908168048428 in span (55, 57)\n"
     ]
    }
   ],
   "source": [
    "text = \"\"\"i downloaded Fortnite on my laptop and can't open the game at all. Help?\n",
    "so when I was downloading Minecraft, I got the Windows version where it\n",
    "is the '.zip' folder and I used the default program to unpack it... do\n",
    "I also need to download Winzip?\"\"\"\n",
    "\n",
    "# TODO\n",
    "\n",
    "# Solution\n",
    "matcher = Matcher(nlp.vocab)\n",
    "\n",
    "# Write a pattern that matches a form of \"download\" plus proper noun\n",
    "pattern = [{\"LEMMA\": \"download\"}, {\"POS\": \"PROPN\"}]\n",
    "\n",
    "# Add the pattern to the matcher and apply the matcher to the doc\n",
    "matcher.add(\"DOWNLOAD_THINGS_PATTERN\", [pattern])\n",
    "\n",
    "# Iterate over the matches and print the span text\n",
    "doc = nlp(text)\n",
    "matches = matcher(doc)\n",
    "for pattern_id, start, end in matches:\n",
    "    matched_span = doc[start:end]\n",
    "    print('\"{}\" - match for pattern {} in span ({}, {})'.format(matched_span.text, pattern_id, start, end))"
   ]
  },
  {
   "cell_type": "markdown",
   "id": "794491ec-4b3a-4277-8774-eeae574de4d0",
   "metadata": {},
   "source": [
    "Finally, write a pattern that matches an adjective (`ADJ`) followed by one or two nouns (`NOUN`)."
   ]
  },
  {
   "cell_type": "code",
   "execution_count": 25,
   "id": "9583c4e5-b4fe-4b50-b991-a2d9f814c6cd",
   "metadata": {},
   "outputs": [
    {
     "name": "stdout",
     "output_type": "stream",
     "text": [
      "\"beautiful design\" - match for pattern 5488211386492616699 in span (6, 8)\n",
      "\"smart search\" - match for pattern 5488211386492616699 in span (9, 11)\n",
      "\"automatic labels\" - match for pattern 5488211386492616699 in span (12, 14)\n",
      "\"optional voice\" - match for pattern 5488211386492616699 in span (15, 17)\n",
      "\"optional voice responses\" - match for pattern 5488211386492616699 in span (15, 18)\n"
     ]
    }
   ],
   "source": [
    "text = \"Features of the app include a beautiful design, smart search, automatic labels and optional voice responses.\"\n",
    "\n",
    "# TODO\n",
    "\n",
    "# Solution\n",
    "matcher = Matcher(nlp.vocab)\n",
    "\n",
    "# Write a pattern that matches a form of \"download\" plus proper noun\n",
    "pattern = [{\"POS\": \"ADJ\"}, {\"POS\": \"NOUN\"}, {\"POS\": \"NOUN\", \"OP\": \"?\"}]\n",
    "\n",
    "# Add the pattern to the matcher and apply the matcher to the doc\n",
    "matcher.add(\"ADJ_NOUN_PATTERN\", [pattern])\n",
    "\n",
    "# Iterate over the matches and print the span text\n",
    "doc = nlp(text)\n",
    "matches = matcher(doc)\n",
    "for pattern_id, start, end in matches:\n",
    "    matched_span = doc[start:end]\n",
    "    print('\"{}\" - match for pattern {} in span ({}, {})'.format(matched_span.text, pattern_id, start, end))"
   ]
  },
  {
   "cell_type": "markdown",
   "id": "1d277cb7-ccd8-4c01-9d04-52c075b85b98",
   "metadata": {},
   "source": [
    "# Customising Processing\n",
    "\n",
    "spaCy stores all shared data in a vocabulary, the Vocab. This includes words, but also the labels schemes for tags and entities. To save memory, all strings are encoded to hash IDs. If a word occurs more than once, we don't need to save it every time. Instead, spaCy uses a hash function to generate an ID and stores the string only once in the string store. The string store is available as nlp.vocab.strings.\n",
    "\n",
    "It's a lookup table that works in both directions. You can look up a string and get its hash, and look up a hash to get its string value. Internally, spaCy only communicates in hash IDs."
   ]
  },
  {
   "cell_type": "code",
   "execution_count": 26,
   "id": "aa78f14e-423f-4a18-b9e5-1da841e227ea",
   "metadata": {},
   "outputs": [
    {
     "name": "stdout",
     "output_type": "stream",
     "text": [
      "14949295185858420483\n",
      "hat\n"
     ]
    }
   ],
   "source": [
    "nlp = spacy.blank(\"en\")\n",
    "\n",
    "# Look up the hash for the word \"hat\"\n",
    "hat_hash = nlp.vocab.strings[\"hat\"]\n",
    "print(hat_hash)\n",
    "\n",
    "# Look up the cat_hash to get the string\n",
    "hat_string = nlp.vocab.strings[hat_hash]\n",
    "print(hat_string)"
   ]
  },
  {
   "cell_type": "markdown",
   "id": "4cd2c4e4-665a-4e69-86f2-b498932b0cee",
   "metadata": {},
   "source": [
    "Lexemes are context-independent entries in the vocabulary. You can get a lexeme by looking up a string or a hash ID in the vocab. Lexemes expose attributes, just like tokens. They hold context-independent information about a word, like the text, or whether the word consists of alphabetic characters."
   ]
  },
  {
   "cell_type": "code",
   "execution_count": 27,
   "id": "8400cac0-9ab7-4e03-92ba-3a7a351cbbc8",
   "metadata": {},
   "outputs": [
    {
     "name": "stdout",
     "output_type": "stream",
     "text": [
      "tea 6041671307218480733 True\n"
     ]
    }
   ],
   "source": [
    "lexeme = nlp.vocab[\"tea\"]\n",
    "\n",
    "# Print the lexical attributes\n",
    "print(lexeme.text, lexeme.orth, lexeme.is_alpha)"
   ]
  },
  {
   "cell_type": "markdown",
   "id": "a59f934f-7ce3-4b08-8942-e6ff44fac6be",
   "metadata": {},
   "source": [
    "So far, we've been creating `Doc`s by passing in some text and letting spaCy tokenise the text. We can also provide pre-tokenised text:"
   ]
  },
  {
   "cell_type": "code",
   "execution_count": 28,
   "id": "e89cf424-461b-4fbb-a266-a1f6d26577f9",
   "metadata": {},
   "outputs": [
    {
     "name": "stdout",
     "output_type": "stream",
     "text": [
      "Hello world!\n"
     ]
    }
   ],
   "source": [
    "# Import the Doc class\n",
    "from spacy.tokens import Doc\n",
    "\n",
    "# The words to create the doc from\n",
    "words = [\"Hello\", \"world\", \"!\"]\n",
    "# Boolean values, one for each word, indicating if there is a space after it in the text\n",
    "spaces = [True, False, False]\n",
    "\n",
    "# Create a doc manually\n",
    "doc = Doc(nlp.vocab, words=words, spaces=spaces)\n",
    "print(doc)"
   ]
  },
  {
   "cell_type": "markdown",
   "id": "7ed3e282-ec35-4019-93af-c7e39707ed84",
   "metadata": {},
   "source": [
    "Earlier we created spans from `Doc`s, but we can also create them manually and we can manually change the list of labeled spans in the doc (the entities, `ents`):"
   ]
  },
  {
   "cell_type": "code",
   "execution_count": 29,
   "id": "4e8482bb-1388-43ea-a6d9-54adb3abe3e2",
   "metadata": {},
   "outputs": [
    {
     "name": "stdout",
     "output_type": "stream",
     "text": [
      "Hello world!\n",
      "(Hello world,)\n"
     ]
    }
   ],
   "source": [
    "# Import the Doc and Span classes\n",
    "from spacy.tokens import Span\n",
    "\n",
    "# Create a span manually\n",
    "span = Span(doc, 0, 2)\n",
    "\n",
    "# Create a span with a label\n",
    "span_with_label = Span(doc, 0, 2, label=\"GREETING\")\n",
    "\n",
    "# Add span to the doc.ents\n",
    "doc.ents = [span_with_label]\n",
    "print(doc)\n",
    "print(doc.ents)"
   ]
  },
  {
   "attachments": {
    "b41be0ab-3280-4525-8d4e-a8c2e5b856f3.png": {
     "image/png": "[encoded data removed]"
    }
   },
   "cell_type": "markdown",
   "id": "a789e86d-9c6d-4f48-9f25-039eb12ceb83",
   "metadata": {},
   "source": [
    "You've already written this plenty of times by now: pass a string of text to the nlp object, and receive a Doc object.\n",
    "\n",
    "But what does the nlp object actually do?\n",
    "\n",
    "First, the tokenizer is applied to turn the string of text into a Doc object. Next, a series of pipeline components is applied to the doc in order. In this case, the tagger, then the parser, then the entity recognizer. Finally, the processed doc is returned, so you can work with it.\n",
    "\n",
    "![image.png](https://course.spacy.io/pipeline.png)\n",
    "\n",
    "spaCy ships with a variety of built-in pipeline components. Here are some of the most common ones that you'll want to use in your projects.\n",
    "\n",
    "- The part-of-speech tagger sets the token.tag and token.pos attributes.\n",
    "- The dependency parser adds the token.dep and token.head attributes and is also responsible for detecting sentences and base noun phrases, also known as noun chunks.\n",
    "- The named entity recognizer adds the detected entities to the doc.ents property. It also sets entity type attributes on the tokens that indicate if a token is part of an entity or not.\n",
    "- Finally, the text classifier sets category labels that apply to the whole text, and adds them to the doc.cats property.\n",
    "\n",
    "Because text categories are always very specific, the text classifier is not included in any of the trained pipelines by default. But you can use it to train your own system.\n",
    "\n"
   ]
  },
  {
   "cell_type": "code",
   "execution_count": 30,
   "id": "9f47108d-51e7-4953-9e92-35ab7b58763d",
   "metadata": {},
   "outputs": [
    {
     "name": "stdout",
     "output_type": "stream",
     "text": [
      "[]\n",
      "[]\n"
     ]
    }
   ],
   "source": [
    "# List the components for the current nlp pipeline\n",
    "print(nlp.pipe_names)\n",
    "\n",
    "# Print the names and their corresponding objects\n",
    "print(nlp.pipeline)"
   ]
  },
  {
   "cell_type": "markdown",
   "id": "799737b6-7171-4165-8228-a9b71bcdf2cc",
   "metadata": {},
   "source": [
    "You can also create your own components. Each pipeline component is a function or callable that takes a doc, modifies it and returns it, so it can be processed by the next component in the pipeline.\n",
    "\n",
    "To tell spaCy where to find your custom component and how it should be called, you can decorate it using the @Language.component decorator. \n",
    " Once a component is registered, it can be added to the pipeline using the nlp.add_pipe method. The method takes at least one argument: the string name of the component.\n",
    "\n",
    "Below, we create a custom component that will print the length of the document as part of processing it."
   ]
  },
  {
   "cell_type": "code",
   "execution_count": 31,
   "id": "9b7adbc2-c4f1-4a58-973d-0b719f2bfbb2",
   "metadata": {},
   "outputs": [
    {
     "name": "stdout",
     "output_type": "stream",
     "text": [
      "Pipeline: ['custom_component', 'tok2vec', 'tagger', 'parser', 'attribute_ruler', 'lemmatizer', 'ner']\n",
      "Doc length: 4\n"
     ]
    }
   ],
   "source": [
    "from spacy.language import Language\n",
    "\n",
    "# Create the nlp object\n",
    "nlp = spacy.load(\"en_core_web_sm\")\n",
    "\n",
    "# Define a custom component\n",
    "@Language.component(\"custom_component\")\n",
    "def custom_component_function(doc):\n",
    "    # Print the doc's length\n",
    "    print(\"Doc length:\", len(doc))\n",
    "    # Return the doc object\n",
    "    return doc\n",
    "\n",
    "# Add the component first in the pipeline\n",
    "nlp.add_pipe(\"custom_component\", first=True)\n",
    "\n",
    "# Print the pipeline component names\n",
    "print(\"Pipeline:\", nlp.pipe_names)\n",
    "\n",
    "# Run pipeline\n",
    "doc = nlp(\"A sample sentence.\")"
   ]
  },
  {
   "cell_type": "markdown",
   "id": "d92850dd-24c3-43ab-96df-357192212da3",
   "metadata": {},
   "source": [
    "# Task 2\n",
    "\n",
    "We're going to combine several ideas from above in this task. Implement a new pipeline component that uses a matcher to find the following insects:\n",
    "\n",
    "- flies\n",
    "- mosquitos\n",
    "- moths\n",
    "\n",
    "Your matcher should then modify the documents entities to have a span for each insect, with the label `INSECT`. Remember to use lemmas to account for different ways of writing an insect's name and to use POS tags to ensure you only identify nouns.\n",
    "\n",
    "Run your new pipeline on the provided text."
   ]
  },
  {
   "cell_type": "code",
   "execution_count": 32,
   "id": "06cba671-d84c-49ca-9154-db8ded3315f0",
   "metadata": {},
   "outputs": [
    {
     "name": "stdout",
     "output_type": "stream",
     "text": [
      "[('moths', 'INSECT'), ('mosquitos', 'INSECT'), ('fly', 'INSECT'), ('Mosquitos', 'INSECT')]\n"
     ]
    }
   ],
   "source": [
    "text = \"Qantas flies all sorts of cargo! That includes moths, mosquitos, and even the occasional fly. Mosquitos are particular hard to transport safely.\"\n",
    "\n",
    "# TODO\n",
    "\n",
    "# Solution\n",
    "import spacy\n",
    "from spacy.language import Language\n",
    "from spacy.matcher import PhraseMatcher\n",
    "from spacy.tokens import Span\n",
    "\n",
    "nlp = spacy.load(\"en_core_web_sm\")\n",
    "matcher = Matcher(nlp.vocab)\n",
    "for insect in [\"moth\", \"fly\", \"mosquito\"]:\n",
    "    pattern = [{\"POS\": \"NOUN\", \"LEMMA\": insect}]\n",
    "    matcher.add(\"INSECT\", [pattern])\n",
    "\n",
    "# Define the custom component\n",
    "@Language.component(\"insect_component\")\n",
    "def insect_component_function(doc):\n",
    "    # Apply the matcher to the doc\n",
    "    matches = matcher(doc)\n",
    "    # Create a Span for each match and assign the label \"INSECT\"\n",
    "    spans = [Span(doc, start, end, label=\"INSECT\") for match_id, start, end in matches]\n",
    "    # Overwrite the doc.ents with the matched spans\n",
    "    doc.ents = spans\n",
    "    return doc\n",
    "\n",
    "# Add the component to the pipeline after the \"ner\" component\n",
    "nlp.add_pipe(\"insect_component\", after=\"ner\")\n",
    "\n",
    "# Process the text and print the text and label for the doc.ents\n",
    "doc = nlp(text)\n",
    "print([(ent.text, ent.label_) for ent in doc.ents])"
   ]
  },
  {
   "cell_type": "markdown",
   "id": "f5a7b0ab-34ec-4aee-87d2-b53f9eb216a1",
   "metadata": {},
   "source": [
    "# Word Vectors\n",
    "\n",
    "spaCy can compare two objects and predict how similar they are – for example, documents, spans or single tokens. The Doc, Token and Span objects have a .similarity method that takes another object and returns the cosine similarity of their representations.\n",
    "\n",
    "For words, the word vector is its representation. For spans and docs, the average of word vectors for the words inside them is used.\n",
    "\n",
    "One thing that's very important: In order to use similarity, you need a larger spaCy pipeline that has word vectors included. Of the ones we've used so far, `en_core_web_md` does have word vectors, but `en_core_web_sm` does not."
   ]
  },
  {
   "cell_type": "code",
   "execution_count": 33,
   "id": "7108f6d7-0857-40b0-b8c8-e2923f248a7b",
   "metadata": {},
   "outputs": [
    {
     "name": "stdout",
     "output_type": "stream",
     "text": [
      "[-7.5251e-01 -3.3480e+00 -2.9293e+00  3.6773e+00  6.7698e-01 -4.6221e+00\n",
      "  1.7471e+00  2.9072e+00 -1.1218e+00  1.9050e+00  6.1861e+00 -1.5307e+00\n",
      " -2.1315e-01 -4.9000e-01  3.1568e+00 -3.2417e+00  9.3068e-02 -1.6506e+00\n",
      "  1.8947e+00 -3.6223e+00 -1.4505e+00  2.8421e+00 -1.6908e+00 -4.7524e-01\n",
      " -5.5192e+00 -1.5492e+00 -3.2481e+00  4.3969e+00 -9.3570e-01  1.1385e+00\n",
      "  2.3373e+00  2.3882e+00 -1.5618e+00 -7.5315e-01 -5.9527e-01 -1.9020e+00\n",
      "  1.0459e+00  2.2420e-01 -9.4108e-01  4.8844e-01 -2.2083e+00  2.5857e+00\n",
      "  2.2875e+00  6.3069e-01  3.4058e+00  2.0758e+00 -1.0663e+00 -8.4464e-01\n",
      " -5.2534e-02 -7.9447e-01  3.0140e+00 -8.9454e-01  2.1576e+00 -3.0407e+00\n",
      "  1.3439e+00 -2.1920e-01 -6.2846e-02  1.1478e+00  2.8001e+00  2.6444e+00\n",
      "  2.6262e+00  2.2010e-02  1.4596e+00 -1.1558e+00  1.8789e-01  9.4600e-01\n",
      " -2.9744e+00 -2.2531e+00  7.7054e-01 -5.4315e-01 -2.2618e+00  2.2210e+00\n",
      " -1.2964e+00  1.0105e+00  5.8169e-01  3.5617e-01 -2.4568e-01 -2.0808e+00\n",
      "  3.5410e+00 -5.2889e-01 -2.8393e-01  4.8163e-01  1.7635e+00  7.4050e-01\n",
      "  6.7875e-01 -2.2662e-01  4.8440e+00  8.9114e-01 -2.5486e+00 -6.9544e-01\n",
      "  6.2643e-01  2.9279e-01  3.1008e+00 -3.2464e+00  1.5747e+00 -1.1993e+00\n",
      "  3.0120e+00 -1.0923e+00 -1.1773e+00 -2.2735e+00 -1.2936e+00 -1.3023e+00\n",
      "  1.0400e+00 -9.1724e-01  1.0221e+00  8.9763e-01 -3.4229e+00  2.7322e+00\n",
      " -2.2374e-01  4.8981e-01  5.6333e-01 -1.3467e+00  9.6163e-01 -7.6177e-01\n",
      " -3.1454e-01 -1.3337e+00  2.9608e+00 -3.7193e+00 -1.1941e+00 -1.0349e+00\n",
      " -2.5313e+00  1.7521e+00 -1.5778e+00  5.4771e-02  4.6839e-01 -1.9399e+00\n",
      " -1.3847e-01 -3.9830e+00  4.9884e+00 -4.8193e-01 -1.1701e+00  6.2994e-01\n",
      "  2.9822e+00 -2.4728e-01 -2.6371e+00  1.0801e+00 -2.2238e+00 -5.2203e+00\n",
      "  1.5099e+00 -1.8284e+00 -3.9196e-01  1.7773e+00 -6.8698e-01 -1.0951e+00\n",
      " -1.5319e+00  2.8311e+00  2.9736e-01 -1.5198e+00  1.3076e+00  5.9841e-01\n",
      " -5.2798e-01 -5.5499e-01 -3.4522e+00 -1.3115e+00 -1.0095e+00  3.3329e+00\n",
      "  6.5440e+00 -1.3999e+00  2.3499e+00 -2.4218e+00  6.9150e-01 -1.4240e+00\n",
      "  3.3080e-01 -1.2254e+00  3.7678e+00 -1.6502e+00 -1.6829e+00  2.3409e-01\n",
      "  8.3192e-01  2.0174e+00 -2.6225e+00 -3.7696e-01 -2.1272e-01  3.4416e+00\n",
      " -3.6619e+00 -2.1298e+00  9.7029e-01 -5.1133e-02  8.2768e-01 -1.2364e+00\n",
      "  5.9028e-02 -5.1805e-01 -1.0821e+00 -1.7695e+00 -2.9489e-02 -2.5980e+00\n",
      " -4.9045e-02 -6.9158e-01  9.1347e-01 -4.6027e-01 -1.9500e+00  2.0457e+00\n",
      " -1.7526e+00  2.7582e+00  3.6836e-02 -2.3929e+00 -1.3635e+00  2.1516e+00\n",
      "  1.1975e+00 -1.2935e+00  1.4003e+00 -1.5616e+00 -7.1990e-01 -1.2839e-01\n",
      "  1.5071e+00 -2.8197e+00 -5.9906e-01 -3.1609e-01  4.8745e+00  1.7453e+00\n",
      "  4.0927e+00 -5.4239e-01 -6.3825e-04  3.3456e+00  1.4135e+00  2.0070e-01\n",
      "  1.8593e+00  1.0568e+00 -2.4357e+00  2.3165e+00  5.5872e-01 -1.6893e+00\n",
      " -2.2931e+00  1.6865e+00 -2.2543e+00 -1.6019e+00  6.9584e-01  2.5392e+00\n",
      " -3.3192e-01  3.2114e+00 -2.1623e+00 -9.7765e-01 -8.8937e-01 -5.1731e-01\n",
      " -2.1990e+00  4.1397e+00  4.2648e-01  4.6854e+00  1.0355e+00  1.4013e+00\n",
      " -1.0843e-01 -5.9694e-01 -4.0420e-01  4.2305e+00 -5.2332e-01  4.1959e+00\n",
      " -2.2805e-02 -6.3223e-01 -6.5072e-01 -1.7390e+00 -3.0675e+00  3.9072e+00\n",
      " -2.6396e+00 -2.4627e+00 -3.1164e-01 -2.5056e+00 -1.6382e+00  3.2290e+00\n",
      " -2.6652e+00 -7.3372e-01  9.6020e-01  4.3881e+00 -1.2500e+00  1.2498e+00\n",
      "  1.9080e-01  1.9253e+00  1.8284e+00 -2.3579e+00 -3.3646e+00  6.8795e-01\n",
      "  1.2263e+00 -9.3136e-01  5.5192e-01  1.1171e+00 -2.8175e+00 -2.6307e+00\n",
      "  1.4002e-01  3.1652e-01 -5.7089e-01 -1.2883e+00  9.8610e-01 -1.0684e+00\n",
      " -7.9920e-02 -2.6351e+00 -1.4276e+00 -5.3942e-01 -1.3570e+00 -6.0974e-01\n",
      " -2.2030e+00  2.0585e+00 -4.2257e-01 -1.5917e+00 -1.1557e+00 -2.8138e+00\n",
      " -2.9554e+00  7.3769e-01  1.8321e+00  3.3371e+00 -1.4004e-01  1.3980e+00]\n",
      "Comparing sentences: 0.869833325851152\n",
      "Comparing 'pizza' and 'paste': 0.6850197911262512\n"
     ]
    }
   ],
   "source": [
    "# Load a larger pipeline with vectors\n",
    "nlp = spacy.load(\"en_core_web_md\")\n",
    "\n",
    "# Look at one word vector\n",
    "doc = nlp(\"I love chocolate\")\n",
    "print(doc[2].vector)\n",
    "\n",
    "# Compare two documents\n",
    "doc1 = nlp(\"I like fast food\")\n",
    "doc2 = nlp(\"I like pizza\")\n",
    "print(\"Comparing sentences:\", doc1.similarity(doc2))\n",
    "\n",
    "# Compare two tokens\n",
    "doc = nlp(\"I like pizza and pasta\")\n",
    "token1 = doc[2]\n",
    "token2 = doc[4]\n",
    "print(\"Comparing 'pizza' and 'paste':\", token1.similarity(token2))"
   ]
  },
  {
   "cell_type": "markdown",
   "id": "430a5878-5129-4f86-9177-15b1993b1de9",
   "metadata": {},
   "source": [
    "# Useful Tips\n",
    "\n",
    "**Fast Processing** - If you need to process a lot of texts and create a lot of `Doc` objects in a row, the `nlp.pipe` method can speed this up significantly. It processes the texts as a stream and yields Doc objects."
   ]
  },
  {
   "cell_type": "code",
   "execution_count": 34,
   "id": "cb3719af-8705-4138-aad8-a212db2790e7",
   "metadata": {},
   "outputs": [
    {
     "name": "stdout",
     "output_type": "stream",
     "text": [
      "First example!\n",
      "Second example.\n"
     ]
    }
   ],
   "source": [
    "LOTS_OF_TEXTS = [\"First example!\", \"Second example.\"]\n",
    "\n",
    "for doc in nlp.pipe(LOTS_OF_TEXTS):\n",
    "    print(doc)"
   ]
  },
  {
   "cell_type": "markdown",
   "id": "6098d74d-71a8-4676-8e90-ec2881eb69bd",
   "metadata": {},
   "source": [
    "**Context** - If you want to keep some information associated with each document, you can specify a context and it will be passed through the nlp pipe command. You can then write code to save it as a new property of the document."
   ]
  },
  {
   "cell_type": "code",
   "execution_count": 35,
   "id": "97f50d1a-88c1-4e08-be1d-2d11ea857a7a",
   "metadata": {},
   "outputs": [
    {
     "name": "stdout",
     "output_type": "stream",
     "text": [
      "This is a text 1\n",
      "And another text 2\n"
     ]
    }
   ],
   "source": [
    "data = [\n",
    "    (\"This is a text\", {\"id\": 1, \"page_number\": 15}),\n",
    "    (\"And another text\", {\"id\": 2, \"page_number\": 16}),\n",
    "]\n",
    "\n",
    "# Define new class members for the document\n",
    "try:\n",
    "    Doc.set_extension(\"id\", default=None)\n",
    "    Doc.set_extension(\"page_number\", default=None)\n",
    "except ValueError:\n",
    "    print(\"Catching an error that happens if you run this cell of the notebook twice.\")\n",
    "    \n",
    "# Put values in the class as we iterate over the documents\n",
    "for doc, context in nlp.pipe(data, as_tuples=True):\n",
    "    doc._.id = context[\"id\"]\n",
    "    doc._.page_number = context[\"page_number\"]\n",
    "    print(doc.text, doc._.id)"
   ]
  },
  {
   "cell_type": "markdown",
   "id": "62749236-a8da-4537-8b36-ae5603a73ca5",
   "metadata": {},
   "source": [
    "**Skip Pipeline Steps** - Sometimes you don't need all of the spaCy components. Skip some "
   ]
  },
  {
   "cell_type": "code",
   "execution_count": 36,
   "id": "5d5e2fe4-4a68-45da-a185-a79356d96d4e",
   "metadata": {},
   "outputs": [
    {
     "name": "stdout",
     "output_type": "stream",
     "text": [
      "Tags with normal pipeline: ['DT', 'VBZ', 'DT', 'NN', 'NN', '.']\n",
      "Tags with just make_doc: ['', '', '', '', '', '']\n",
      "(Chick-fil-A, American, College Park, Georgia)\n",
      "Tags without tagger: ['', '', '', '', '', '', '', '', '', '', '', '', '', '', '_SP', '', '', '', '', '', '', '', '', '', '', '', '', '']\n"
     ]
    },
    {
     "name": "stderr",
     "output_type": "stream",
     "text": [
      "/Users/jkum0593/teaching/comp5046-2024/env-5046/lib/python3.9/site-packages/spacy/pipeline/lemmatizer.py:211: UserWarning: [W108] The rule-based lemmatizer did not find POS annotation for one or more tokens. Check that your pipeline includes components that assign token.pos, typically 'tagger'+'attribute_ruler' or 'morphologizer'.\n",
      "  warnings.warn(Warnings.W108)\n"
     ]
    }
   ],
   "source": [
    "doc = nlp(\"This is a fun course.\")\n",
    "print(\"Tags with normal pipeline:\", [t.tag_ for t in doc])\n",
    "\n",
    "# Create a doc, but don't run any pipeline steps\n",
    "doc = nlp.make_doc(\"This is a fun course.\")\n",
    "print(\"Tags with just make_doc:\", [t.tag_ for t in doc])\n",
    "\n",
    "text = \"\"\"Chick-fil-A is an American fast food restaurant chain headquartered in \n",
    "the city of College Park, Georgia, specializing in chicken sandwiches.\"\"\"\n",
    "\n",
    "# Disable the tagger and lemmatizer\n",
    "with nlp.select_pipes(disable=[\"tagger\", \"parser\"]):\n",
    "    # Process the text\n",
    "    doc = nlp(text)\n",
    "    # Print the entities in the doc\n",
    "    print(doc.ents)\n",
    "    print(\"Tags without tagger:\", [t.tag_ for t in doc])"
   ]
  }
 ],
 "metadata": {
  "kernelspec": {
   "display_name": "Python 3 (ipykernel)",
   "language": "python",
   "name": "python3"
  },
  "language_info": {
   "codemirror_mode": {
    "name": "ipython",
    "version": 3
   },
   "file_extension": ".py",
   "mimetype": "text/x-python",
   "name": "python",
   "nbconvert_exporter": "python",
   "pygments_lexer": "ipython3",
   "version": "3.9.6"
  }
 },
 "nbformat": 4,
 "nbformat_minor": 5
}
